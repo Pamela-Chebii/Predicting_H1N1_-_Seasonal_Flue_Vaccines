{
 "cells": [
  {
   "cell_type": "markdown",
   "metadata": {},
   "source": [
    "##### **PROJECT TITLE:** `PREDICTING THE LIKELIHOOD OF INDIVIDUALS TAKING H1N1 FLU AND SEASONAL FLU VACCINES USING LOGISTIC REGRESSION MODEL AND DECISION TREE CLASSIFIER (ID3) MODELS`"
   ]
  },
  {
   "cell_type": "markdown",
   "metadata": {},
   "source": [
    "**PRESENTER:** `PAMELA JEPKORIR CHEBII`"
   ]
  },
  {
   "cell_type": "markdown",
   "metadata": {},
   "source": [
    "## **`BUSINESS UNDERSTANDING`**\n",
    "\n",
    "### **`Introduction`**\n",
    "\n",
    "Vaccination is a key public health measure used to fight infectious diseases.It is a simple, safe, and effective way of protecting a person against harmful diseases, before they come into contact with them (WHO, 2024). Vaccines provide immunization for individuals, and enough immunization in a community can further reduce the spread of diseases through \"herd immunity.\"\n",
    "\n",
    "\n",
    "### **Project Overview**\n",
    "Mpox, just like covid 19 that affected the entire world in 2020,  is a new viral infection which can spread between people, mainly through close contact, and occasionally from the environment to people via things and surfaces that have been touched by a person with mpox (WHO, 2024). It is an illness caused by the monkeypox virus. 3 cases of Mpox at the time of writing this have been reported in Kenya but the vaccines for the disease are still under development.\n",
    "\n",
    "The data for this research on uptake of vaccines based on opinions, demoraphics and doctor's recommendation is from United States National 2009 H1N1 Flu Survey collected to monitor vaccination rates during the US Government Vaccination Campaign that began in October 2009. A phone survey was used to ask people whether they had received H1N1 and seasonal flu vaccines, in conjunction with information they shared about their lives, opinions, and behaviors.\n",
    "\n",
    "### **`Objectives`**\n",
    "- To predict whether people got H1N1 and Seasonal Flue Vaccines using infromation shared about their backgrounds, opinions and Health Behaviour.\n",
    "- To determine the best performing model in predicting Vaccines\n"
   ]
  },
  {
   "cell_type": "markdown",
   "metadata": {},
   "source": [
    "## **`DATA UNDERSTANDING`**\n",
    "\n",
    "Here, the different sets of data as downloaded from the **`DRIVENDATA`** data repository are described:\n",
    "\n",
    "**Training Features**: \n",
    "- These are the input variables that the model will use to predict the probability that people received H1N1 flu and seasonal flu vaccines. There are 35 feature columns in total, each a response to a survey question. These questions cover several different topics, such as whether people observed safe behavioral practices, their opinions about the diseases and the vaccines, and their demographics.\n",
    "\n",
    "**Training Labels**:\n",
    "- These are the labels corresponding to the observations in the training features. There are two target variables: h1n1_vaccine and seasonal_vaccine. Both are binary variables, with 1 indicating that a person received the respective flu vaccine and 0 indicating that a person did not receive the respective flu vaccine. This is a \"multilabel\" modeling task.\n",
    "\n",
    "**Test Features**:\n",
    "- These are the features for observations that will be used to generate the submission predictions after training a model.\n",
    "\n",
    "**Submission Format**:\n",
    "- This file serves as an example for how to format submission.\n",
    "\n",
    "## **`DESCRIPTION OF FEATURES AND LABELS`**\n",
    "\n",
    "### **`FEATURES DATASET`**\n",
    "\n",
    "The features dataset has 36 columns. The first column respondent_id is a unique and random identifier. The remaining 35 features are described below:\n",
    "\n",
    "**For all binary variables**: 0 = No; 1 = Yes.\n",
    "\n",
    "- **h1n1_concern** - Level of concern about the H1N1 flu.\n",
    "0 = Not at all concerned; 1 = Not very concerned; 2 = Somewhat concerned; 3 = Very concerned.\n",
    "\n",
    "- **h1n1_knowledge** - Level of knowledge about H1N1 flu.\n",
    "0 = No knowledge; 1 = A little knowledge; 2 = A lot of knowledge.\n",
    "- **behavioral_antiviral_meds** - Has taken antiviral medications. (binary)\n",
    "- **behavioral_avoidance** - Has avoided close contact with others with flu-like symptoms. (binary)\n",
    "- **behavioral_face_mask** - Has bought a face mask. (binary)\n",
    "- **behavioral_wash_hands** - Has frequently washed hands or used hand sanitizer. (binary)\n",
    "- **behavioral_large_gatherings** - Has reduced time at large gatherings. (binary)\n",
    "- **behavioral_outside_home** - Has reduced contact with people outside of own household. (binary)\n",
    "- **behavioral_touch_face**- Has avoided touching eyes, nose, or mouth. (binary)\n",
    "- **doctor_recc_h1n1** - H1N1 flu vaccine was recommended by doctor. (binary)\n",
    "- **doctor_recc_seasonal** - Seasonal flu vaccine was recommended by doctor. (binary)\n",
    "- **chronic_med_condition** - Has any of the following chronic medical conditions: asthma or an other lung condition, diabetes, a heart condition, a kidney condition, sickle cell anemia or other anemia, a neurological or neuromuscular condition, a liver condition, or a weakened immune system caused by a chronic illness or by medicines taken for a chronic illness. (binary)\n",
    "- **child_under_6_months** - Has regular close contact with a child under the age of six months. (binary)\n",
    "- **health_worker**- Is a healthcare worker. (binary)\n",
    "- **health_insurance**- Has health insurance. (binary)\n",
    "- **opinion_h1n1_vacc_effective**- Respondent's opinion about H1N1 vaccine effectiveness.\n",
    "1 = Not at all effective; 2 = Not very effective; 3 = Don't know; 4 = Somewhat effective; 5 = Very effective.\n",
    "- **opinion_h1n1_risk** - Respondent's opinion about risk of getting sick with H1N1 flu without vaccine.\n",
    "1 = Very Low; 2 = Somewhat low; 3 = Don't know; 4 = Somewhat high; 5 = Very high.\n",
    "- **opinion_h1n1_sick_from_vacc** - Respondent's worry of getting sick from taking H1N1 vaccine.\n",
    "1 = Not at all worried; 2 = Not very worried; 3 = Don't know; 4 = Somewhat worried; 5 = Very worried.\n",
    "opinion_seas_vacc_effective - Respondent's opinion about seasonal flu vaccine effectiveness.\n",
    "1 = Not at all effective; 2 = Not very effective; 3 = Don't know; 4 = Somewhat effective; 5 = Very effective.\n",
    "- **opinion_seas_risk** - Respondent's opinion about risk of getting sick with seasonal flu without vaccine.\n",
    "1 = Very Low; 2 = Somewhat low; 3 = Don't know; 4 = Somewhat high; 5 = Very high.\n",
    "- **opinion_seas_sick_from_vacc** - Respondent's worry of getting sick from taking seasonal flu vaccine.\n",
    "1 = Not at all worried; 2 = Not very worried; 3 = Don't know; 4 = Somewhat worried; 5 = Very worried.\n",
    "- **age_group** - Age group of respondent.\n",
    "- **education** - Self-reported education level.\n",
    "- **race**- Race of respondent.\n",
    "- **sex**- Sex of respondent.\n",
    "- **income_poverty** - Household annual income of respondent with respect to 2008 Census poverty thresholds.\n",
    "- **marital_status** - Marital status of respondent.\n",
    "- **rent_or_own** - Housing situation of respondent.\n",
    "- **employment_status** - Employment status of respondent.\n",
    "- **hhs_geo_region**- Respondent's residence using a 10-region geographic classification defined by the U.S. Dept. of Health and Human Services. Values are represented as short random character strings.\n",
    "- **census_msa** - Respondent's residence within metropolitan statistical areas (MSA) as defined by the U.S. Census.\n",
    "- **household_adults** - Number of other adults in household, top-coded to 3.\n",
    "- **household_children** - Number of children in household, top-coded to 3.\n",
    "- **employment_industry** - Type of industry respondent is employed in. Values are represented as short random character strings.\n",
    "- **employment_occupation** - Type of occupation of respondent. Values are represented as short random character strings.\n",
    "\n",
    "\n",
    "### **`Labels Dataset`**\n",
    "\n",
    "There are two target variables:\n",
    "\n",
    "- **h1n1_vaccine** - Whether respondent received H1N1 flu vaccine.\n",
    "- **seasonal_vaccine** - Whether respondent received seasonal flu vaccine.\n",
    "\n",
    "Both are binary variables: 0 = No; 1 = Yes. Some respondents didn't get either vaccine, others got only one, and some got both. This is formulated as a multilabel (and not multiclass) problem.\n"
   ]
  },
  {
   "cell_type": "markdown",
   "metadata": {},
   "source": [
    "### Importing the libraries that will be used to load and explore the data"
   ]
  },
  {
   "cell_type": "code",
   "execution_count": 1,
   "metadata": {},
   "outputs": [],
   "source": [
    "import pandas as pd\n",
    "import numpy as np"
   ]
  },
  {
   "cell_type": "markdown",
   "metadata": {},
   "source": [
    "### Load and explore the features dataset"
   ]
  },
  {
   "cell_type": "code",
   "execution_count": 2,
   "metadata": {},
   "outputs": [
    {
     "data": {
      "text/html": [
       "<div>\n",
       "<style scoped>\n",
       "    .dataframe tbody tr th:only-of-type {\n",
       "        vertical-align: middle;\n",
       "    }\n",
       "\n",
       "    .dataframe tbody tr th {\n",
       "        vertical-align: top;\n",
       "    }\n",
       "\n",
       "    .dataframe thead th {\n",
       "        text-align: right;\n",
       "    }\n",
       "</style>\n",
       "<table border=\"1\" class=\"dataframe\">\n",
       "  <thead>\n",
       "    <tr style=\"text-align: right;\">\n",
       "      <th></th>\n",
       "      <th>h1n1_concern</th>\n",
       "      <th>h1n1_knowledge</th>\n",
       "      <th>behavioral_antiviral_meds</th>\n",
       "      <th>behavioral_avoidance</th>\n",
       "      <th>behavioral_face_mask</th>\n",
       "      <th>behavioral_wash_hands</th>\n",
       "      <th>behavioral_large_gatherings</th>\n",
       "      <th>behavioral_outside_home</th>\n",
       "      <th>behavioral_touch_face</th>\n",
       "      <th>doctor_recc_h1n1</th>\n",
       "      <th>...</th>\n",
       "      <th>income_poverty</th>\n",
       "      <th>marital_status</th>\n",
       "      <th>rent_or_own</th>\n",
       "      <th>employment_status</th>\n",
       "      <th>hhs_geo_region</th>\n",
       "      <th>census_msa</th>\n",
       "      <th>household_adults</th>\n",
       "      <th>household_children</th>\n",
       "      <th>employment_industry</th>\n",
       "      <th>employment_occupation</th>\n",
       "    </tr>\n",
       "    <tr>\n",
       "      <th>respondent_id</th>\n",
       "      <th></th>\n",
       "      <th></th>\n",
       "      <th></th>\n",
       "      <th></th>\n",
       "      <th></th>\n",
       "      <th></th>\n",
       "      <th></th>\n",
       "      <th></th>\n",
       "      <th></th>\n",
       "      <th></th>\n",
       "      <th></th>\n",
       "      <th></th>\n",
       "      <th></th>\n",
       "      <th></th>\n",
       "      <th></th>\n",
       "      <th></th>\n",
       "      <th></th>\n",
       "      <th></th>\n",
       "      <th></th>\n",
       "      <th></th>\n",
       "      <th></th>\n",
       "    </tr>\n",
       "  </thead>\n",
       "  <tbody>\n",
       "    <tr>\n",
       "      <th>0</th>\n",
       "      <td>1.0</td>\n",
       "      <td>0.0</td>\n",
       "      <td>0.0</td>\n",
       "      <td>0.0</td>\n",
       "      <td>0.0</td>\n",
       "      <td>0.0</td>\n",
       "      <td>0.0</td>\n",
       "      <td>1.0</td>\n",
       "      <td>1.0</td>\n",
       "      <td>0.0</td>\n",
       "      <td>...</td>\n",
       "      <td>Below Poverty</td>\n",
       "      <td>Not Married</td>\n",
       "      <td>Own</td>\n",
       "      <td>Not in Labor Force</td>\n",
       "      <td>oxchjgsf</td>\n",
       "      <td>Non-MSA</td>\n",
       "      <td>0.0</td>\n",
       "      <td>0.0</td>\n",
       "      <td>NaN</td>\n",
       "      <td>NaN</td>\n",
       "    </tr>\n",
       "    <tr>\n",
       "      <th>1</th>\n",
       "      <td>3.0</td>\n",
       "      <td>2.0</td>\n",
       "      <td>0.0</td>\n",
       "      <td>1.0</td>\n",
       "      <td>0.0</td>\n",
       "      <td>1.0</td>\n",
       "      <td>0.0</td>\n",
       "      <td>1.0</td>\n",
       "      <td>1.0</td>\n",
       "      <td>0.0</td>\n",
       "      <td>...</td>\n",
       "      <td>Below Poverty</td>\n",
       "      <td>Not Married</td>\n",
       "      <td>Rent</td>\n",
       "      <td>Employed</td>\n",
       "      <td>bhuqouqj</td>\n",
       "      <td>MSA, Not Principle  City</td>\n",
       "      <td>0.0</td>\n",
       "      <td>0.0</td>\n",
       "      <td>pxcmvdjn</td>\n",
       "      <td>xgwztkwe</td>\n",
       "    </tr>\n",
       "    <tr>\n",
       "      <th>2</th>\n",
       "      <td>1.0</td>\n",
       "      <td>1.0</td>\n",
       "      <td>0.0</td>\n",
       "      <td>1.0</td>\n",
       "      <td>0.0</td>\n",
       "      <td>0.0</td>\n",
       "      <td>0.0</td>\n",
       "      <td>0.0</td>\n",
       "      <td>0.0</td>\n",
       "      <td>NaN</td>\n",
       "      <td>...</td>\n",
       "      <td>&lt;= $75,000, Above Poverty</td>\n",
       "      <td>Not Married</td>\n",
       "      <td>Own</td>\n",
       "      <td>Employed</td>\n",
       "      <td>qufhixun</td>\n",
       "      <td>MSA, Not Principle  City</td>\n",
       "      <td>2.0</td>\n",
       "      <td>0.0</td>\n",
       "      <td>rucpziij</td>\n",
       "      <td>xtkaffoo</td>\n",
       "    </tr>\n",
       "    <tr>\n",
       "      <th>3</th>\n",
       "      <td>1.0</td>\n",
       "      <td>1.0</td>\n",
       "      <td>0.0</td>\n",
       "      <td>1.0</td>\n",
       "      <td>0.0</td>\n",
       "      <td>1.0</td>\n",
       "      <td>1.0</td>\n",
       "      <td>0.0</td>\n",
       "      <td>0.0</td>\n",
       "      <td>0.0</td>\n",
       "      <td>...</td>\n",
       "      <td>Below Poverty</td>\n",
       "      <td>Not Married</td>\n",
       "      <td>Rent</td>\n",
       "      <td>Not in Labor Force</td>\n",
       "      <td>lrircsnp</td>\n",
       "      <td>MSA, Principle City</td>\n",
       "      <td>0.0</td>\n",
       "      <td>0.0</td>\n",
       "      <td>NaN</td>\n",
       "      <td>NaN</td>\n",
       "    </tr>\n",
       "    <tr>\n",
       "      <th>4</th>\n",
       "      <td>2.0</td>\n",
       "      <td>1.0</td>\n",
       "      <td>0.0</td>\n",
       "      <td>1.0</td>\n",
       "      <td>0.0</td>\n",
       "      <td>1.0</td>\n",
       "      <td>1.0</td>\n",
       "      <td>0.0</td>\n",
       "      <td>1.0</td>\n",
       "      <td>0.0</td>\n",
       "      <td>...</td>\n",
       "      <td>&lt;= $75,000, Above Poverty</td>\n",
       "      <td>Married</td>\n",
       "      <td>Own</td>\n",
       "      <td>Employed</td>\n",
       "      <td>qufhixun</td>\n",
       "      <td>MSA, Not Principle  City</td>\n",
       "      <td>1.0</td>\n",
       "      <td>0.0</td>\n",
       "      <td>wxleyezf</td>\n",
       "      <td>emcorrxb</td>\n",
       "    </tr>\n",
       "  </tbody>\n",
       "</table>\n",
       "<p>5 rows × 35 columns</p>\n",
       "</div>"
      ],
      "text/plain": [
       "               h1n1_concern  h1n1_knowledge  behavioral_antiviral_meds  \\\n",
       "respondent_id                                                            \n",
       "0                       1.0             0.0                        0.0   \n",
       "1                       3.0             2.0                        0.0   \n",
       "2                       1.0             1.0                        0.0   \n",
       "3                       1.0             1.0                        0.0   \n",
       "4                       2.0             1.0                        0.0   \n",
       "\n",
       "               behavioral_avoidance  behavioral_face_mask  \\\n",
       "respondent_id                                               \n",
       "0                               0.0                   0.0   \n",
       "1                               1.0                   0.0   \n",
       "2                               1.0                   0.0   \n",
       "3                               1.0                   0.0   \n",
       "4                               1.0                   0.0   \n",
       "\n",
       "               behavioral_wash_hands  behavioral_large_gatherings  \\\n",
       "respondent_id                                                       \n",
       "0                                0.0                          0.0   \n",
       "1                                1.0                          0.0   \n",
       "2                                0.0                          0.0   \n",
       "3                                1.0                          1.0   \n",
       "4                                1.0                          1.0   \n",
       "\n",
       "               behavioral_outside_home  behavioral_touch_face  \\\n",
       "respondent_id                                                   \n",
       "0                                  1.0                    1.0   \n",
       "1                                  1.0                    1.0   \n",
       "2                                  0.0                    0.0   \n",
       "3                                  0.0                    0.0   \n",
       "4                                  0.0                    1.0   \n",
       "\n",
       "               doctor_recc_h1n1  ...             income_poverty  \\\n",
       "respondent_id                    ...                              \n",
       "0                           0.0  ...              Below Poverty   \n",
       "1                           0.0  ...              Below Poverty   \n",
       "2                           NaN  ...  <= $75,000, Above Poverty   \n",
       "3                           0.0  ...              Below Poverty   \n",
       "4                           0.0  ...  <= $75,000, Above Poverty   \n",
       "\n",
       "               marital_status  rent_or_own   employment_status  \\\n",
       "respondent_id                                                    \n",
       "0                 Not Married          Own  Not in Labor Force   \n",
       "1                 Not Married         Rent            Employed   \n",
       "2                 Not Married          Own            Employed   \n",
       "3                 Not Married         Rent  Not in Labor Force   \n",
       "4                     Married          Own            Employed   \n",
       "\n",
       "               hhs_geo_region                census_msa  household_adults  \\\n",
       "respondent_id                                                               \n",
       "0                    oxchjgsf                   Non-MSA               0.0   \n",
       "1                    bhuqouqj  MSA, Not Principle  City               0.0   \n",
       "2                    qufhixun  MSA, Not Principle  City               2.0   \n",
       "3                    lrircsnp       MSA, Principle City               0.0   \n",
       "4                    qufhixun  MSA, Not Principle  City               1.0   \n",
       "\n",
       "               household_children  employment_industry  employment_occupation  \n",
       "respondent_id                                                                  \n",
       "0                             0.0                  NaN                    NaN  \n",
       "1                             0.0             pxcmvdjn               xgwztkwe  \n",
       "2                             0.0             rucpziij               xtkaffoo  \n",
       "3                             0.0                  NaN                    NaN  \n",
       "4                             0.0             wxleyezf               emcorrxb  \n",
       "\n",
       "[5 rows x 35 columns]"
      ]
     },
     "execution_count": 2,
     "metadata": {},
     "output_type": "execute_result"
    }
   ],
   "source": [
    "features_df = pd.read_csv(\"Data/training_set_features.csv\", index_col = \"respondent_id\")\n",
    "features_df.head()"
   ]
  },
  {
   "cell_type": "markdown",
   "metadata": {},
   "source": [
    "#### Check the shape of the features dataset"
   ]
  },
  {
   "cell_type": "code",
   "execution_count": 3,
   "metadata": {},
   "outputs": [
    {
     "data": {
      "text/plain": [
       "(26707, 35)"
      ]
     },
     "execution_count": 3,
     "metadata": {},
     "output_type": "execute_result"
    }
   ],
   "source": [
    "features_df.shape"
   ]
  },
  {
   "cell_type": "markdown",
   "metadata": {},
   "source": [
    "- The dataset has 26,707 observations and 35 features.\n",
    "- Each row represents a person who took part in the survey as a respondent \n",
    "- The columns are the values corresponding to the participants in the survey"
   ]
  },
  {
   "cell_type": "markdown",
   "metadata": {},
   "source": [
    "#### checking the info of the features dataset"
   ]
  },
  {
   "cell_type": "code",
   "execution_count": 4,
   "metadata": {},
   "outputs": [
    {
     "name": "stdout",
     "output_type": "stream",
     "text": [
      "<class 'pandas.core.frame.DataFrame'>\n",
      "Int64Index: 26707 entries, 0 to 26706\n",
      "Data columns (total 35 columns):\n",
      " #   Column                       Non-Null Count  Dtype  \n",
      "---  ------                       --------------  -----  \n",
      " 0   h1n1_concern                 26615 non-null  float64\n",
      " 1   h1n1_knowledge               26591 non-null  float64\n",
      " 2   behavioral_antiviral_meds    26636 non-null  float64\n",
      " 3   behavioral_avoidance         26499 non-null  float64\n",
      " 4   behavioral_face_mask         26688 non-null  float64\n",
      " 5   behavioral_wash_hands        26665 non-null  float64\n",
      " 6   behavioral_large_gatherings  26620 non-null  float64\n",
      " 7   behavioral_outside_home      26625 non-null  float64\n",
      " 8   behavioral_touch_face        26579 non-null  float64\n",
      " 9   doctor_recc_h1n1             24547 non-null  float64\n",
      " 10  doctor_recc_seasonal         24547 non-null  float64\n",
      " 11  chronic_med_condition        25736 non-null  float64\n",
      " 12  child_under_6_months         25887 non-null  float64\n",
      " 13  health_worker                25903 non-null  float64\n",
      " 14  health_insurance             14433 non-null  float64\n",
      " 15  opinion_h1n1_vacc_effective  26316 non-null  float64\n",
      " 16  opinion_h1n1_risk            26319 non-null  float64\n",
      " 17  opinion_h1n1_sick_from_vacc  26312 non-null  float64\n",
      " 18  opinion_seas_vacc_effective  26245 non-null  float64\n",
      " 19  opinion_seas_risk            26193 non-null  float64\n",
      " 20  opinion_seas_sick_from_vacc  26170 non-null  float64\n",
      " 21  age_group                    26707 non-null  object \n",
      " 22  education                    25300 non-null  object \n",
      " 23  race                         26707 non-null  object \n",
      " 24  sex                          26707 non-null  object \n",
      " 25  income_poverty               22284 non-null  object \n",
      " 26  marital_status               25299 non-null  object \n",
      " 27  rent_or_own                  24665 non-null  object \n",
      " 28  employment_status            25244 non-null  object \n",
      " 29  hhs_geo_region               26707 non-null  object \n",
      " 30  census_msa                   26707 non-null  object \n",
      " 31  household_adults             26458 non-null  float64\n",
      " 32  household_children           26458 non-null  float64\n",
      " 33  employment_industry          13377 non-null  object \n",
      " 34  employment_occupation        13237 non-null  object \n",
      "dtypes: float64(23), object(12)\n",
      "memory usage: 7.3+ MB\n"
     ]
    }
   ],
   "source": [
    "features_df.info()"
   ]
  },
  {
   "cell_type": "markdown",
   "metadata": {},
   "source": [
    "- The dataset contains both object and float datatypes.\n",
    "- The feautures of type float are 23 in number whereas the features of object data type are 12 in number"
   ]
  },
  {
   "cell_type": "markdown",
   "metadata": {},
   "source": [
    "### Exporing the labels dataset"
   ]
  },
  {
   "cell_type": "code",
   "execution_count": 5,
   "metadata": {},
   "outputs": [
    {
     "data": {
      "text/html": [
       "<div>\n",
       "<style scoped>\n",
       "    .dataframe tbody tr th:only-of-type {\n",
       "        vertical-align: middle;\n",
       "    }\n",
       "\n",
       "    .dataframe tbody tr th {\n",
       "        vertical-align: top;\n",
       "    }\n",
       "\n",
       "    .dataframe thead th {\n",
       "        text-align: right;\n",
       "    }\n",
       "</style>\n",
       "<table border=\"1\" class=\"dataframe\">\n",
       "  <thead>\n",
       "    <tr style=\"text-align: right;\">\n",
       "      <th></th>\n",
       "      <th>h1n1_vaccine</th>\n",
       "      <th>seasonal_vaccine</th>\n",
       "    </tr>\n",
       "    <tr>\n",
       "      <th>respondent_id</th>\n",
       "      <th></th>\n",
       "      <th></th>\n",
       "    </tr>\n",
       "  </thead>\n",
       "  <tbody>\n",
       "    <tr>\n",
       "      <th>0</th>\n",
       "      <td>0</td>\n",
       "      <td>0</td>\n",
       "    </tr>\n",
       "    <tr>\n",
       "      <th>1</th>\n",
       "      <td>0</td>\n",
       "      <td>1</td>\n",
       "    </tr>\n",
       "    <tr>\n",
       "      <th>2</th>\n",
       "      <td>0</td>\n",
       "      <td>0</td>\n",
       "    </tr>\n",
       "    <tr>\n",
       "      <th>3</th>\n",
       "      <td>0</td>\n",
       "      <td>1</td>\n",
       "    </tr>\n",
       "    <tr>\n",
       "      <th>4</th>\n",
       "      <td>0</td>\n",
       "      <td>0</td>\n",
       "    </tr>\n",
       "  </tbody>\n",
       "</table>\n",
       "</div>"
      ],
      "text/plain": [
       "               h1n1_vaccine  seasonal_vaccine\n",
       "respondent_id                                \n",
       "0                         0                 0\n",
       "1                         0                 1\n",
       "2                         0                 0\n",
       "3                         0                 1\n",
       "4                         0                 0"
      ]
     },
     "execution_count": 5,
     "metadata": {},
     "output_type": "execute_result"
    }
   ],
   "source": [
    "# load the data\n",
    "labels_df = pd.read_csv(\"Data/training_set_labels.csv\", index_col=\"respondent_id\")\n",
    "labels_df.head()"
   ]
  },
  {
   "cell_type": "markdown",
   "metadata": {},
   "source": [
    "#### check the shape of the labels dataset"
   ]
  },
  {
   "cell_type": "code",
   "execution_count": 6,
   "metadata": {},
   "outputs": [
    {
     "data": {
      "text/plain": [
       "(26707, 2)"
      ]
     },
     "execution_count": 6,
     "metadata": {},
     "output_type": "execute_result"
    }
   ],
   "source": [
    "labels_df.shape"
   ]
  },
  {
   "cell_type": "markdown",
   "metadata": {},
   "source": [
    "- The labels dataset has 26,707 observations just like the features dataset\n",
    "- It dataset has two target variables. "
   ]
  },
  {
   "cell_type": "markdown",
   "metadata": {},
   "source": [
    "## EXPLORATORY DATA ANALYSIS"
   ]
  },
  {
   "cell_type": "code",
   "execution_count": 7,
   "metadata": {},
   "outputs": [],
   "source": [
    "#import files for exploration\n",
    "import matplotlib.pyplot as plt\n",
    "%matplotlib inline\n",
    "import seaborn as sns"
   ]
  },
  {
   "cell_type": "markdown",
   "metadata": {},
   "source": [
    "### Exploring Labels (Target Variables)"
   ]
  },
  {
   "cell_type": "markdown",
   "metadata": {},
   "source": [
    "#### The distribution of the target variables is explored here"
   ]
  },
  {
   "cell_type": "code",
   "execution_count": 8,
   "metadata": {},
   "outputs": [
    {
     "data": {
      "image/png": "[encoded data removed]",
      "text/plain": [
       "<Figure size 432x288 with 2 Axes>"
      ]
     },
     "metadata": {
      "needs_background": "light"
     },
     "output_type": "display_data"
    }
   ],
   "source": [
    "fig, ax = plt.subplots(2, 1, sharex=True)\n",
    "\n",
    "total_obs = labels_df.shape[0]\n",
    "\n",
    "labels_df['h1n1_vaccine'].value_counts().div(total_obs).plot.barh(title=\"Proportion of H1N1 Flu Vaccine\", ax=ax[0])\n",
    "\n",
    "ax[0].set_ylabel(\"h1n1_vaccine\")\n",
    "\n",
    "labels_df['seasonal_vaccine'].value_counts().div(total_obs).plot.barh(title=\"Proportion of Seasonal Flu Vaccine\", ax=ax[1])\n",
    "\n",
    "ax[1].set_ylabel(\"seasonal_vaccine\")\n",
    "\n",
    "fig.tight_layout()"
   ]
  },
  {
   "cell_type": "markdown",
   "metadata": {},
   "source": [
    "- From the bar graph it is clear that almost 50% of the people received the seasonal flu vaccine but only about 20% of the people received the H1N1 flue Vaccine.\n",
    "- The seasonal flu vaccine has balanced classes since both class 0 and class 1 have almost equal distribution.\n",
    "- The H1N1 Flu Vaccine has imbalanced classes since class 0 is almost 80% whereas class 1 has only 20% distribution."
   ]
  },
  {
   "cell_type": "markdown",
   "metadata": {},
   "source": [
    "#### check how the vaccination status of participants is distributed between the two types of vaccines."
   ]
  },
  {
   "cell_type": "code",
   "execution_count": 9,
   "metadata": {},
   "outputs": [
    {
     "data": {
      "text/html": [
       "<div>\n",
       "<style scoped>\n",
       "    .dataframe tbody tr th:only-of-type {\n",
       "        vertical-align: middle;\n",
       "    }\n",
       "\n",
       "    .dataframe tbody tr th {\n",
       "        vertical-align: top;\n",
       "    }\n",
       "\n",
       "    .dataframe thead th {\n",
       "        text-align: right;\n",
       "    }\n",
       "</style>\n",
       "<table border=\"1\" class=\"dataframe\">\n",
       "  <thead>\n",
       "    <tr style=\"text-align: right;\">\n",
       "      <th>seasonal_vaccine</th>\n",
       "      <th>0</th>\n",
       "      <th>1</th>\n",
       "      <th>All</th>\n",
       "    </tr>\n",
       "    <tr>\n",
       "      <th>h1n1_vaccine</th>\n",
       "      <th></th>\n",
       "      <th></th>\n",
       "      <th></th>\n",
       "    </tr>\n",
       "  </thead>\n",
       "  <tbody>\n",
       "    <tr>\n",
       "      <th>0</th>\n",
       "      <td>0.497810</td>\n",
       "      <td>0.289737</td>\n",
       "      <td>0.787546</td>\n",
       "    </tr>\n",
       "    <tr>\n",
       "      <th>1</th>\n",
       "      <td>0.036582</td>\n",
       "      <td>0.175871</td>\n",
       "      <td>0.212454</td>\n",
       "    </tr>\n",
       "    <tr>\n",
       "      <th>All</th>\n",
       "      <td>0.534392</td>\n",
       "      <td>0.465608</td>\n",
       "      <td>1.000000</td>\n",
       "    </tr>\n",
       "  </tbody>\n",
       "</table>\n",
       "</div>"
      ],
      "text/plain": [
       "seasonal_vaccine         0         1       All\n",
       "h1n1_vaccine                                  \n",
       "0                 0.497810  0.289737  0.787546\n",
       "1                 0.036582  0.175871  0.212454\n",
       "All               0.534392  0.465608  1.000000"
      ]
     },
     "execution_count": 9,
     "metadata": {},
     "output_type": "execute_result"
    }
   ],
   "source": [
    "pd.crosstab(labels_df[\"h1n1_vaccine\"], labels_df[\"seasonal_vaccine\"], margins=True, normalize=True)"
   ]
  },
  {
   "cell_type": "markdown",
   "metadata": {},
   "source": [
    "- From the table it is clear that a large percentage of the population did not receive any vaccine (49.8%) represented as 0.497810 in the table\n",
    "- Approximately 29% of the population received the seasonal vaccine repsented as 0.289737 in the table\n",
    "- Only about 17.6% of the population received both vaccines (0.175871).\n",
    "- About 3.7% (0.036582) received only the H1N1 vaccine but not the seasonal vaccine "
   ]
  },
  {
   "cell_type": "markdown",
   "metadata": {},
   "source": [
    "### Exploring Combined data set"
   ]
  },
  {
   "cell_type": "markdown",
   "metadata": {},
   "source": [
    "#### Combining the features and labels dataframes"
   ]
  },
  {
   "cell_type": "code",
   "execution_count": 10,
   "metadata": {},
   "outputs": [
    {
     "data": {
      "text/html": [
       "<div>\n",
       "<style scoped>\n",
       "    .dataframe tbody tr th:only-of-type {\n",
       "        vertical-align: middle;\n",
       "    }\n",
       "\n",
       "    .dataframe tbody tr th {\n",
       "        vertical-align: top;\n",
       "    }\n",
       "\n",
       "    .dataframe thead th {\n",
       "        text-align: right;\n",
       "    }\n",
       "</style>\n",
       "<table border=\"1\" class=\"dataframe\">\n",
       "  <thead>\n",
       "    <tr style=\"text-align: right;\">\n",
       "      <th></th>\n",
       "      <th>h1n1_concern</th>\n",
       "      <th>h1n1_knowledge</th>\n",
       "      <th>behavioral_antiviral_meds</th>\n",
       "      <th>behavioral_avoidance</th>\n",
       "      <th>behavioral_face_mask</th>\n",
       "      <th>behavioral_wash_hands</th>\n",
       "      <th>behavioral_large_gatherings</th>\n",
       "      <th>behavioral_outside_home</th>\n",
       "      <th>behavioral_touch_face</th>\n",
       "      <th>doctor_recc_h1n1</th>\n",
       "      <th>...</th>\n",
       "      <th>rent_or_own</th>\n",
       "      <th>employment_status</th>\n",
       "      <th>hhs_geo_region</th>\n",
       "      <th>census_msa</th>\n",
       "      <th>household_adults</th>\n",
       "      <th>household_children</th>\n",
       "      <th>employment_industry</th>\n",
       "      <th>employment_occupation</th>\n",
       "      <th>h1n1_vaccine</th>\n",
       "      <th>seasonal_vaccine</th>\n",
       "    </tr>\n",
       "    <tr>\n",
       "      <th>respondent_id</th>\n",
       "      <th></th>\n",
       "      <th></th>\n",
       "      <th></th>\n",
       "      <th></th>\n",
       "      <th></th>\n",
       "      <th></th>\n",
       "      <th></th>\n",
       "      <th></th>\n",
       "      <th></th>\n",
       "      <th></th>\n",
       "      <th></th>\n",
       "      <th></th>\n",
       "      <th></th>\n",
       "      <th></th>\n",
       "      <th></th>\n",
       "      <th></th>\n",
       "      <th></th>\n",
       "      <th></th>\n",
       "      <th></th>\n",
       "      <th></th>\n",
       "      <th></th>\n",
       "    </tr>\n",
       "  </thead>\n",
       "  <tbody>\n",
       "    <tr>\n",
       "      <th>0</th>\n",
       "      <td>1.0</td>\n",
       "      <td>0.0</td>\n",
       "      <td>0.0</td>\n",
       "      <td>0.0</td>\n",
       "      <td>0.0</td>\n",
       "      <td>0.0</td>\n",
       "      <td>0.0</td>\n",
       "      <td>1.0</td>\n",
       "      <td>1.0</td>\n",
       "      <td>0.0</td>\n",
       "      <td>...</td>\n",
       "      <td>Own</td>\n",
       "      <td>Not in Labor Force</td>\n",
       "      <td>oxchjgsf</td>\n",
       "      <td>Non-MSA</td>\n",
       "      <td>0.0</td>\n",
       "      <td>0.0</td>\n",
       "      <td>NaN</td>\n",
       "      <td>NaN</td>\n",
       "      <td>0</td>\n",
       "      <td>0</td>\n",
       "    </tr>\n",
       "    <tr>\n",
       "      <th>1</th>\n",
       "      <td>3.0</td>\n",
       "      <td>2.0</td>\n",
       "      <td>0.0</td>\n",
       "      <td>1.0</td>\n",
       "      <td>0.0</td>\n",
       "      <td>1.0</td>\n",
       "      <td>0.0</td>\n",
       "      <td>1.0</td>\n",
       "      <td>1.0</td>\n",
       "      <td>0.0</td>\n",
       "      <td>...</td>\n",
       "      <td>Rent</td>\n",
       "      <td>Employed</td>\n",
       "      <td>bhuqouqj</td>\n",
       "      <td>MSA, Not Principle  City</td>\n",
       "      <td>0.0</td>\n",
       "      <td>0.0</td>\n",
       "      <td>pxcmvdjn</td>\n",
       "      <td>xgwztkwe</td>\n",
       "      <td>0</td>\n",
       "      <td>1</td>\n",
       "    </tr>\n",
       "    <tr>\n",
       "      <th>2</th>\n",
       "      <td>1.0</td>\n",
       "      <td>1.0</td>\n",
       "      <td>0.0</td>\n",
       "      <td>1.0</td>\n",
       "      <td>0.0</td>\n",
       "      <td>0.0</td>\n",
       "      <td>0.0</td>\n",
       "      <td>0.0</td>\n",
       "      <td>0.0</td>\n",
       "      <td>NaN</td>\n",
       "      <td>...</td>\n",
       "      <td>Own</td>\n",
       "      <td>Employed</td>\n",
       "      <td>qufhixun</td>\n",
       "      <td>MSA, Not Principle  City</td>\n",
       "      <td>2.0</td>\n",
       "      <td>0.0</td>\n",
       "      <td>rucpziij</td>\n",
       "      <td>xtkaffoo</td>\n",
       "      <td>0</td>\n",
       "      <td>0</td>\n",
       "    </tr>\n",
       "    <tr>\n",
       "      <th>3</th>\n",
       "      <td>1.0</td>\n",
       "      <td>1.0</td>\n",
       "      <td>0.0</td>\n",
       "      <td>1.0</td>\n",
       "      <td>0.0</td>\n",
       "      <td>1.0</td>\n",
       "      <td>1.0</td>\n",
       "      <td>0.0</td>\n",
       "      <td>0.0</td>\n",
       "      <td>0.0</td>\n",
       "      <td>...</td>\n",
       "      <td>Rent</td>\n",
       "      <td>Not in Labor Force</td>\n",
       "      <td>lrircsnp</td>\n",
       "      <td>MSA, Principle City</td>\n",
       "      <td>0.0</td>\n",
       "      <td>0.0</td>\n",
       "      <td>NaN</td>\n",
       "      <td>NaN</td>\n",
       "      <td>0</td>\n",
       "      <td>1</td>\n",
       "    </tr>\n",
       "    <tr>\n",
       "      <th>4</th>\n",
       "      <td>2.0</td>\n",
       "      <td>1.0</td>\n",
       "      <td>0.0</td>\n",
       "      <td>1.0</td>\n",
       "      <td>0.0</td>\n",
       "      <td>1.0</td>\n",
       "      <td>1.0</td>\n",
       "      <td>0.0</td>\n",
       "      <td>1.0</td>\n",
       "      <td>0.0</td>\n",
       "      <td>...</td>\n",
       "      <td>Own</td>\n",
       "      <td>Employed</td>\n",
       "      <td>qufhixun</td>\n",
       "      <td>MSA, Not Principle  City</td>\n",
       "      <td>1.0</td>\n",
       "      <td>0.0</td>\n",
       "      <td>wxleyezf</td>\n",
       "      <td>emcorrxb</td>\n",
       "      <td>0</td>\n",
       "      <td>0</td>\n",
       "    </tr>\n",
       "  </tbody>\n",
       "</table>\n",
       "<p>5 rows × 37 columns</p>\n",
       "</div>"
      ],
      "text/plain": [
       "               h1n1_concern  h1n1_knowledge  behavioral_antiviral_meds  \\\n",
       "respondent_id                                                            \n",
       "0                       1.0             0.0                        0.0   \n",
       "1                       3.0             2.0                        0.0   \n",
       "2                       1.0             1.0                        0.0   \n",
       "3                       1.0             1.0                        0.0   \n",
       "4                       2.0             1.0                        0.0   \n",
       "\n",
       "               behavioral_avoidance  behavioral_face_mask  \\\n",
       "respondent_id                                               \n",
       "0                               0.0                   0.0   \n",
       "1                               1.0                   0.0   \n",
       "2                               1.0                   0.0   \n",
       "3                               1.0                   0.0   \n",
       "4                               1.0                   0.0   \n",
       "\n",
       "               behavioral_wash_hands  behavioral_large_gatherings  \\\n",
       "respondent_id                                                       \n",
       "0                                0.0                          0.0   \n",
       "1                                1.0                          0.0   \n",
       "2                                0.0                          0.0   \n",
       "3                                1.0                          1.0   \n",
       "4                                1.0                          1.0   \n",
       "\n",
       "               behavioral_outside_home  behavioral_touch_face  \\\n",
       "respondent_id                                                   \n",
       "0                                  1.0                    1.0   \n",
       "1                                  1.0                    1.0   \n",
       "2                                  0.0                    0.0   \n",
       "3                                  0.0                    0.0   \n",
       "4                                  0.0                    1.0   \n",
       "\n",
       "               doctor_recc_h1n1  ...  rent_or_own   employment_status  \\\n",
       "respondent_id                    ...                                    \n",
       "0                           0.0  ...          Own  Not in Labor Force   \n",
       "1                           0.0  ...         Rent            Employed   \n",
       "2                           NaN  ...          Own            Employed   \n",
       "3                           0.0  ...         Rent  Not in Labor Force   \n",
       "4                           0.0  ...          Own            Employed   \n",
       "\n",
       "               hhs_geo_region                census_msa  household_adults  \\\n",
       "respondent_id                                                               \n",
       "0                    oxchjgsf                   Non-MSA               0.0   \n",
       "1                    bhuqouqj  MSA, Not Principle  City               0.0   \n",
       "2                    qufhixun  MSA, Not Principle  City               2.0   \n",
       "3                    lrircsnp       MSA, Principle City               0.0   \n",
       "4                    qufhixun  MSA, Not Principle  City               1.0   \n",
       "\n",
       "               household_children  employment_industry  employment_occupation  \\\n",
       "respondent_id                                                                   \n",
       "0                             0.0                  NaN                    NaN   \n",
       "1                             0.0             pxcmvdjn               xgwztkwe   \n",
       "2                             0.0             rucpziij               xtkaffoo   \n",
       "3                             0.0                  NaN                    NaN   \n",
       "4                             0.0             wxleyezf               emcorrxb   \n",
       "\n",
       "               h1n1_vaccine  seasonal_vaccine  \n",
       "respondent_id                                  \n",
       "0                         0                 0  \n",
       "1                         0                 1  \n",
       "2                         0                 0  \n",
       "3                         0                 1  \n",
       "4                         0                 0  \n",
       "\n",
       "[5 rows x 37 columns]"
      ]
     },
     "execution_count": 10,
     "metadata": {},
     "output_type": "execute_result"
    }
   ],
   "source": [
    "combined_df = features_df.join(labels_df)\n",
    "combined_df.head()"
   ]
  },
  {
   "cell_type": "markdown",
   "metadata": {},
   "source": [
    "#### check the shape of the combined dataframe"
   ]
  },
  {
   "cell_type": "code",
   "execution_count": 11,
   "metadata": {},
   "outputs": [
    {
     "data": {
      "text/plain": [
       "(26707, 37)"
      ]
     },
     "execution_count": 11,
     "metadata": {},
     "output_type": "execute_result"
    }
   ],
   "source": [
    "combined_df.shape"
   ]
  },
  {
   "cell_type": "markdown",
   "metadata": {},
   "source": [
    "- The combined df still has the same number of observations (26, 707) and 37 columns (35 features and 2 target variables)"
   ]
  },
  {
   "cell_type": "markdown",
   "metadata": {},
   "source": [
    "#### Types of variables\n",
    "\n",
    "The dataset contains both categorical and numerical dataset.\n",
    "\n",
    "Here the data is divided into numerical and categorical data.\n"
   ]
  },
  {
   "cell_type": "markdown",
   "metadata": {},
   "source": [
    "##### Finding categorical data"
   ]
  },
  {
   "cell_type": "code",
   "execution_count": 12,
   "metadata": {},
   "outputs": [
    {
     "name": "stdout",
     "output_type": "stream",
     "text": [
      "There are 12 categorical variables\n",
      "\n",
      "The categorical variables are : ['age_group', 'education', 'race', 'sex', 'income_poverty', 'marital_status', 'rent_or_own', 'employment_status', 'hhs_geo_region', 'census_msa', 'employment_industry', 'employment_occupation']\n"
     ]
    }
   ],
   "source": [
    "categorical = [var for var in combined_df.columns if combined_df[var].dtype=='object']\n",
    "\n",
    "print('There are {} categorical variables\\n'.format(len(categorical)))\n",
    "\n",
    "print('The categorical variables are :', categorical)"
   ]
  },
  {
   "cell_type": "code",
   "execution_count": 13,
   "metadata": {},
   "outputs": [
    {
     "data": {
      "text/html": [
       "<div>\n",
       "<style scoped>\n",
       "    .dataframe tbody tr th:only-of-type {\n",
       "        vertical-align: middle;\n",
       "    }\n",
       "\n",
       "    .dataframe tbody tr th {\n",
       "        vertical-align: top;\n",
       "    }\n",
       "\n",
       "    .dataframe thead th {\n",
       "        text-align: right;\n",
       "    }\n",
       "</style>\n",
       "<table border=\"1\" class=\"dataframe\">\n",
       "  <thead>\n",
       "    <tr style=\"text-align: right;\">\n",
       "      <th></th>\n",
       "      <th>age_group</th>\n",
       "      <th>education</th>\n",
       "      <th>race</th>\n",
       "      <th>sex</th>\n",
       "      <th>income_poverty</th>\n",
       "      <th>marital_status</th>\n",
       "      <th>rent_or_own</th>\n",
       "      <th>employment_status</th>\n",
       "      <th>hhs_geo_region</th>\n",
       "      <th>census_msa</th>\n",
       "      <th>employment_industry</th>\n",
       "      <th>employment_occupation</th>\n",
       "    </tr>\n",
       "    <tr>\n",
       "      <th>respondent_id</th>\n",
       "      <th></th>\n",
       "      <th></th>\n",
       "      <th></th>\n",
       "      <th></th>\n",
       "      <th></th>\n",
       "      <th></th>\n",
       "      <th></th>\n",
       "      <th></th>\n",
       "      <th></th>\n",
       "      <th></th>\n",
       "      <th></th>\n",
       "      <th></th>\n",
       "    </tr>\n",
       "  </thead>\n",
       "  <tbody>\n",
       "    <tr>\n",
       "      <th>0</th>\n",
       "      <td>55 - 64 Years</td>\n",
       "      <td>&lt; 12 Years</td>\n",
       "      <td>White</td>\n",
       "      <td>Female</td>\n",
       "      <td>Below Poverty</td>\n",
       "      <td>Not Married</td>\n",
       "      <td>Own</td>\n",
       "      <td>Not in Labor Force</td>\n",
       "      <td>oxchjgsf</td>\n",
       "      <td>Non-MSA</td>\n",
       "      <td>NaN</td>\n",
       "      <td>NaN</td>\n",
       "    </tr>\n",
       "    <tr>\n",
       "      <th>1</th>\n",
       "      <td>35 - 44 Years</td>\n",
       "      <td>12 Years</td>\n",
       "      <td>White</td>\n",
       "      <td>Male</td>\n",
       "      <td>Below Poverty</td>\n",
       "      <td>Not Married</td>\n",
       "      <td>Rent</td>\n",
       "      <td>Employed</td>\n",
       "      <td>bhuqouqj</td>\n",
       "      <td>MSA, Not Principle  City</td>\n",
       "      <td>pxcmvdjn</td>\n",
       "      <td>xgwztkwe</td>\n",
       "    </tr>\n",
       "    <tr>\n",
       "      <th>2</th>\n",
       "      <td>18 - 34 Years</td>\n",
       "      <td>College Graduate</td>\n",
       "      <td>White</td>\n",
       "      <td>Male</td>\n",
       "      <td>&lt;= $75,000, Above Poverty</td>\n",
       "      <td>Not Married</td>\n",
       "      <td>Own</td>\n",
       "      <td>Employed</td>\n",
       "      <td>qufhixun</td>\n",
       "      <td>MSA, Not Principle  City</td>\n",
       "      <td>rucpziij</td>\n",
       "      <td>xtkaffoo</td>\n",
       "    </tr>\n",
       "    <tr>\n",
       "      <th>3</th>\n",
       "      <td>65+ Years</td>\n",
       "      <td>12 Years</td>\n",
       "      <td>White</td>\n",
       "      <td>Female</td>\n",
       "      <td>Below Poverty</td>\n",
       "      <td>Not Married</td>\n",
       "      <td>Rent</td>\n",
       "      <td>Not in Labor Force</td>\n",
       "      <td>lrircsnp</td>\n",
       "      <td>MSA, Principle City</td>\n",
       "      <td>NaN</td>\n",
       "      <td>NaN</td>\n",
       "    </tr>\n",
       "    <tr>\n",
       "      <th>4</th>\n",
       "      <td>45 - 54 Years</td>\n",
       "      <td>Some College</td>\n",
       "      <td>White</td>\n",
       "      <td>Female</td>\n",
       "      <td>&lt;= $75,000, Above Poverty</td>\n",
       "      <td>Married</td>\n",
       "      <td>Own</td>\n",
       "      <td>Employed</td>\n",
       "      <td>qufhixun</td>\n",
       "      <td>MSA, Not Principle  City</td>\n",
       "      <td>wxleyezf</td>\n",
       "      <td>emcorrxb</td>\n",
       "    </tr>\n",
       "  </tbody>\n",
       "</table>\n",
       "</div>"
      ],
      "text/plain": [
       "                   age_group         education   race     sex  \\\n",
       "respondent_id                                                   \n",
       "0              55 - 64 Years        < 12 Years  White  Female   \n",
       "1              35 - 44 Years          12 Years  White    Male   \n",
       "2              18 - 34 Years  College Graduate  White    Male   \n",
       "3                  65+ Years          12 Years  White  Female   \n",
       "4              45 - 54 Years      Some College  White  Female   \n",
       "\n",
       "                          income_poverty marital_status rent_or_own  \\\n",
       "respondent_id                                                         \n",
       "0                          Below Poverty    Not Married         Own   \n",
       "1                          Below Poverty    Not Married        Rent   \n",
       "2              <= $75,000, Above Poverty    Not Married         Own   \n",
       "3                          Below Poverty    Not Married        Rent   \n",
       "4              <= $75,000, Above Poverty        Married         Own   \n",
       "\n",
       "                employment_status hhs_geo_region                census_msa  \\\n",
       "respondent_id                                                                \n",
       "0              Not in Labor Force       oxchjgsf                   Non-MSA   \n",
       "1                        Employed       bhuqouqj  MSA, Not Principle  City   \n",
       "2                        Employed       qufhixun  MSA, Not Principle  City   \n",
       "3              Not in Labor Force       lrircsnp       MSA, Principle City   \n",
       "4                        Employed       qufhixun  MSA, Not Principle  City   \n",
       "\n",
       "              employment_industry employment_occupation  \n",
       "respondent_id                                            \n",
       "0                             NaN                   NaN  \n",
       "1                        pxcmvdjn              xgwztkwe  \n",
       "2                        rucpziij              xtkaffoo  \n",
       "3                             NaN                   NaN  \n",
       "4                        wxleyezf              emcorrxb  "
      ]
     },
     "execution_count": 13,
     "metadata": {},
     "output_type": "execute_result"
    }
   ],
   "source": [
    "# view categorical variables\n",
    "combined_df[categorical].head()"
   ]
  },
  {
   "cell_type": "markdown",
   "metadata": {},
   "source": [
    "##### Exploring Missing Values in Categorical Variables"
   ]
  },
  {
   "cell_type": "code",
   "execution_count": 14,
   "metadata": {},
   "outputs": [
    {
     "data": {
      "text/plain": [
       "age_group                    0\n",
       "education                 1407\n",
       "race                         0\n",
       "sex                          0\n",
       "income_poverty            4423\n",
       "marital_status            1408\n",
       "rent_or_own               2042\n",
       "employment_status         1463\n",
       "hhs_geo_region               0\n",
       "census_msa                   0\n",
       "employment_industry      13330\n",
       "employment_occupation    13470\n",
       "dtype: int64"
      ]
     },
     "execution_count": 14,
     "metadata": {},
     "output_type": "execute_result"
    }
   ],
   "source": [
    "combined_df[categorical].isnull().sum()"
   ]
  },
  {
   "cell_type": "markdown",
   "metadata": {},
   "source": [
    "##### print categorical variables with missing values"
   ]
  },
  {
   "cell_type": "code",
   "execution_count": 15,
   "metadata": {},
   "outputs": [
    {
     "name": "stdout",
     "output_type": "stream",
     "text": [
      "education                 1407\n",
      "income_poverty            4423\n",
      "marital_status            1408\n",
      "rent_or_own               2042\n",
      "employment_status         1463\n",
      "employment_industry      13330\n",
      "employment_occupation    13470\n",
      "dtype: int64\n"
     ]
    }
   ],
   "source": [
    "cat_missing = [var for var in categorical if combined_df[var].isnull().sum()!=0]\n",
    "\n",
    "print(combined_df[cat_missing].isnull().sum())"
   ]
  },
  {
   "cell_type": "markdown",
   "metadata": {},
   "source": [
    "- There are only 7 categorical variables in the dataset which contains missing values. These are `education`, `income_poverty `, `marital_status`, `rent_or_own` `employment_status`, `employment_industry`, and `employment_occupation`."
   ]
  },
  {
   "cell_type": "markdown",
   "metadata": {},
   "source": [
    "##### Check the frequency distribution of categorical variables"
   ]
  },
  {
   "cell_type": "code",
   "execution_count": 16,
   "metadata": {},
   "outputs": [
    {
     "name": "stdout",
     "output_type": "stream",
     "text": [
      "65+ Years        6843\n",
      "55 - 64 Years    5563\n",
      "45 - 54 Years    5238\n",
      "18 - 34 Years    5215\n",
      "35 - 44 Years    3848\n",
      "Name: age_group, dtype: int64\n",
      "College Graduate    10097\n",
      "Some College         7043\n",
      "12 Years             5797\n",
      "< 12 Years           2363\n",
      "Name: education, dtype: int64\n",
      "White                21222\n",
      "Black                 2118\n",
      "Hispanic              1755\n",
      "Other or Multiple     1612\n",
      "Name: race, dtype: int64\n",
      "Female    15858\n",
      "Male      10849\n",
      "Name: sex, dtype: int64\n",
      "<= $75,000, Above Poverty    12777\n",
      "> $75,000                     6810\n",
      "Below Poverty                 2697\n",
      "Name: income_poverty, dtype: int64\n",
      "Married        13555\n",
      "Not Married    11744\n",
      "Name: marital_status, dtype: int64\n",
      "Own     18736\n",
      "Rent     5929\n",
      "Name: rent_or_own, dtype: int64\n",
      "Employed              13560\n",
      "Not in Labor Force    10231\n",
      "Unemployed             1453\n",
      "Name: employment_status, dtype: int64\n",
      "lzgpxyit    4297\n",
      "fpwskwrf    3265\n",
      "qufhixun    3102\n",
      "oxchjgsf    2859\n",
      "kbazzjca    2858\n",
      "bhuqouqj    2846\n",
      "mlyzmhmf    2243\n",
      "lrircsnp    2078\n",
      "atmpeygn    2033\n",
      "dqpwygqj    1126\n",
      "Name: hhs_geo_region, dtype: int64\n",
      "MSA, Not Principle  City    11645\n",
      "MSA, Principle City          7864\n",
      "Non-MSA                      7198\n",
      "Name: census_msa, dtype: int64\n",
      "fcxhlnwr    2468\n",
      "wxleyezf    1804\n",
      "ldnlellj    1231\n",
      "pxcmvdjn    1037\n",
      "atmlpfrs     926\n",
      "arjwrbjb     871\n",
      "xicduogh     851\n",
      "mfikgejo     614\n",
      "vjjrobsf     527\n",
      "rucpziij     523\n",
      "xqicxuve     511\n",
      "saaquncn     338\n",
      "cfqqtusy     325\n",
      "nduyfdeo     286\n",
      "mcubkhph     275\n",
      "wlfvacwt     215\n",
      "dotnnunm     201\n",
      "haxffmxo     148\n",
      "msuufmds     124\n",
      "phxvnwax      89\n",
      "qnlwzans      13\n",
      "Name: employment_industry, dtype: int64\n",
      "xtkaffoo    1778\n",
      "mxkfnird    1509\n",
      "emcorrxb    1270\n",
      "cmhcxjea    1247\n",
      "xgwztkwe    1082\n",
      "hfxkjkmi     766\n",
      "qxajmpny     548\n",
      "xqwwgdyp     485\n",
      "kldqjyjy     469\n",
      "uqqtjvyb     452\n",
      "tfqavkke     388\n",
      "ukymxvdu     372\n",
      "vlluhbov     354\n",
      "oijqvulv     344\n",
      "ccgxvspp     341\n",
      "bxpfxfdn     331\n",
      "haliazsg     296\n",
      "rcertsgn     276\n",
      "xzmlyyjv     248\n",
      "dlvbwzss     227\n",
      "hodpvpew     208\n",
      "dcjcmpih     148\n",
      "pvmttkik      98\n",
      "Name: employment_occupation, dtype: int64\n"
     ]
    }
   ],
   "source": [
    "# view frequency of categorical variables\n",
    "\n",
    "for var in categorical: \n",
    "    \n",
    "    print(combined_df[var].value_counts())"
   ]
  },
  {
   "cell_type": "markdown",
   "metadata": {},
   "source": [
    "##### checking Cardinality \n",
    "\n",
    "Cardinality helps one to know the number of unique values contained in a particular variable"
   ]
  },
  {
   "cell_type": "code",
   "execution_count": 17,
   "metadata": {},
   "outputs": [
    {
     "name": "stdout",
     "output_type": "stream",
     "text": [
      "age_group  contains  5  labels\n",
      "education  contains  5  labels\n",
      "race  contains  4  labels\n",
      "sex  contains  2  labels\n",
      "income_poverty  contains  4  labels\n",
      "marital_status  contains  3  labels\n",
      "rent_or_own  contains  3  labels\n",
      "employment_status  contains  4  labels\n",
      "hhs_geo_region  contains  10  labels\n",
      "census_msa  contains  3  labels\n",
      "employment_industry  contains  22  labels\n",
      "employment_occupation  contains  24  labels\n"
     ]
    }
   ],
   "source": [
    "# check the number of variables in the categorical variables\n",
    "\n",
    "for var in categorical:\n",
    "    \n",
    "    print(var, ' contains ', len(combined_df[var].unique()), ' labels')"
   ]
  },
  {
   "cell_type": "markdown",
   "metadata": {},
   "source": [
    "- Apart from `employment_industry` and `employment_occupation` that contain 22 labels and 24 labels respectively, the rest of the variables contain less than 10 labels each.\n",
    "- All these variables are relatively small therefore no preprocessing needed."
   ]
  },
  {
   "cell_type": "markdown",
   "metadata": {},
   "source": [
    "#### Exploring Numerical Features"
   ]
  },
  {
   "cell_type": "code",
   "execution_count": 18,
   "metadata": {},
   "outputs": [
    {
     "name": "stdout",
     "output_type": "stream",
     "text": [
      "There are 23 numerical variables in the features dataset\n",
      "\n",
      "The numerical variables are : ['h1n1_concern', 'h1n1_knowledge', 'behavioral_antiviral_meds', 'behavioral_avoidance', 'behavioral_face_mask', 'behavioral_wash_hands', 'behavioral_large_gatherings', 'behavioral_outside_home', 'behavioral_touch_face', 'doctor_recc_h1n1', 'doctor_recc_seasonal', 'chronic_med_condition', 'child_under_6_months', 'health_worker', 'health_insurance', 'opinion_h1n1_vacc_effective', 'opinion_h1n1_risk', 'opinion_h1n1_sick_from_vacc', 'opinion_seas_vacc_effective', 'opinion_seas_risk', 'opinion_seas_sick_from_vacc', 'household_adults', 'household_children']\n"
     ]
    }
   ],
   "source": [
    "# check numerical features\n",
    "\n",
    "numerical = [var for var in features_df.columns if features_df[var].dtype!='object']\n",
    "\n",
    "\n",
    "print('There are {} numerical variables in the features dataset\\n'.format(len(numerical)))\n",
    "\n",
    "print('The numerical variables are :', numerical)"
   ]
  },
  {
   "cell_type": "code",
   "execution_count": 19,
   "metadata": {},
   "outputs": [
    {
     "data": {
      "text/html": [
       "<div>\n",
       "<style scoped>\n",
       "    .dataframe tbody tr th:only-of-type {\n",
       "        vertical-align: middle;\n",
       "    }\n",
       "\n",
       "    .dataframe tbody tr th {\n",
       "        vertical-align: top;\n",
       "    }\n",
       "\n",
       "    .dataframe thead th {\n",
       "        text-align: right;\n",
       "    }\n",
       "</style>\n",
       "<table border=\"1\" class=\"dataframe\">\n",
       "  <thead>\n",
       "    <tr style=\"text-align: right;\">\n",
       "      <th></th>\n",
       "      <th>h1n1_concern</th>\n",
       "      <th>h1n1_knowledge</th>\n",
       "      <th>behavioral_antiviral_meds</th>\n",
       "      <th>behavioral_avoidance</th>\n",
       "      <th>behavioral_face_mask</th>\n",
       "      <th>behavioral_wash_hands</th>\n",
       "      <th>behavioral_large_gatherings</th>\n",
       "      <th>behavioral_outside_home</th>\n",
       "      <th>behavioral_touch_face</th>\n",
       "      <th>doctor_recc_h1n1</th>\n",
       "      <th>...</th>\n",
       "      <th>health_worker</th>\n",
       "      <th>health_insurance</th>\n",
       "      <th>opinion_h1n1_vacc_effective</th>\n",
       "      <th>opinion_h1n1_risk</th>\n",
       "      <th>opinion_h1n1_sick_from_vacc</th>\n",
       "      <th>opinion_seas_vacc_effective</th>\n",
       "      <th>opinion_seas_risk</th>\n",
       "      <th>opinion_seas_sick_from_vacc</th>\n",
       "      <th>household_adults</th>\n",
       "      <th>household_children</th>\n",
       "    </tr>\n",
       "    <tr>\n",
       "      <th>respondent_id</th>\n",
       "      <th></th>\n",
       "      <th></th>\n",
       "      <th></th>\n",
       "      <th></th>\n",
       "      <th></th>\n",
       "      <th></th>\n",
       "      <th></th>\n",
       "      <th></th>\n",
       "      <th></th>\n",
       "      <th></th>\n",
       "      <th></th>\n",
       "      <th></th>\n",
       "      <th></th>\n",
       "      <th></th>\n",
       "      <th></th>\n",
       "      <th></th>\n",
       "      <th></th>\n",
       "      <th></th>\n",
       "      <th></th>\n",
       "      <th></th>\n",
       "      <th></th>\n",
       "    </tr>\n",
       "  </thead>\n",
       "  <tbody>\n",
       "    <tr>\n",
       "      <th>0</th>\n",
       "      <td>1.0</td>\n",
       "      <td>0.0</td>\n",
       "      <td>0.0</td>\n",
       "      <td>0.0</td>\n",
       "      <td>0.0</td>\n",
       "      <td>0.0</td>\n",
       "      <td>0.0</td>\n",
       "      <td>1.0</td>\n",
       "      <td>1.0</td>\n",
       "      <td>0.0</td>\n",
       "      <td>...</td>\n",
       "      <td>0.0</td>\n",
       "      <td>1.0</td>\n",
       "      <td>3.0</td>\n",
       "      <td>1.0</td>\n",
       "      <td>2.0</td>\n",
       "      <td>2.0</td>\n",
       "      <td>1.0</td>\n",
       "      <td>2.0</td>\n",
       "      <td>0.0</td>\n",
       "      <td>0.0</td>\n",
       "    </tr>\n",
       "    <tr>\n",
       "      <th>1</th>\n",
       "      <td>3.0</td>\n",
       "      <td>2.0</td>\n",
       "      <td>0.0</td>\n",
       "      <td>1.0</td>\n",
       "      <td>0.0</td>\n",
       "      <td>1.0</td>\n",
       "      <td>0.0</td>\n",
       "      <td>1.0</td>\n",
       "      <td>1.0</td>\n",
       "      <td>0.0</td>\n",
       "      <td>...</td>\n",
       "      <td>0.0</td>\n",
       "      <td>1.0</td>\n",
       "      <td>5.0</td>\n",
       "      <td>4.0</td>\n",
       "      <td>4.0</td>\n",
       "      <td>4.0</td>\n",
       "      <td>2.0</td>\n",
       "      <td>4.0</td>\n",
       "      <td>0.0</td>\n",
       "      <td>0.0</td>\n",
       "    </tr>\n",
       "    <tr>\n",
       "      <th>2</th>\n",
       "      <td>1.0</td>\n",
       "      <td>1.0</td>\n",
       "      <td>0.0</td>\n",
       "      <td>1.0</td>\n",
       "      <td>0.0</td>\n",
       "      <td>0.0</td>\n",
       "      <td>0.0</td>\n",
       "      <td>0.0</td>\n",
       "      <td>0.0</td>\n",
       "      <td>NaN</td>\n",
       "      <td>...</td>\n",
       "      <td>0.0</td>\n",
       "      <td>NaN</td>\n",
       "      <td>3.0</td>\n",
       "      <td>1.0</td>\n",
       "      <td>1.0</td>\n",
       "      <td>4.0</td>\n",
       "      <td>1.0</td>\n",
       "      <td>2.0</td>\n",
       "      <td>2.0</td>\n",
       "      <td>0.0</td>\n",
       "    </tr>\n",
       "    <tr>\n",
       "      <th>3</th>\n",
       "      <td>1.0</td>\n",
       "      <td>1.0</td>\n",
       "      <td>0.0</td>\n",
       "      <td>1.0</td>\n",
       "      <td>0.0</td>\n",
       "      <td>1.0</td>\n",
       "      <td>1.0</td>\n",
       "      <td>0.0</td>\n",
       "      <td>0.0</td>\n",
       "      <td>0.0</td>\n",
       "      <td>...</td>\n",
       "      <td>0.0</td>\n",
       "      <td>NaN</td>\n",
       "      <td>3.0</td>\n",
       "      <td>3.0</td>\n",
       "      <td>5.0</td>\n",
       "      <td>5.0</td>\n",
       "      <td>4.0</td>\n",
       "      <td>1.0</td>\n",
       "      <td>0.0</td>\n",
       "      <td>0.0</td>\n",
       "    </tr>\n",
       "    <tr>\n",
       "      <th>4</th>\n",
       "      <td>2.0</td>\n",
       "      <td>1.0</td>\n",
       "      <td>0.0</td>\n",
       "      <td>1.0</td>\n",
       "      <td>0.0</td>\n",
       "      <td>1.0</td>\n",
       "      <td>1.0</td>\n",
       "      <td>0.0</td>\n",
       "      <td>1.0</td>\n",
       "      <td>0.0</td>\n",
       "      <td>...</td>\n",
       "      <td>0.0</td>\n",
       "      <td>NaN</td>\n",
       "      <td>3.0</td>\n",
       "      <td>3.0</td>\n",
       "      <td>2.0</td>\n",
       "      <td>3.0</td>\n",
       "      <td>1.0</td>\n",
       "      <td>4.0</td>\n",
       "      <td>1.0</td>\n",
       "      <td>0.0</td>\n",
       "    </tr>\n",
       "  </tbody>\n",
       "</table>\n",
       "<p>5 rows × 23 columns</p>\n",
       "</div>"
      ],
      "text/plain": [
       "               h1n1_concern  h1n1_knowledge  behavioral_antiviral_meds  \\\n",
       "respondent_id                                                            \n",
       "0                       1.0             0.0                        0.0   \n",
       "1                       3.0             2.0                        0.0   \n",
       "2                       1.0             1.0                        0.0   \n",
       "3                       1.0             1.0                        0.0   \n",
       "4                       2.0             1.0                        0.0   \n",
       "\n",
       "               behavioral_avoidance  behavioral_face_mask  \\\n",
       "respondent_id                                               \n",
       "0                               0.0                   0.0   \n",
       "1                               1.0                   0.0   \n",
       "2                               1.0                   0.0   \n",
       "3                               1.0                   0.0   \n",
       "4                               1.0                   0.0   \n",
       "\n",
       "               behavioral_wash_hands  behavioral_large_gatherings  \\\n",
       "respondent_id                                                       \n",
       "0                                0.0                          0.0   \n",
       "1                                1.0                          0.0   \n",
       "2                                0.0                          0.0   \n",
       "3                                1.0                          1.0   \n",
       "4                                1.0                          1.0   \n",
       "\n",
       "               behavioral_outside_home  behavioral_touch_face  \\\n",
       "respondent_id                                                   \n",
       "0                                  1.0                    1.0   \n",
       "1                                  1.0                    1.0   \n",
       "2                                  0.0                    0.0   \n",
       "3                                  0.0                    0.0   \n",
       "4                                  0.0                    1.0   \n",
       "\n",
       "               doctor_recc_h1n1  ...  health_worker  health_insurance  \\\n",
       "respondent_id                    ...                                    \n",
       "0                           0.0  ...            0.0               1.0   \n",
       "1                           0.0  ...            0.0               1.0   \n",
       "2                           NaN  ...            0.0               NaN   \n",
       "3                           0.0  ...            0.0               NaN   \n",
       "4                           0.0  ...            0.0               NaN   \n",
       "\n",
       "               opinion_h1n1_vacc_effective  opinion_h1n1_risk  \\\n",
       "respondent_id                                                   \n",
       "0                                      3.0                1.0   \n",
       "1                                      5.0                4.0   \n",
       "2                                      3.0                1.0   \n",
       "3                                      3.0                3.0   \n",
       "4                                      3.0                3.0   \n",
       "\n",
       "               opinion_h1n1_sick_from_vacc  opinion_seas_vacc_effective  \\\n",
       "respondent_id                                                             \n",
       "0                                      2.0                          2.0   \n",
       "1                                      4.0                          4.0   \n",
       "2                                      1.0                          4.0   \n",
       "3                                      5.0                          5.0   \n",
       "4                                      2.0                          3.0   \n",
       "\n",
       "               opinion_seas_risk  opinion_seas_sick_from_vacc  \\\n",
       "respondent_id                                                   \n",
       "0                            1.0                          2.0   \n",
       "1                            2.0                          4.0   \n",
       "2                            1.0                          2.0   \n",
       "3                            4.0                          1.0   \n",
       "4                            1.0                          4.0   \n",
       "\n",
       "               household_adults  household_children  \n",
       "respondent_id                                        \n",
       "0                           0.0                 0.0  \n",
       "1                           0.0                 0.0  \n",
       "2                           2.0                 0.0  \n",
       "3                           0.0                 0.0  \n",
       "4                           1.0                 0.0  \n",
       "\n",
       "[5 rows x 23 columns]"
      ]
     },
     "execution_count": 19,
     "metadata": {},
     "output_type": "execute_result"
    }
   ],
   "source": [
    "combined_df[numerical].head()"
   ]
  },
  {
   "cell_type": "markdown",
   "metadata": {},
   "source": [
    "- There are 23 numerical features in total"
   ]
  },
  {
   "cell_type": "markdown",
   "metadata": {},
   "source": [
    "##### Checking for Missing Values in the numerical variables"
   ]
  },
  {
   "cell_type": "code",
   "execution_count": 20,
   "metadata": {},
   "outputs": [
    {
     "data": {
      "text/plain": [
       "h1n1_concern                      92\n",
       "h1n1_knowledge                   116\n",
       "behavioral_antiviral_meds         71\n",
       "behavioral_avoidance             208\n",
       "behavioral_face_mask              19\n",
       "behavioral_wash_hands             42\n",
       "behavioral_large_gatherings       87\n",
       "behavioral_outside_home           82\n",
       "behavioral_touch_face            128\n",
       "doctor_recc_h1n1                2160\n",
       "doctor_recc_seasonal            2160\n",
       "chronic_med_condition            971\n",
       "child_under_6_months             820\n",
       "health_worker                    804\n",
       "health_insurance               12274\n",
       "opinion_h1n1_vacc_effective      391\n",
       "opinion_h1n1_risk                388\n",
       "opinion_h1n1_sick_from_vacc      395\n",
       "opinion_seas_vacc_effective      462\n",
       "opinion_seas_risk                514\n",
       "opinion_seas_sick_from_vacc      537\n",
       "household_adults                 249\n",
       "household_children               249\n",
       "dtype: int64"
      ]
     },
     "execution_count": 20,
     "metadata": {},
     "output_type": "execute_result"
    }
   ],
   "source": [
    "# Checking missing values\n",
    "combined_df[numerical].isnull().sum()"
   ]
  },
  {
   "cell_type": "markdown",
   "metadata": {},
   "source": [
    "- All the 23 variables have missing values"
   ]
  },
  {
   "cell_type": "markdown",
   "metadata": {},
   "source": [
    "##### Imputing numeric columns using median"
   ]
  },
  {
   "cell_type": "code",
   "execution_count": 21,
   "metadata": {},
   "outputs": [
    {
     "data": {
      "text/plain": [
       "h1n1_concern                   0\n",
       "h1n1_knowledge                 0\n",
       "behavioral_antiviral_meds      0\n",
       "behavioral_avoidance           0\n",
       "behavioral_face_mask           0\n",
       "behavioral_wash_hands          0\n",
       "behavioral_large_gatherings    0\n",
       "behavioral_outside_home        0\n",
       "behavioral_touch_face          0\n",
       "doctor_recc_h1n1               0\n",
       "doctor_recc_seasonal           0\n",
       "chronic_med_condition          0\n",
       "child_under_6_months           0\n",
       "health_worker                  0\n",
       "health_insurance               0\n",
       "opinion_h1n1_vacc_effective    0\n",
       "opinion_h1n1_risk              0\n",
       "opinion_h1n1_sick_from_vacc    0\n",
       "opinion_seas_vacc_effective    0\n",
       "opinion_seas_risk              0\n",
       "opinion_seas_sick_from_vacc    0\n",
       "household_adults               0\n",
       "household_children             0\n",
       "dtype: int64"
      ]
     },
     "execution_count": 21,
     "metadata": {},
     "output_type": "execute_result"
    }
   ],
   "source": [
    "# impute missing values with median\n",
    "combined_df[numerical] = combined_df[numerical].apply(lambda x: x.fillna(x.median()))\n",
    "\n",
    "# check whether there are still missing values.\n",
    "combined_df[numerical].isnull().sum()"
   ]
  },
  {
   "cell_type": "markdown",
   "metadata": {},
   "source": [
    "- The data no longer has any missing values after imputing"
   ]
  },
  {
   "cell_type": "markdown",
   "metadata": {},
   "source": [
    "##### Checking whether there is a relationship between h1n1_concern feature and h1n1_vaccine target variable\n",
    "\n",
    "Here, only one of the two target variables is used."
   ]
  },
  {
   "cell_type": "code",
   "execution_count": 22,
   "metadata": {},
   "outputs": [
    {
     "data": {
      "text/html": [
       "<div>\n",
       "<style scoped>\n",
       "    .dataframe tbody tr th:only-of-type {\n",
       "        vertical-align: middle;\n",
       "    }\n",
       "\n",
       "    .dataframe tbody tr th {\n",
       "        vertical-align: top;\n",
       "    }\n",
       "\n",
       "    .dataframe thead th {\n",
       "        text-align: right;\n",
       "    }\n",
       "</style>\n",
       "<table border=\"1\" class=\"dataframe\">\n",
       "  <thead>\n",
       "    <tr style=\"text-align: right;\">\n",
       "      <th>h1n1_vaccine</th>\n",
       "      <th>0</th>\n",
       "      <th>1</th>\n",
       "    </tr>\n",
       "    <tr>\n",
       "      <th>h1n1_knowledge</th>\n",
       "      <th></th>\n",
       "      <th></th>\n",
       "    </tr>\n",
       "  </thead>\n",
       "  <tbody>\n",
       "    <tr>\n",
       "      <th>0.0</th>\n",
       "      <td>2145</td>\n",
       "      <td>361</td>\n",
       "    </tr>\n",
       "    <tr>\n",
       "      <th>1.0</th>\n",
       "      <td>12039</td>\n",
       "      <td>2675</td>\n",
       "    </tr>\n",
       "    <tr>\n",
       "      <th>2.0</th>\n",
       "      <td>6849</td>\n",
       "      <td>2638</td>\n",
       "    </tr>\n",
       "  </tbody>\n",
       "</table>\n",
       "</div>"
      ],
      "text/plain": [
       "h1n1_vaccine        0     1\n",
       "h1n1_knowledge             \n",
       "0.0              2145   361\n",
       "1.0             12039  2675\n",
       "2.0              6849  2638"
      ]
     },
     "execution_count": 22,
     "metadata": {},
     "output_type": "execute_result"
    }
   ],
   "source": [
    "# get the count of observations for each combination of those two variables.\n",
    "counts = (combined_df[['h1n1_knowledge', 'h1n1_vaccine']]\n",
    "              .groupby(['h1n1_knowledge', 'h1n1_vaccine'])\n",
    "              .size()\n",
    "              .unstack('h1n1_vaccine')\n",
    "         )\n",
    "counts"
   ]
  },
  {
   "cell_type": "markdown",
   "metadata": {},
   "source": [
    "##### Use bar chart to compare the change in the two variables"
   ]
  },
  {
   "cell_type": "code",
   "execution_count": 23,
   "metadata": {},
   "outputs": [
    {
     "data": {
      "text/plain": [
       "<matplotlib.legend.Legend at 0x1f6dd1ca400>"
      ]
     },
     "execution_count": 23,
     "metadata": {},
     "output_type": "execute_result"
    },
    {
     "data": {
      "image/png": "[encoded data removed]",
      "text/plain": [
       "<Figure size 432x288 with 1 Axes>"
      ]
     },
     "metadata": {
      "needs_background": "light"
     },
     "output_type": "display_data"
    }
   ],
   "source": [
    "ax = counts.plot.barh()\n",
    "ax.legend(\n",
    "    loc='center right', \n",
    "    bbox_to_anchor=(1.3, 0.5), \n",
    "    title='h1n1_vaccine'\n",
    ")"
   ]
  },
  {
   "cell_type": "markdown",
   "metadata": {},
   "source": [
    "- From the bar chart, it's not easy to tell whether there a relation between levels of knowledge of h1n1 flu and likelihood of being vaccinated since the two classes are imbalanced. That is, about 80% were not vaccinated with H1N1_Vaccine whereas 20% get vaccinated."
   ]
  },
  {
   "cell_type": "markdown",
   "metadata": {},
   "source": [
    "##### checking for rate of vaccination at each level"
   ]
  },
  {
   "cell_type": "code",
   "execution_count": 24,
   "metadata": {},
   "outputs": [
    {
     "data": {
      "text/plain": [
       "h1n1_knowledge\n",
       "0.0     2506\n",
       "1.0    14714\n",
       "2.0     9487\n",
       "dtype: int64"
      ]
     },
     "execution_count": 24,
     "metadata": {},
     "output_type": "execute_result"
    }
   ],
   "source": [
    "h1n1_knowledge_counts = counts.sum(axis='columns')\n",
    "h1n1_knowledge_counts"
   ]
  },
  {
   "cell_type": "code",
   "execution_count": 25,
   "metadata": {},
   "outputs": [
    {
     "data": {
      "text/html": [
       "<div>\n",
       "<style scoped>\n",
       "    .dataframe tbody tr th:only-of-type {\n",
       "        vertical-align: middle;\n",
       "    }\n",
       "\n",
       "    .dataframe tbody tr th {\n",
       "        vertical-align: top;\n",
       "    }\n",
       "\n",
       "    .dataframe thead th {\n",
       "        text-align: right;\n",
       "    }\n",
       "</style>\n",
       "<table border=\"1\" class=\"dataframe\">\n",
       "  <thead>\n",
       "    <tr style=\"text-align: right;\">\n",
       "      <th>h1n1_vaccine</th>\n",
       "      <th>0</th>\n",
       "      <th>1</th>\n",
       "    </tr>\n",
       "    <tr>\n",
       "      <th>h1n1_knowledge</th>\n",
       "      <th></th>\n",
       "      <th></th>\n",
       "    </tr>\n",
       "  </thead>\n",
       "  <tbody>\n",
       "    <tr>\n",
       "      <th>0.0</th>\n",
       "      <td>0.855946</td>\n",
       "      <td>0.144054</td>\n",
       "    </tr>\n",
       "    <tr>\n",
       "      <th>1.0</th>\n",
       "      <td>0.818200</td>\n",
       "      <td>0.181800</td>\n",
       "    </tr>\n",
       "    <tr>\n",
       "      <th>2.0</th>\n",
       "      <td>0.721935</td>\n",
       "      <td>0.278065</td>\n",
       "    </tr>\n",
       "  </tbody>\n",
       "</table>\n",
       "</div>"
      ],
      "text/plain": [
       "h1n1_vaccine           0         1\n",
       "h1n1_knowledge                    \n",
       "0.0             0.855946  0.144054\n",
       "1.0             0.818200  0.181800\n",
       "2.0             0.721935  0.278065"
      ]
     },
     "execution_count": 25,
     "metadata": {},
     "output_type": "execute_result"
    }
   ],
   "source": [
    "# checking probabilities of h1n1_concern levels\n",
    "h1n1_knowledge_probs = counts.div(h1n1_knowledge_counts, axis='index')\n",
    "h1n1_knowledge_probs"
   ]
  },
  {
   "cell_type": "markdown",
   "metadata": {},
   "source": [
    "##### Bar chart for rate of vaccination for each level of h1n1_concern"
   ]
  },
  {
   "cell_type": "code",
   "execution_count": 26,
   "metadata": {},
   "outputs": [
    {
     "data": {
      "text/plain": [
       "<matplotlib.legend.Legend at 0x1f6dd1ca370>"
      ]
     },
     "execution_count": 26,
     "metadata": {},
     "output_type": "execute_result"
    },
    {
     "data": {
      "image/png": "[encoded data removed]",
      "text/plain": [
       "<Figure size 432x288 with 1 Axes>"
      ]
     },
     "metadata": {
      "needs_background": "light"
     },
     "output_type": "display_data"
    }
   ],
   "source": [
    "# \n",
    "ax = h1n1_knowledge_probs.plot.barh()\n",
    "ax.invert_yaxis()\n",
    "ax.legend(\n",
    "    loc='center left', \n",
    "    bbox_to_anchor=(1.05, 0.5),\n",
    "    title='h1n1_vaccine'\n",
    ")"
   ]
  },
  {
   "cell_type": "markdown",
   "metadata": {},
   "source": [
    "- From the bar chart it can clearly be seen that even though not many people get vaccinated with H1N1 flu vaccine, people are more likely to get vaccinated if they have more knowledge of flu vaccine.\n",
    "- h1n1_knowledge can be used in modelling since there is a relationship between the level of knowledge and the number of people being vaccinated with h1n1_vaccine."
   ]
  },
  {
   "cell_type": "markdown",
   "metadata": {},
   "source": [
    "##### Using a stacked bar chart"
   ]
  },
  {
   "cell_type": "code",
   "execution_count": 27,
   "metadata": {},
   "outputs": [
    {
     "data": {
      "text/plain": [
       "<matplotlib.legend.Legend at 0x1f6ddb4ed30>"
      ]
     },
     "execution_count": 27,
     "metadata": {},
     "output_type": "execute_result"
    },
    {
     "data": {
      "image/png": "[encoded data removed]",
      "text/plain": [
       "<Figure size 432x288 with 1 Axes>"
      ]
     },
     "metadata": {
      "needs_background": "light"
     },
     "output_type": "display_data"
    }
   ],
   "source": [
    "ax = h1n1_knowledge_probs.plot.barh(stacked=True)\n",
    "ax.invert_yaxis()\n",
    "ax.legend(\n",
    "    loc='center left', \n",
    "    bbox_to_anchor=(1.05, 0.5),\n",
    "    title='h1n1_vaccine'\n",
    ")"
   ]
  },
  {
   "cell_type": "markdown",
   "metadata": {},
   "source": [
    "#### plot more variables"
   ]
  },
  {
   "cell_type": "code",
   "execution_count": 28,
   "metadata": {},
   "outputs": [],
   "source": [
    "# creating a function to factor several variables\n",
    "def vaccination_rate_plot(col, target, data, ax=None):\n",
    "    counts = (combined_df[[target, col]]\n",
    "                  .groupby([target, col])\n",
    "                  .size()\n",
    "                  .unstack(target)\n",
    "             )\n",
    "    group_counts = counts.sum(axis='columns')\n",
    "    probabilities = counts.div(group_counts, axis='index')\n",
    "\n",
    "    probabilities.plot(kind=\"barh\", stacked=True, ax=ax)\n",
    "    ax.invert_yaxis()\n",
    "    ax.legend().remove()\n"
   ]
  },
  {
   "cell_type": "markdown",
   "metadata": {},
   "source": [
    "#### plotting selected columns against the target variables"
   ]
  },
  {
   "cell_type": "code",
   "execution_count": 29,
   "metadata": {},
   "outputs": [],
   "source": [
    "# code to select columns to plot\n",
    "selected_columns =  [\n",
    "    'h1n1_concern',\n",
    "    'h1n1_knowledge',\n",
    "    'opinion_h1n1_vacc_effective',\n",
    "    'opinion_h1n1_risk',\n",
    "    'opinion_h1n1_sick_from_vacc',\n",
    "    'opinion_seas_vacc_effective',\n",
    "    'opinion_seas_risk',\n",
    "    'opinion_seas_sick_from_vacc',\n",
    "    'doctor_recc_h1n1',\n",
    "    'doctor_recc_seasonal',\n",
    "    'sex',\n",
    "    'age_group',\n",
    "    'race',\n",
    "]"
   ]
  },
  {
   "cell_type": "code",
   "execution_count": 30,
   "metadata": {},
   "outputs": [
    {
     "data": {
      "image/png": "[encoded data removed]",
      "text/plain": [
       "<Figure size 648x2340 with 26 Axes>"
      ]
     },
     "metadata": {
      "needs_background": "light"
     },
     "output_type": "display_data"
    }
   ],
   "source": [
    "# code to plot numeric variables against the target variables\n",
    "\n",
    "fig, ax = plt.subplots(\n",
    "    len(selected_columns), 2, figsize=(9,len(selected_columns)*2.5)\n",
    ")\n",
    "for idx, col in enumerate(selected_columns):\n",
    "    vaccination_rate_plot(\n",
    "        col, 'h1n1_vaccine', combined_df, ax=ax[idx, 0]\n",
    "    )\n",
    "    vaccination_rate_plot(\n",
    "        col, 'seasonal_vaccine', combined_df, ax=ax[idx, 1]\n",
    "    )\n",
    "    \n",
    "ax[0, 0].legend(\n",
    "    loc='lower center', bbox_to_anchor=(0.5, 1.05), title='h1n1_vaccine'\n",
    ")\n",
    "ax[0, 1].legend(\n",
    "    loc='lower center', bbox_to_anchor=(0.5, 1.05), title='seasonal_vaccine'\n",
    ")\n",
    "fig.tight_layout()\n"
   ]
  },
  {
   "cell_type": "markdown",
   "metadata": {},
   "source": [
    "- From the above, it is clear that concern, knowledge, opinion and doctor's recommendation of vaccines have a strong correlation with both the h1n1_vaccine and the seasonal_vaccine.\n",
    "- age_group has a stong correlation with seasonal_vaccine whereby a large number of older people tend to accept the vaccine but doesn't show a strong correlation with the h1n1_vaccine.\n",
    "- sex and race have high correlation with the seasonal_vaccine but does not show a strong correllation with the h1n1_vaccine."
   ]
  },
  {
   "cell_type": "markdown",
   "metadata": {},
   "source": [
    "## Model Development"
   ]
  },
  {
   "cell_type": "markdown",
   "metadata": {},
   "source": [
    "### Model 1: Building Logistic Regression Model"
   ]
  },
  {
   "cell_type": "code",
   "execution_count": 31,
   "metadata": {},
   "outputs": [],
   "source": [
    "from sklearn.linear_model import LogisticRegression\n",
    "from sklearn.multioutput import MultiOutputClassifier\n",
    "from sklearn.model_selection import train_test_split\n",
    "from sklearn.metrics import roc_curve, roc_auc_score\n",
    "from sklearn.preprocessing import StandardScaler\n",
    "from sklearn.impute import SimpleImputer\n",
    "from sklearn.compose import ColumnTransformer\n",
    "from sklearn.pipeline import Pipeline"
   ]
  },
  {
   "cell_type": "markdown",
   "metadata": {},
   "source": [
    "### Preprocessing\n",
    "\n",
    "Instead of filling missing data separately then transforming the data using standard scaller, the two steps (scaling and imputing the data) will be combined together using pipeline to make work easier\n",
    "\n",
    "Median will be used to fill missing values"
   ]
  },
  {
   "cell_type": "code",
   "execution_count": 32,
   "metadata": {},
   "outputs": [
    {
     "data": {
      "text/html": [
       "<style>#sk-container-id-1 {color: black;}#sk-container-id-1 pre{padding: 0;}#sk-container-id-1 div.sk-toggleable {background-color: white;}#sk-container-id-1 label.sk-toggleable__label {cursor: pointer;display: block;width: 100%;margin-bottom: 0;padding: 0.3em;box-sizing: border-box;text-align: center;}#sk-container-id-1 label.sk-toggleable__label-arrow:before {content: \"▸\";float: left;margin-right: 0.25em;color: #696969;}#sk-container-id-1 label.sk-toggleable__label-arrow:hover:before {color: black;}#sk-container-id-1 div.sk-estimator:hover label.sk-toggleable__label-arrow:before {color: black;}#sk-container-id-1 div.sk-toggleable__content {max-height: 0;max-width: 0;overflow: hidden;text-align: left;background-color: #f0f8ff;}#sk-container-id-1 div.sk-toggleable__content pre {margin: 0.2em;color: black;border-radius: 0.25em;background-color: #f0f8ff;}#sk-container-id-1 input.sk-toggleable__control:checked~div.sk-toggleable__content {max-height: 200px;max-width: 100%;overflow: auto;}#sk-container-id-1 input.sk-toggleable__control:checked~label.sk-toggleable__label-arrow:before {content: \"▾\";}#sk-container-id-1 div.sk-estimator input.sk-toggleable__control:checked~label.sk-toggleable__label {background-color: #d4ebff;}#sk-container-id-1 div.sk-label input.sk-toggleable__control:checked~label.sk-toggleable__label {background-color: #d4ebff;}#sk-container-id-1 input.sk-hidden--visually {border: 0;clip: rect(1px 1px 1px 1px);clip: rect(1px, 1px, 1px, 1px);height: 1px;margin: -1px;overflow: hidden;padding: 0;position: absolute;width: 1px;}#sk-container-id-1 div.sk-estimator {font-family: monospace;background-color: #f0f8ff;border: 1px dotted black;border-radius: 0.25em;box-sizing: border-box;margin-bottom: 0.5em;}#sk-container-id-1 div.sk-estimator:hover {background-color: #d4ebff;}#sk-container-id-1 div.sk-parallel-item::after {content: \"\";width: 100%;border-bottom: 1px solid gray;flex-grow: 1;}#sk-container-id-1 div.sk-label:hover label.sk-toggleable__label {background-color: #d4ebff;}#sk-container-id-1 div.sk-serial::before {content: \"\";position: absolute;border-left: 1px solid gray;box-sizing: border-box;top: 0;bottom: 0;left: 50%;z-index: 0;}#sk-container-id-1 div.sk-serial {display: flex;flex-direction: column;align-items: center;background-color: white;padding-right: 0.2em;padding-left: 0.2em;position: relative;}#sk-container-id-1 div.sk-item {position: relative;z-index: 1;}#sk-container-id-1 div.sk-parallel {display: flex;align-items: stretch;justify-content: center;background-color: white;position: relative;}#sk-container-id-1 div.sk-item::before, #sk-container-id-1 div.sk-parallel-item::before {content: \"\";position: absolute;border-left: 1px solid gray;box-sizing: border-box;top: 0;bottom: 0;left: 50%;z-index: -1;}#sk-container-id-1 div.sk-parallel-item {display: flex;flex-direction: column;z-index: 1;position: relative;background-color: white;}#sk-container-id-1 div.sk-parallel-item:first-child::after {align-self: flex-end;width: 50%;}#sk-container-id-1 div.sk-parallel-item:last-child::after {align-self: flex-start;width: 50%;}#sk-container-id-1 div.sk-parallel-item:only-child::after {width: 0;}#sk-container-id-1 div.sk-dashed-wrapped {border: 1px dashed gray;margin: 0 0.4em 0.5em 0.4em;box-sizing: border-box;padding-bottom: 0.4em;background-color: white;}#sk-container-id-1 div.sk-label label {font-family: monospace;font-weight: bold;display: inline-block;line-height: 1.2em;}#sk-container-id-1 div.sk-label-container {text-align: center;}#sk-container-id-1 div.sk-container {/* jupyter's `normalize.less` sets `[hidden] { display: none; }` but bootstrap.min.css set `[hidden] { display: none !important; }` so we also need the `!important` here to be able to override the default hidden behavior on the sphinx rendered scikit-learn.org. See: https://github.com/scikit-learn/scikit-learn/issues/21755 */display: inline-block !important;position: relative;}#sk-container-id-1 div.sk-text-repr-fallback {display: none;}</style><div id=\"sk-container-id-1\" class=\"sk-top-container\"><div class=\"sk-text-repr-fallback\"><pre>Pipeline(steps=[(&#x27;standard_scaler&#x27;, StandardScaler()),\n",
       "                (&#x27;simple_imputer&#x27;, SimpleImputer(strategy=&#x27;median&#x27;))])</pre><b>In a Jupyter environment, please rerun this cell to show the HTML representation or trust the notebook. <br />On GitHub, the HTML representation is unable to render, please try loading this page with nbviewer.org.</b></div><div class=\"sk-container\" hidden><div class=\"sk-item sk-dashed-wrapped\"><div class=\"sk-label-container\"><div class=\"sk-label sk-toggleable\"><input class=\"sk-toggleable__control sk-hidden--visually\" id=\"sk-estimator-id-1\" type=\"checkbox\" ><label for=\"sk-estimator-id-1\" class=\"sk-toggleable__label sk-toggleable__label-arrow\">Pipeline</label><div class=\"sk-toggleable__content\"><pre>Pipeline(steps=[(&#x27;standard_scaler&#x27;, StandardScaler()),\n",
       "                (&#x27;simple_imputer&#x27;, SimpleImputer(strategy=&#x27;median&#x27;))])</pre></div></div></div><div class=\"sk-serial\"><div class=\"sk-item\"><div class=\"sk-estimator sk-toggleable\"><input class=\"sk-toggleable__control sk-hidden--visually\" id=\"sk-estimator-id-2\" type=\"checkbox\" ><label for=\"sk-estimator-id-2\" class=\"sk-toggleable__label sk-toggleable__label-arrow\">StandardScaler</label><div class=\"sk-toggleable__content\"><pre>StandardScaler()</pre></div></div></div><div class=\"sk-item\"><div class=\"sk-estimator sk-toggleable\"><input class=\"sk-toggleable__control sk-hidden--visually\" id=\"sk-estimator-id-3\" type=\"checkbox\" ><label for=\"sk-estimator-id-3\" class=\"sk-toggleable__label sk-toggleable__label-arrow\">SimpleImputer</label><div class=\"sk-toggleable__content\"><pre>SimpleImputer(strategy=&#x27;median&#x27;)</pre></div></div></div></div></div></div></div>"
      ],
      "text/plain": [
       "Pipeline(steps=[('standard_scaler', StandardScaler()),\n",
       "                ('simple_imputer', SimpleImputer(strategy='median'))])"
      ]
     },
     "execution_count": 32,
     "metadata": {},
     "output_type": "execute_result"
    }
   ],
   "source": [
    "# combine preprocessing into pipeline object on numeric data\n",
    "numerical_preprocessing_steps = Pipeline([\n",
    "    ('standard_scaler', StandardScaler()),\n",
    "    ('simple_imputer', SimpleImputer(strategy='median'))\n",
    "])\n",
    "\n",
    "numerical_preprocessing_steps"
   ]
  },
  {
   "cell_type": "markdown",
   "metadata": {},
   "source": [
    "#### preprocess the data using column transformer"
   ]
  },
  {
   "cell_type": "code",
   "execution_count": 33,
   "metadata": {},
   "outputs": [
    {
     "data": {
      "text/html": [
       "<style>#sk-container-id-2 {color: black;}#sk-container-id-2 pre{padding: 0;}#sk-container-id-2 div.sk-toggleable {background-color: white;}#sk-container-id-2 label.sk-toggleable__label {cursor: pointer;display: block;width: 100%;margin-bottom: 0;padding: 0.3em;box-sizing: border-box;text-align: center;}#sk-container-id-2 label.sk-toggleable__label-arrow:before {content: \"▸\";float: left;margin-right: 0.25em;color: #696969;}#sk-container-id-2 label.sk-toggleable__label-arrow:hover:before {color: black;}#sk-container-id-2 div.sk-estimator:hover label.sk-toggleable__label-arrow:before {color: black;}#sk-container-id-2 div.sk-toggleable__content {max-height: 0;max-width: 0;overflow: hidden;text-align: left;background-color: #f0f8ff;}#sk-container-id-2 div.sk-toggleable__content pre {margin: 0.2em;color: black;border-radius: 0.25em;background-color: #f0f8ff;}#sk-container-id-2 input.sk-toggleable__control:checked~div.sk-toggleable__content {max-height: 200px;max-width: 100%;overflow: auto;}#sk-container-id-2 input.sk-toggleable__control:checked~label.sk-toggleable__label-arrow:before {content: \"▾\";}#sk-container-id-2 div.sk-estimator input.sk-toggleable__control:checked~label.sk-toggleable__label {background-color: #d4ebff;}#sk-container-id-2 div.sk-label input.sk-toggleable__control:checked~label.sk-toggleable__label {background-color: #d4ebff;}#sk-container-id-2 input.sk-hidden--visually {border: 0;clip: rect(1px 1px 1px 1px);clip: rect(1px, 1px, 1px, 1px);height: 1px;margin: -1px;overflow: hidden;padding: 0;position: absolute;width: 1px;}#sk-container-id-2 div.sk-estimator {font-family: monospace;background-color: #f0f8ff;border: 1px dotted black;border-radius: 0.25em;box-sizing: border-box;margin-bottom: 0.5em;}#sk-container-id-2 div.sk-estimator:hover {background-color: #d4ebff;}#sk-container-id-2 div.sk-parallel-item::after {content: \"\";width: 100%;border-bottom: 1px solid gray;flex-grow: 1;}#sk-container-id-2 div.sk-label:hover label.sk-toggleable__label {background-color: #d4ebff;}#sk-container-id-2 div.sk-serial::before {content: \"\";position: absolute;border-left: 1px solid gray;box-sizing: border-box;top: 0;bottom: 0;left: 50%;z-index: 0;}#sk-container-id-2 div.sk-serial {display: flex;flex-direction: column;align-items: center;background-color: white;padding-right: 0.2em;padding-left: 0.2em;position: relative;}#sk-container-id-2 div.sk-item {position: relative;z-index: 1;}#sk-container-id-2 div.sk-parallel {display: flex;align-items: stretch;justify-content: center;background-color: white;position: relative;}#sk-container-id-2 div.sk-item::before, #sk-container-id-2 div.sk-parallel-item::before {content: \"\";position: absolute;border-left: 1px solid gray;box-sizing: border-box;top: 0;bottom: 0;left: 50%;z-index: -1;}#sk-container-id-2 div.sk-parallel-item {display: flex;flex-direction: column;z-index: 1;position: relative;background-color: white;}#sk-container-id-2 div.sk-parallel-item:first-child::after {align-self: flex-end;width: 50%;}#sk-container-id-2 div.sk-parallel-item:last-child::after {align-self: flex-start;width: 50%;}#sk-container-id-2 div.sk-parallel-item:only-child::after {width: 0;}#sk-container-id-2 div.sk-dashed-wrapped {border: 1px dashed gray;margin: 0 0.4em 0.5em 0.4em;box-sizing: border-box;padding-bottom: 0.4em;background-color: white;}#sk-container-id-2 div.sk-label label {font-family: monospace;font-weight: bold;display: inline-block;line-height: 1.2em;}#sk-container-id-2 div.sk-label-container {text-align: center;}#sk-container-id-2 div.sk-container {/* jupyter's `normalize.less` sets `[hidden] { display: none; }` but bootstrap.min.css set `[hidden] { display: none !important; }` so we also need the `!important` here to be able to override the default hidden behavior on the sphinx rendered scikit-learn.org. See: https://github.com/scikit-learn/scikit-learn/issues/21755 */display: inline-block !important;position: relative;}#sk-container-id-2 div.sk-text-repr-fallback {display: none;}</style><div id=\"sk-container-id-2\" class=\"sk-top-container\"><div class=\"sk-text-repr-fallback\"><pre>ColumnTransformer(transformers=[(&#x27;numerical&#x27;,\n",
       "                                 Pipeline(steps=[(&#x27;standard_scaler&#x27;,\n",
       "                                                  StandardScaler()),\n",
       "                                                 (&#x27;simple_imputer&#x27;,\n",
       "                                                  SimpleImputer(strategy=&#x27;median&#x27;))]),\n",
       "                                 [&#x27;h1n1_concern&#x27;, &#x27;h1n1_knowledge&#x27;,\n",
       "                                  &#x27;behavioral_antiviral_meds&#x27;,\n",
       "                                  &#x27;behavioral_avoidance&#x27;,\n",
       "                                  &#x27;behavioral_face_mask&#x27;,\n",
       "                                  &#x27;behavioral_wash_hands&#x27;,\n",
       "                                  &#x27;behavioral_large_gatherings&#x27;,\n",
       "                                  &#x27;behavioral_outside_home&#x27;,\n",
       "                                  &#x27;behavioral_touch_face&#x27;, &#x27;doctor_recc_h1n1&#x27;,\n",
       "                                  &#x27;doctor_recc_seasonal&#x27;,\n",
       "                                  &#x27;chronic_med_condition&#x27;,\n",
       "                                  &#x27;child_under_6_months&#x27;, &#x27;health_worker&#x27;,\n",
       "                                  &#x27;health_insurance&#x27;,\n",
       "                                  &#x27;opinion_h1n1_vacc_effective&#x27;,\n",
       "                                  &#x27;opinion_h1n1_risk&#x27;,\n",
       "                                  &#x27;opinion_h1n1_sick_from_vacc&#x27;,\n",
       "                                  &#x27;opinion_seas_vacc_effective&#x27;,\n",
       "                                  &#x27;opinion_seas_risk&#x27;,\n",
       "                                  &#x27;opinion_seas_sick_from_vacc&#x27;,\n",
       "                                  &#x27;household_adults&#x27;, &#x27;household_children&#x27;])])</pre><b>In a Jupyter environment, please rerun this cell to show the HTML representation or trust the notebook. <br />On GitHub, the HTML representation is unable to render, please try loading this page with nbviewer.org.</b></div><div class=\"sk-container\" hidden><div class=\"sk-item sk-dashed-wrapped\"><div class=\"sk-label-container\"><div class=\"sk-label sk-toggleable\"><input class=\"sk-toggleable__control sk-hidden--visually\" id=\"sk-estimator-id-4\" type=\"checkbox\" ><label for=\"sk-estimator-id-4\" class=\"sk-toggleable__label sk-toggleable__label-arrow\">ColumnTransformer</label><div class=\"sk-toggleable__content\"><pre>ColumnTransformer(transformers=[(&#x27;numerical&#x27;,\n",
       "                                 Pipeline(steps=[(&#x27;standard_scaler&#x27;,\n",
       "                                                  StandardScaler()),\n",
       "                                                 (&#x27;simple_imputer&#x27;,\n",
       "                                                  SimpleImputer(strategy=&#x27;median&#x27;))]),\n",
       "                                 [&#x27;h1n1_concern&#x27;, &#x27;h1n1_knowledge&#x27;,\n",
       "                                  &#x27;behavioral_antiviral_meds&#x27;,\n",
       "                                  &#x27;behavioral_avoidance&#x27;,\n",
       "                                  &#x27;behavioral_face_mask&#x27;,\n",
       "                                  &#x27;behavioral_wash_hands&#x27;,\n",
       "                                  &#x27;behavioral_large_gatherings&#x27;,\n",
       "                                  &#x27;behavioral_outside_home&#x27;,\n",
       "                                  &#x27;behavioral_touch_face&#x27;, &#x27;doctor_recc_h1n1&#x27;,\n",
       "                                  &#x27;doctor_recc_seasonal&#x27;,\n",
       "                                  &#x27;chronic_med_condition&#x27;,\n",
       "                                  &#x27;child_under_6_months&#x27;, &#x27;health_worker&#x27;,\n",
       "                                  &#x27;health_insurance&#x27;,\n",
       "                                  &#x27;opinion_h1n1_vacc_effective&#x27;,\n",
       "                                  &#x27;opinion_h1n1_risk&#x27;,\n",
       "                                  &#x27;opinion_h1n1_sick_from_vacc&#x27;,\n",
       "                                  &#x27;opinion_seas_vacc_effective&#x27;,\n",
       "                                  &#x27;opinion_seas_risk&#x27;,\n",
       "                                  &#x27;opinion_seas_sick_from_vacc&#x27;,\n",
       "                                  &#x27;household_adults&#x27;, &#x27;household_children&#x27;])])</pre></div></div></div><div class=\"sk-parallel\"><div class=\"sk-parallel-item\"><div class=\"sk-item\"><div class=\"sk-label-container\"><div class=\"sk-label sk-toggleable\"><input class=\"sk-toggleable__control sk-hidden--visually\" id=\"sk-estimator-id-5\" type=\"checkbox\" ><label for=\"sk-estimator-id-5\" class=\"sk-toggleable__label sk-toggleable__label-arrow\">numerical</label><div class=\"sk-toggleable__content\"><pre>[&#x27;h1n1_concern&#x27;, &#x27;h1n1_knowledge&#x27;, &#x27;behavioral_antiviral_meds&#x27;, &#x27;behavioral_avoidance&#x27;, &#x27;behavioral_face_mask&#x27;, &#x27;behavioral_wash_hands&#x27;, &#x27;behavioral_large_gatherings&#x27;, &#x27;behavioral_outside_home&#x27;, &#x27;behavioral_touch_face&#x27;, &#x27;doctor_recc_h1n1&#x27;, &#x27;doctor_recc_seasonal&#x27;, &#x27;chronic_med_condition&#x27;, &#x27;child_under_6_months&#x27;, &#x27;health_worker&#x27;, &#x27;health_insurance&#x27;, &#x27;opinion_h1n1_vacc_effective&#x27;, &#x27;opinion_h1n1_risk&#x27;, &#x27;opinion_h1n1_sick_from_vacc&#x27;, &#x27;opinion_seas_vacc_effective&#x27;, &#x27;opinion_seas_risk&#x27;, &#x27;opinion_seas_sick_from_vacc&#x27;, &#x27;household_adults&#x27;, &#x27;household_children&#x27;]</pre></div></div></div><div class=\"sk-serial\"><div class=\"sk-item\"><div class=\"sk-serial\"><div class=\"sk-item\"><div class=\"sk-estimator sk-toggleable\"><input class=\"sk-toggleable__control sk-hidden--visually\" id=\"sk-estimator-id-6\" type=\"checkbox\" ><label for=\"sk-estimator-id-6\" class=\"sk-toggleable__label sk-toggleable__label-arrow\">StandardScaler</label><div class=\"sk-toggleable__content\"><pre>StandardScaler()</pre></div></div></div><div class=\"sk-item\"><div class=\"sk-estimator sk-toggleable\"><input class=\"sk-toggleable__control sk-hidden--visually\" id=\"sk-estimator-id-7\" type=\"checkbox\" ><label for=\"sk-estimator-id-7\" class=\"sk-toggleable__label sk-toggleable__label-arrow\">SimpleImputer</label><div class=\"sk-toggleable__content\"><pre>SimpleImputer(strategy=&#x27;median&#x27;)</pre></div></div></div></div></div></div></div></div></div></div></div></div>"
      ],
      "text/plain": [
       "ColumnTransformer(transformers=[('numerical',\n",
       "                                 Pipeline(steps=[('standard_scaler',\n",
       "                                                  StandardScaler()),\n",
       "                                                 ('simple_imputer',\n",
       "                                                  SimpleImputer(strategy='median'))]),\n",
       "                                 ['h1n1_concern', 'h1n1_knowledge',\n",
       "                                  'behavioral_antiviral_meds',\n",
       "                                  'behavioral_avoidance',\n",
       "                                  'behavioral_face_mask',\n",
       "                                  'behavioral_wash_hands',\n",
       "                                  'behavioral_large_gatherings',\n",
       "                                  'behavioral_outside_home',\n",
       "                                  'behavioral_touch_face', 'doctor_recc_h1n1',\n",
       "                                  'doctor_recc_seasonal',\n",
       "                                  'chronic_med_condition',\n",
       "                                  'child_under_6_months', 'health_worker',\n",
       "                                  'health_insurance',\n",
       "                                  'opinion_h1n1_vacc_effective',\n",
       "                                  'opinion_h1n1_risk',\n",
       "                                  'opinion_h1n1_sick_from_vacc',\n",
       "                                  'opinion_seas_vacc_effective',\n",
       "                                  'opinion_seas_risk',\n",
       "                                  'opinion_seas_sick_from_vacc',\n",
       "                                  'household_adults', 'household_children'])])"
      ]
     },
     "execution_count": 33,
     "metadata": {},
     "output_type": "execute_result"
    }
   ],
   "source": [
    "# creating preprocessor stage of final pipeline\n",
    "preprocessor = ColumnTransformer(transformers=[(\"numerical\", numerical_preprocessing_steps, numerical)], \n",
    "                                 remainder=\"drop\"\n",
    "                                 )\n",
    "preprocessor"
   ]
  },
  {
   "cell_type": "markdown",
   "metadata": {},
   "source": [
    "### Estimator\n",
    "Since the data has two different target variables, a Multioutput classifier will be used as an estimator"
   ]
  },
  {
   "cell_type": "code",
   "execution_count": 34,
   "metadata": {},
   "outputs": [
    {
     "data": {
      "text/html": [
       "<style>#sk-container-id-3 {color: black;}#sk-container-id-3 pre{padding: 0;}#sk-container-id-3 div.sk-toggleable {background-color: white;}#sk-container-id-3 label.sk-toggleable__label {cursor: pointer;display: block;width: 100%;margin-bottom: 0;padding: 0.3em;box-sizing: border-box;text-align: center;}#sk-container-id-3 label.sk-toggleable__label-arrow:before {content: \"▸\";float: left;margin-right: 0.25em;color: #696969;}#sk-container-id-3 label.sk-toggleable__label-arrow:hover:before {color: black;}#sk-container-id-3 div.sk-estimator:hover label.sk-toggleable__label-arrow:before {color: black;}#sk-container-id-3 div.sk-toggleable__content {max-height: 0;max-width: 0;overflow: hidden;text-align: left;background-color: #f0f8ff;}#sk-container-id-3 div.sk-toggleable__content pre {margin: 0.2em;color: black;border-radius: 0.25em;background-color: #f0f8ff;}#sk-container-id-3 input.sk-toggleable__control:checked~div.sk-toggleable__content {max-height: 200px;max-width: 100%;overflow: auto;}#sk-container-id-3 input.sk-toggleable__control:checked~label.sk-toggleable__label-arrow:before {content: \"▾\";}#sk-container-id-3 div.sk-estimator input.sk-toggleable__control:checked~label.sk-toggleable__label {background-color: #d4ebff;}#sk-container-id-3 div.sk-label input.sk-toggleable__control:checked~label.sk-toggleable__label {background-color: #d4ebff;}#sk-container-id-3 input.sk-hidden--visually {border: 0;clip: rect(1px 1px 1px 1px);clip: rect(1px, 1px, 1px, 1px);height: 1px;margin: -1px;overflow: hidden;padding: 0;position: absolute;width: 1px;}#sk-container-id-3 div.sk-estimator {font-family: monospace;background-color: #f0f8ff;border: 1px dotted black;border-radius: 0.25em;box-sizing: border-box;margin-bottom: 0.5em;}#sk-container-id-3 div.sk-estimator:hover {background-color: #d4ebff;}#sk-container-id-3 div.sk-parallel-item::after {content: \"\";width: 100%;border-bottom: 1px solid gray;flex-grow: 1;}#sk-container-id-3 div.sk-label:hover label.sk-toggleable__label {background-color: #d4ebff;}#sk-container-id-3 div.sk-serial::before {content: \"\";position: absolute;border-left: 1px solid gray;box-sizing: border-box;top: 0;bottom: 0;left: 50%;z-index: 0;}#sk-container-id-3 div.sk-serial {display: flex;flex-direction: column;align-items: center;background-color: white;padding-right: 0.2em;padding-left: 0.2em;position: relative;}#sk-container-id-3 div.sk-item {position: relative;z-index: 1;}#sk-container-id-3 div.sk-parallel {display: flex;align-items: stretch;justify-content: center;background-color: white;position: relative;}#sk-container-id-3 div.sk-item::before, #sk-container-id-3 div.sk-parallel-item::before {content: \"\";position: absolute;border-left: 1px solid gray;box-sizing: border-box;top: 0;bottom: 0;left: 50%;z-index: -1;}#sk-container-id-3 div.sk-parallel-item {display: flex;flex-direction: column;z-index: 1;position: relative;background-color: white;}#sk-container-id-3 div.sk-parallel-item:first-child::after {align-self: flex-end;width: 50%;}#sk-container-id-3 div.sk-parallel-item:last-child::after {align-self: flex-start;width: 50%;}#sk-container-id-3 div.sk-parallel-item:only-child::after {width: 0;}#sk-container-id-3 div.sk-dashed-wrapped {border: 1px dashed gray;margin: 0 0.4em 0.5em 0.4em;box-sizing: border-box;padding-bottom: 0.4em;background-color: white;}#sk-container-id-3 div.sk-label label {font-family: monospace;font-weight: bold;display: inline-block;line-height: 1.2em;}#sk-container-id-3 div.sk-label-container {text-align: center;}#sk-container-id-3 div.sk-container {/* jupyter's `normalize.less` sets `[hidden] { display: none; }` but bootstrap.min.css set `[hidden] { display: none !important; }` so we also need the `!important` here to be able to override the default hidden behavior on the sphinx rendered scikit-learn.org. See: https://github.com/scikit-learn/scikit-learn/issues/21755 */display: inline-block !important;position: relative;}#sk-container-id-3 div.sk-text-repr-fallback {display: none;}</style><div id=\"sk-container-id-3\" class=\"sk-top-container\"><div class=\"sk-text-repr-fallback\"><pre>MultiOutputClassifier(estimator=LogisticRegression(C=1))</pre><b>In a Jupyter environment, please rerun this cell to show the HTML representation or trust the notebook. <br />On GitHub, the HTML representation is unable to render, please try loading this page with nbviewer.org.</b></div><div class=\"sk-container\" hidden><div class=\"sk-item sk-dashed-wrapped\"><div class=\"sk-label-container\"><div class=\"sk-label sk-toggleable\"><input class=\"sk-toggleable__control sk-hidden--visually\" id=\"sk-estimator-id-8\" type=\"checkbox\" ><label for=\"sk-estimator-id-8\" class=\"sk-toggleable__label sk-toggleable__label-arrow\">MultiOutputClassifier</label><div class=\"sk-toggleable__content\"><pre>MultiOutputClassifier(estimator=LogisticRegression(C=1))</pre></div></div></div><div class=\"sk-parallel\"><div class=\"sk-parallel-item\"><div class=\"sk-item\"><div class=\"sk-label-container\"><div class=\"sk-label sk-toggleable\"><input class=\"sk-toggleable__control sk-hidden--visually\" id=\"sk-estimator-id-9\" type=\"checkbox\" ><label for=\"sk-estimator-id-9\" class=\"sk-toggleable__label sk-toggleable__label-arrow\">estimator: LogisticRegression</label><div class=\"sk-toggleable__content\"><pre>LogisticRegression(C=1)</pre></div></div></div><div class=\"sk-serial\"><div class=\"sk-item\"><div class=\"sk-estimator sk-toggleable\"><input class=\"sk-toggleable__control sk-hidden--visually\" id=\"sk-estimator-id-10\" type=\"checkbox\" ><label for=\"sk-estimator-id-10\" class=\"sk-toggleable__label sk-toggleable__label-arrow\">LogisticRegression</label><div class=\"sk-toggleable__content\"><pre>LogisticRegression(C=1)</pre></div></div></div></div></div></div></div></div></div></div>"
      ],
      "text/plain": [
       "MultiOutputClassifier(estimator=LogisticRegression(C=1))"
      ]
     },
     "execution_count": 34,
     "metadata": {},
     "output_type": "execute_result"
    }
   ],
   "source": [
    "# code for estimator\n",
    "estimators = MultiOutputClassifier(\n",
    "    estimator=LogisticRegression(penalty=\"l2\", C=1)\n",
    ")\n",
    "\n",
    "estimators"
   ]
  },
  {
   "cell_type": "markdown",
   "metadata": {},
   "source": [
    "### combining estimator and preprocessor to form a complete pipeline"
   ]
  },
  {
   "cell_type": "code",
   "execution_count": 35,
   "metadata": {},
   "outputs": [
    {
     "data": {
      "text/html": [
       "<style>#sk-container-id-4 {color: black;}#sk-container-id-4 pre{padding: 0;}#sk-container-id-4 div.sk-toggleable {background-color: white;}#sk-container-id-4 label.sk-toggleable__label {cursor: pointer;display: block;width: 100%;margin-bottom: 0;padding: 0.3em;box-sizing: border-box;text-align: center;}#sk-container-id-4 label.sk-toggleable__label-arrow:before {content: \"▸\";float: left;margin-right: 0.25em;color: #696969;}#sk-container-id-4 label.sk-toggleable__label-arrow:hover:before {color: black;}#sk-container-id-4 div.sk-estimator:hover label.sk-toggleable__label-arrow:before {color: black;}#sk-container-id-4 div.sk-toggleable__content {max-height: 0;max-width: 0;overflow: hidden;text-align: left;background-color: #f0f8ff;}#sk-container-id-4 div.sk-toggleable__content pre {margin: 0.2em;color: black;border-radius: 0.25em;background-color: #f0f8ff;}#sk-container-id-4 input.sk-toggleable__control:checked~div.sk-toggleable__content {max-height: 200px;max-width: 100%;overflow: auto;}#sk-container-id-4 input.sk-toggleable__control:checked~label.sk-toggleable__label-arrow:before {content: \"▾\";}#sk-container-id-4 div.sk-estimator input.sk-toggleable__control:checked~label.sk-toggleable__label {background-color: #d4ebff;}#sk-container-id-4 div.sk-label input.sk-toggleable__control:checked~label.sk-toggleable__label {background-color: #d4ebff;}#sk-container-id-4 input.sk-hidden--visually {border: 0;clip: rect(1px 1px 1px 1px);clip: rect(1px, 1px, 1px, 1px);height: 1px;margin: -1px;overflow: hidden;padding: 0;position: absolute;width: 1px;}#sk-container-id-4 div.sk-estimator {font-family: monospace;background-color: #f0f8ff;border: 1px dotted black;border-radius: 0.25em;box-sizing: border-box;margin-bottom: 0.5em;}#sk-container-id-4 div.sk-estimator:hover {background-color: #d4ebff;}#sk-container-id-4 div.sk-parallel-item::after {content: \"\";width: 100%;border-bottom: 1px solid gray;flex-grow: 1;}#sk-container-id-4 div.sk-label:hover label.sk-toggleable__label {background-color: #d4ebff;}#sk-container-id-4 div.sk-serial::before {content: \"\";position: absolute;border-left: 1px solid gray;box-sizing: border-box;top: 0;bottom: 0;left: 50%;z-index: 0;}#sk-container-id-4 div.sk-serial {display: flex;flex-direction: column;align-items: center;background-color: white;padding-right: 0.2em;padding-left: 0.2em;position: relative;}#sk-container-id-4 div.sk-item {position: relative;z-index: 1;}#sk-container-id-4 div.sk-parallel {display: flex;align-items: stretch;justify-content: center;background-color: white;position: relative;}#sk-container-id-4 div.sk-item::before, #sk-container-id-4 div.sk-parallel-item::before {content: \"\";position: absolute;border-left: 1px solid gray;box-sizing: border-box;top: 0;bottom: 0;left: 50%;z-index: -1;}#sk-container-id-4 div.sk-parallel-item {display: flex;flex-direction: column;z-index: 1;position: relative;background-color: white;}#sk-container-id-4 div.sk-parallel-item:first-child::after {align-self: flex-end;width: 50%;}#sk-container-id-4 div.sk-parallel-item:last-child::after {align-self: flex-start;width: 50%;}#sk-container-id-4 div.sk-parallel-item:only-child::after {width: 0;}#sk-container-id-4 div.sk-dashed-wrapped {border: 1px dashed gray;margin: 0 0.4em 0.5em 0.4em;box-sizing: border-box;padding-bottom: 0.4em;background-color: white;}#sk-container-id-4 div.sk-label label {font-family: monospace;font-weight: bold;display: inline-block;line-height: 1.2em;}#sk-container-id-4 div.sk-label-container {text-align: center;}#sk-container-id-4 div.sk-container {/* jupyter's `normalize.less` sets `[hidden] { display: none; }` but bootstrap.min.css set `[hidden] { display: none !important; }` so we also need the `!important` here to be able to override the default hidden behavior on the sphinx rendered scikit-learn.org. See: https://github.com/scikit-learn/scikit-learn/issues/21755 */display: inline-block !important;position: relative;}#sk-container-id-4 div.sk-text-repr-fallback {display: none;}</style><div id=\"sk-container-id-4\" class=\"sk-top-container\"><div class=\"sk-text-repr-fallback\"><pre>Pipeline(steps=[(&#x27;preprocessor&#x27;,\n",
       "                 ColumnTransformer(transformers=[(&#x27;numerical&#x27;,\n",
       "                                                  Pipeline(steps=[(&#x27;standard_scaler&#x27;,\n",
       "                                                                   StandardScaler()),\n",
       "                                                                  (&#x27;simple_imputer&#x27;,\n",
       "                                                                   SimpleImputer(strategy=&#x27;median&#x27;))]),\n",
       "                                                  [&#x27;h1n1_concern&#x27;,\n",
       "                                                   &#x27;h1n1_knowledge&#x27;,\n",
       "                                                   &#x27;behavioral_antiviral_meds&#x27;,\n",
       "                                                   &#x27;behavioral_avoidance&#x27;,\n",
       "                                                   &#x27;behavioral_face_mask&#x27;,\n",
       "                                                   &#x27;behavioral_wash_hands&#x27;,\n",
       "                                                   &#x27;behavioral_large_gatherings&#x27;,\n",
       "                                                   &#x27;beha...\n",
       "                                                   &#x27;chronic_med_condition&#x27;,\n",
       "                                                   &#x27;child_under_6_months&#x27;,\n",
       "                                                   &#x27;health_worker&#x27;,\n",
       "                                                   &#x27;health_insurance&#x27;,\n",
       "                                                   &#x27;opinion_h1n1_vacc_effective&#x27;,\n",
       "                                                   &#x27;opinion_h1n1_risk&#x27;,\n",
       "                                                   &#x27;opinion_h1n1_sick_from_vacc&#x27;,\n",
       "                                                   &#x27;opinion_seas_vacc_effective&#x27;,\n",
       "                                                   &#x27;opinion_seas_risk&#x27;,\n",
       "                                                   &#x27;opinion_seas_sick_from_vacc&#x27;,\n",
       "                                                   &#x27;household_adults&#x27;,\n",
       "                                                   &#x27;household_children&#x27;])])),\n",
       "                (&#x27;estimators&#x27;,\n",
       "                 MultiOutputClassifier(estimator=LogisticRegression(C=1)))])</pre><b>In a Jupyter environment, please rerun this cell to show the HTML representation or trust the notebook. <br />On GitHub, the HTML representation is unable to render, please try loading this page with nbviewer.org.</b></div><div class=\"sk-container\" hidden><div class=\"sk-item sk-dashed-wrapped\"><div class=\"sk-label-container\"><div class=\"sk-label sk-toggleable\"><input class=\"sk-toggleable__control sk-hidden--visually\" id=\"sk-estimator-id-11\" type=\"checkbox\" ><label for=\"sk-estimator-id-11\" class=\"sk-toggleable__label sk-toggleable__label-arrow\">Pipeline</label><div class=\"sk-toggleable__content\"><pre>Pipeline(steps=[(&#x27;preprocessor&#x27;,\n",
       "                 ColumnTransformer(transformers=[(&#x27;numerical&#x27;,\n",
       "                                                  Pipeline(steps=[(&#x27;standard_scaler&#x27;,\n",
       "                                                                   StandardScaler()),\n",
       "                                                                  (&#x27;simple_imputer&#x27;,\n",
       "                                                                   SimpleImputer(strategy=&#x27;median&#x27;))]),\n",
       "                                                  [&#x27;h1n1_concern&#x27;,\n",
       "                                                   &#x27;h1n1_knowledge&#x27;,\n",
       "                                                   &#x27;behavioral_antiviral_meds&#x27;,\n",
       "                                                   &#x27;behavioral_avoidance&#x27;,\n",
       "                                                   &#x27;behavioral_face_mask&#x27;,\n",
       "                                                   &#x27;behavioral_wash_hands&#x27;,\n",
       "                                                   &#x27;behavioral_large_gatherings&#x27;,\n",
       "                                                   &#x27;beha...\n",
       "                                                   &#x27;chronic_med_condition&#x27;,\n",
       "                                                   &#x27;child_under_6_months&#x27;,\n",
       "                                                   &#x27;health_worker&#x27;,\n",
       "                                                   &#x27;health_insurance&#x27;,\n",
       "                                                   &#x27;opinion_h1n1_vacc_effective&#x27;,\n",
       "                                                   &#x27;opinion_h1n1_risk&#x27;,\n",
       "                                                   &#x27;opinion_h1n1_sick_from_vacc&#x27;,\n",
       "                                                   &#x27;opinion_seas_vacc_effective&#x27;,\n",
       "                                                   &#x27;opinion_seas_risk&#x27;,\n",
       "                                                   &#x27;opinion_seas_sick_from_vacc&#x27;,\n",
       "                                                   &#x27;household_adults&#x27;,\n",
       "                                                   &#x27;household_children&#x27;])])),\n",
       "                (&#x27;estimators&#x27;,\n",
       "                 MultiOutputClassifier(estimator=LogisticRegression(C=1)))])</pre></div></div></div><div class=\"sk-serial\"><div class=\"sk-item sk-dashed-wrapped\"><div class=\"sk-label-container\"><div class=\"sk-label sk-toggleable\"><input class=\"sk-toggleable__control sk-hidden--visually\" id=\"sk-estimator-id-12\" type=\"checkbox\" ><label for=\"sk-estimator-id-12\" class=\"sk-toggleable__label sk-toggleable__label-arrow\">preprocessor: ColumnTransformer</label><div class=\"sk-toggleable__content\"><pre>ColumnTransformer(transformers=[(&#x27;numerical&#x27;,\n",
       "                                 Pipeline(steps=[(&#x27;standard_scaler&#x27;,\n",
       "                                                  StandardScaler()),\n",
       "                                                 (&#x27;simple_imputer&#x27;,\n",
       "                                                  SimpleImputer(strategy=&#x27;median&#x27;))]),\n",
       "                                 [&#x27;h1n1_concern&#x27;, &#x27;h1n1_knowledge&#x27;,\n",
       "                                  &#x27;behavioral_antiviral_meds&#x27;,\n",
       "                                  &#x27;behavioral_avoidance&#x27;,\n",
       "                                  &#x27;behavioral_face_mask&#x27;,\n",
       "                                  &#x27;behavioral_wash_hands&#x27;,\n",
       "                                  &#x27;behavioral_large_gatherings&#x27;,\n",
       "                                  &#x27;behavioral_outside_home&#x27;,\n",
       "                                  &#x27;behavioral_touch_face&#x27;, &#x27;doctor_recc_h1n1&#x27;,\n",
       "                                  &#x27;doctor_recc_seasonal&#x27;,\n",
       "                                  &#x27;chronic_med_condition&#x27;,\n",
       "                                  &#x27;child_under_6_months&#x27;, &#x27;health_worker&#x27;,\n",
       "                                  &#x27;health_insurance&#x27;,\n",
       "                                  &#x27;opinion_h1n1_vacc_effective&#x27;,\n",
       "                                  &#x27;opinion_h1n1_risk&#x27;,\n",
       "                                  &#x27;opinion_h1n1_sick_from_vacc&#x27;,\n",
       "                                  &#x27;opinion_seas_vacc_effective&#x27;,\n",
       "                                  &#x27;opinion_seas_risk&#x27;,\n",
       "                                  &#x27;opinion_seas_sick_from_vacc&#x27;,\n",
       "                                  &#x27;household_adults&#x27;, &#x27;household_children&#x27;])])</pre></div></div></div><div class=\"sk-parallel\"><div class=\"sk-parallel-item\"><div class=\"sk-item\"><div class=\"sk-label-container\"><div class=\"sk-label sk-toggleable\"><input class=\"sk-toggleable__control sk-hidden--visually\" id=\"sk-estimator-id-13\" type=\"checkbox\" ><label for=\"sk-estimator-id-13\" class=\"sk-toggleable__label sk-toggleable__label-arrow\">numerical</label><div class=\"sk-toggleable__content\"><pre>[&#x27;h1n1_concern&#x27;, &#x27;h1n1_knowledge&#x27;, &#x27;behavioral_antiviral_meds&#x27;, &#x27;behavioral_avoidance&#x27;, &#x27;behavioral_face_mask&#x27;, &#x27;behavioral_wash_hands&#x27;, &#x27;behavioral_large_gatherings&#x27;, &#x27;behavioral_outside_home&#x27;, &#x27;behavioral_touch_face&#x27;, &#x27;doctor_recc_h1n1&#x27;, &#x27;doctor_recc_seasonal&#x27;, &#x27;chronic_med_condition&#x27;, &#x27;child_under_6_months&#x27;, &#x27;health_worker&#x27;, &#x27;health_insurance&#x27;, &#x27;opinion_h1n1_vacc_effective&#x27;, &#x27;opinion_h1n1_risk&#x27;, &#x27;opinion_h1n1_sick_from_vacc&#x27;, &#x27;opinion_seas_vacc_effective&#x27;, &#x27;opinion_seas_risk&#x27;, &#x27;opinion_seas_sick_from_vacc&#x27;, &#x27;household_adults&#x27;, &#x27;household_children&#x27;]</pre></div></div></div><div class=\"sk-serial\"><div class=\"sk-item\"><div class=\"sk-serial\"><div class=\"sk-item\"><div class=\"sk-estimator sk-toggleable\"><input class=\"sk-toggleable__control sk-hidden--visually\" id=\"sk-estimator-id-14\" type=\"checkbox\" ><label for=\"sk-estimator-id-14\" class=\"sk-toggleable__label sk-toggleable__label-arrow\">StandardScaler</label><div class=\"sk-toggleable__content\"><pre>StandardScaler()</pre></div></div></div><div class=\"sk-item\"><div class=\"sk-estimator sk-toggleable\"><input class=\"sk-toggleable__control sk-hidden--visually\" id=\"sk-estimator-id-15\" type=\"checkbox\" ><label for=\"sk-estimator-id-15\" class=\"sk-toggleable__label sk-toggleable__label-arrow\">SimpleImputer</label><div class=\"sk-toggleable__content\"><pre>SimpleImputer(strategy=&#x27;median&#x27;)</pre></div></div></div></div></div></div></div></div></div></div><div class=\"sk-item sk-dashed-wrapped\"><div class=\"sk-label-container\"><div class=\"sk-label sk-toggleable\"><input class=\"sk-toggleable__control sk-hidden--visually\" id=\"sk-estimator-id-16\" type=\"checkbox\" ><label for=\"sk-estimator-id-16\" class=\"sk-toggleable__label sk-toggleable__label-arrow\">estimators: MultiOutputClassifier</label><div class=\"sk-toggleable__content\"><pre>MultiOutputClassifier(estimator=LogisticRegression(C=1))</pre></div></div></div><div class=\"sk-parallel\"><div class=\"sk-parallel-item\"><div class=\"sk-item\"><div class=\"sk-label-container\"><div class=\"sk-label sk-toggleable\"><input class=\"sk-toggleable__control sk-hidden--visually\" id=\"sk-estimator-id-17\" type=\"checkbox\" ><label for=\"sk-estimator-id-17\" class=\"sk-toggleable__label sk-toggleable__label-arrow\">estimator: LogisticRegression</label><div class=\"sk-toggleable__content\"><pre>LogisticRegression(C=1)</pre></div></div></div><div class=\"sk-serial\"><div class=\"sk-item\"><div class=\"sk-estimator sk-toggleable\"><input class=\"sk-toggleable__control sk-hidden--visually\" id=\"sk-estimator-id-18\" type=\"checkbox\" ><label for=\"sk-estimator-id-18\" class=\"sk-toggleable__label sk-toggleable__label-arrow\">LogisticRegression</label><div class=\"sk-toggleable__content\"><pre>LogisticRegression(C=1)</pre></div></div></div></div></div></div></div></div></div></div></div></div>"
      ],
      "text/plain": [
       "Pipeline(steps=[('preprocessor',\n",
       "                 ColumnTransformer(transformers=[('numerical',\n",
       "                                                  Pipeline(steps=[('standard_scaler',\n",
       "                                                                   StandardScaler()),\n",
       "                                                                  ('simple_imputer',\n",
       "                                                                   SimpleImputer(strategy='median'))]),\n",
       "                                                  ['h1n1_concern',\n",
       "                                                   'h1n1_knowledge',\n",
       "                                                   'behavioral_antiviral_meds',\n",
       "                                                   'behavioral_avoidance',\n",
       "                                                   'behavioral_face_mask',\n",
       "                                                   'behavioral_wash_hands',\n",
       "                                                   'behavioral_large_gatherings',\n",
       "                                                   'beha...\n",
       "                                                   'chronic_med_condition',\n",
       "                                                   'child_under_6_months',\n",
       "                                                   'health_worker',\n",
       "                                                   'health_insurance',\n",
       "                                                   'opinion_h1n1_vacc_effective',\n",
       "                                                   'opinion_h1n1_risk',\n",
       "                                                   'opinion_h1n1_sick_from_vacc',\n",
       "                                                   'opinion_seas_vacc_effective',\n",
       "                                                   'opinion_seas_risk',\n",
       "                                                   'opinion_seas_sick_from_vacc',\n",
       "                                                   'household_adults',\n",
       "                                                   'household_children'])])),\n",
       "                ('estimators',\n",
       "                 MultiOutputClassifier(estimator=LogisticRegression(C=1)))])"
      ]
     },
     "execution_count": 35,
     "metadata": {},
     "output_type": "execute_result"
    }
   ],
   "source": [
    "model_1 = Pipeline([\n",
    "    (\"preprocessor\", preprocessor),\n",
    "    (\"estimators\", estimators),\n",
    "])\n",
    "\n",
    "model_1"
   ]
  },
  {
   "cell_type": "markdown",
   "metadata": {},
   "source": [
    "### Model Training and Evaluation\n",
    "\n",
    "The model will be trained and evaluated by splitting the train dataset into train and test.\n",
    "\n",
    "Later the model will be evaluated using the separate test data that was provided as a separate file"
   ]
  },
  {
   "cell_type": "code",
   "execution_count": 36,
   "metadata": {},
   "outputs": [],
   "source": [
    "X_train, X_train_test, y_train, y_train_test = train_test_split(\n",
    "    features_df,\n",
    "    labels_df,\n",
    "    test_size=0.3,\n",
    "    shuffle=True,\n",
    "    stratify=labels_df, # enforce even splits\n",
    "    random_state=42\n",
    ")"
   ]
  },
  {
   "cell_type": "markdown",
   "metadata": {},
   "source": [
    "#### Model training"
   ]
  },
  {
   "cell_type": "code",
   "execution_count": 37,
   "metadata": {},
   "outputs": [
    {
     "data": {
      "text/plain": [
       "[array([[0.95138922, 0.04861078],\n",
       "        [0.854483  , 0.145517  ],\n",
       "        [0.97502413, 0.02497587],\n",
       "        ...,\n",
       "        [0.70545918, 0.29454082],\n",
       "        [0.41456829, 0.58543171],\n",
       "        [0.93665301, 0.06334699]]),\n",
       " array([[0.93569526, 0.06430474],\n",
       "        [0.69169398, 0.30830602],\n",
       "        [0.98163324, 0.01836676],\n",
       "        ...,\n",
       "        [0.64042428, 0.35957572],\n",
       "        [0.08724774, 0.91275226],\n",
       "        [0.46803151, 0.53196849]])]"
      ]
     },
     "execution_count": 37,
     "metadata": {},
     "output_type": "execute_result"
    }
   ],
   "source": [
    "# Train model\n",
    "model_1.fit(X_train, y_train)\n",
    "\n",
    "# Predict on evaluation set\n",
    "y_preds = model_1.predict_proba(X_train_test)\n",
    "y_preds"
   ]
  },
  {
   "cell_type": "markdown",
   "metadata": {},
   "source": [
    "##### checking the shape of the "
   ]
  },
  {
   "cell_type": "code",
   "execution_count": 38,
   "metadata": {},
   "outputs": [
    {
     "name": "stdout",
     "output_type": "stream",
     "text": [
      "test_probas[0].shape (8013, 2)\n",
      "test_probas[1].shape (8013, 2)\n"
     ]
    }
   ],
   "source": [
    "print(\"test_probas[0].shape\", y_preds[0].shape)\n",
    "print(\"test_probas[1].shape\", y_preds[1].shape)"
   ]
  },
  {
   "cell_type": "markdown",
   "metadata": {},
   "source": [
    "- There are two arrays containing the (number of observations, 2) whereby the first one is for h1n1_vaccine whreas the second one is for the seasonal_vaccine which have the probabilities of 0 and 1 respectively"
   ]
  },
  {
   "cell_type": "code",
   "execution_count": 39,
   "metadata": {},
   "outputs": [
    {
     "data": {
      "text/html": [
       "<div>\n",
       "<style scoped>\n",
       "    .dataframe tbody tr th:only-of-type {\n",
       "        vertical-align: middle;\n",
       "    }\n",
       "\n",
       "    .dataframe tbody tr th {\n",
       "        vertical-align: top;\n",
       "    }\n",
       "\n",
       "    .dataframe thead th {\n",
       "        text-align: right;\n",
       "    }\n",
       "</style>\n",
       "<table border=\"1\" class=\"dataframe\">\n",
       "  <thead>\n",
       "    <tr style=\"text-align: right;\">\n",
       "      <th></th>\n",
       "      <th>h1n1_vaccine</th>\n",
       "      <th>seasonal_vaccine</th>\n",
       "    </tr>\n",
       "    <tr>\n",
       "      <th>respondent_id</th>\n",
       "      <th></th>\n",
       "      <th></th>\n",
       "    </tr>\n",
       "  </thead>\n",
       "  <tbody>\n",
       "    <tr>\n",
       "      <th>7572</th>\n",
       "      <td>0.048611</td>\n",
       "      <td>0.064305</td>\n",
       "    </tr>\n",
       "    <tr>\n",
       "      <th>3586</th>\n",
       "      <td>0.145517</td>\n",
       "      <td>0.308306</td>\n",
       "    </tr>\n",
       "    <tr>\n",
       "      <th>14114</th>\n",
       "      <td>0.024976</td>\n",
       "      <td>0.018367</td>\n",
       "    </tr>\n",
       "    <tr>\n",
       "      <th>2426</th>\n",
       "      <td>0.926849</td>\n",
       "      <td>0.951727</td>\n",
       "    </tr>\n",
       "    <tr>\n",
       "      <th>13147</th>\n",
       "      <td>0.087216</td>\n",
       "      <td>0.940136</td>\n",
       "    </tr>\n",
       "  </tbody>\n",
       "</table>\n",
       "</div>"
      ],
      "text/plain": [
       "               h1n1_vaccine  seasonal_vaccine\n",
       "respondent_id                                \n",
       "7572               0.048611          0.064305\n",
       "3586               0.145517          0.308306\n",
       "14114              0.024976          0.018367\n",
       "2426               0.926849          0.951727\n",
       "13147              0.087216          0.940136"
      ]
     },
     "execution_count": 39,
     "metadata": {},
     "output_type": "execute_result"
    }
   ],
   "source": [
    "# Display index 1 for each of the two arrays\n",
    "y_prediction = pd.DataFrame(\n",
    "    {\n",
    "        \"h1n1_vaccine\": y_preds[0][:, 1],\n",
    "        \"seasonal_vaccine\": y_preds[1][:, 1],\n",
    "    },\n",
    "    index = y_train_test.index\n",
    ")\n",
    "y_prediction.head()"
   ]
  },
  {
   "cell_type": "markdown",
   "metadata": {},
   "source": [
    "### Plotting ROC Curves for Multilabel dataset"
   ]
  },
  {
   "cell_type": "code",
   "execution_count": 40,
   "metadata": {},
   "outputs": [],
   "source": [
    "# Function to create ROC Curve.\n",
    "def plot_roc(y_true, y_score, label_name, ax):\n",
    "    fpr, tpr, thresholds = roc_curve(y_true, y_score)\n",
    "    ax.plot(fpr, tpr, color = 'blue', lw=2)\n",
    "    ax.plot([0, 1], [0, 1], color='red', linestyle='--')\n",
    "    ax.set_ylabel('TPR')\n",
    "    ax.set_xlabel('FPR')\n",
    "    ax.set_title(f\"{label_name}: AUC = {roc_auc_score(y_true, y_score):.4f}\")"
   ]
  },
  {
   "cell_type": "code",
   "execution_count": 41,
   "metadata": {},
   "outputs": [
    {
     "data": {
      "image/png": "[encoded data removed]",
      "text/plain": [
       "<Figure size 576x288 with 2 Axes>"
      ]
     },
     "metadata": {
      "needs_background": "light"
     },
     "output_type": "display_data"
    }
   ],
   "source": [
    "# Plotting ROC Curve\n",
    "\n",
    "fig, ax = plt.subplots(1, 2, figsize=(8, 4))\n",
    "plot_roc(y_train_test['h1n1_vaccine'], y_prediction['h1n1_vaccine'], 'h1n1_vaccine',ax=ax[0])\n",
    "plot_roc(y_train_test['seasonal_vaccine'], y_prediction['seasonal_vaccine'], 'seasonal_vaccine',ax=ax[1])\n",
    "\n",
    "fig.tight_layout()"
   ]
  },
  {
   "cell_type": "markdown",
   "metadata": {},
   "source": [
    "- Both models seem to be performing well since the AUC score on h1n1_vaccine is 0.8254  and the AUC score on seasonal_vaccine is 0.8360."
   ]
  },
  {
   "cell_type": "code",
   "execution_count": 42,
   "metadata": {},
   "outputs": [
    {
     "data": {
      "text/plain": [
       "0.8307292673111957"
      ]
     },
     "execution_count": 42,
     "metadata": {},
     "output_type": "execute_result"
    }
   ],
   "source": [
    "# Average score for roc_auc \n",
    "roc_auc_score(y_train_test, y_prediction)"
   ]
  },
  {
   "cell_type": "markdown",
   "metadata": {},
   "source": [
    "- The average performance of the model based on the two different target variables is 83%"
   ]
  },
  {
   "cell_type": "markdown",
   "metadata": {},
   "source": [
    "### Generating and Testing Data Using The Test Set"
   ]
  },
  {
   "cell_type": "markdown",
   "metadata": {},
   "source": [
    "#### Retrain the model on full dataset"
   ]
  },
  {
   "cell_type": "code",
   "execution_count": 43,
   "metadata": {},
   "outputs": [
    {
     "data": {
      "text/html": [
       "<style>#sk-container-id-5 {color: black;}#sk-container-id-5 pre{padding: 0;}#sk-container-id-5 div.sk-toggleable {background-color: white;}#sk-container-id-5 label.sk-toggleable__label {cursor: pointer;display: block;width: 100%;margin-bottom: 0;padding: 0.3em;box-sizing: border-box;text-align: center;}#sk-container-id-5 label.sk-toggleable__label-arrow:before {content: \"▸\";float: left;margin-right: 0.25em;color: #696969;}#sk-container-id-5 label.sk-toggleable__label-arrow:hover:before {color: black;}#sk-container-id-5 div.sk-estimator:hover label.sk-toggleable__label-arrow:before {color: black;}#sk-container-id-5 div.sk-toggleable__content {max-height: 0;max-width: 0;overflow: hidden;text-align: left;background-color: #f0f8ff;}#sk-container-id-5 div.sk-toggleable__content pre {margin: 0.2em;color: black;border-radius: 0.25em;background-color: #f0f8ff;}#sk-container-id-5 input.sk-toggleable__control:checked~div.sk-toggleable__content {max-height: 200px;max-width: 100%;overflow: auto;}#sk-container-id-5 input.sk-toggleable__control:checked~label.sk-toggleable__label-arrow:before {content: \"▾\";}#sk-container-id-5 div.sk-estimator input.sk-toggleable__control:checked~label.sk-toggleable__label {background-color: #d4ebff;}#sk-container-id-5 div.sk-label input.sk-toggleable__control:checked~label.sk-toggleable__label {background-color: #d4ebff;}#sk-container-id-5 input.sk-hidden--visually {border: 0;clip: rect(1px 1px 1px 1px);clip: rect(1px, 1px, 1px, 1px);height: 1px;margin: -1px;overflow: hidden;padding: 0;position: absolute;width: 1px;}#sk-container-id-5 div.sk-estimator {font-family: monospace;background-color: #f0f8ff;border: 1px dotted black;border-radius: 0.25em;box-sizing: border-box;margin-bottom: 0.5em;}#sk-container-id-5 div.sk-estimator:hover {background-color: #d4ebff;}#sk-container-id-5 div.sk-parallel-item::after {content: \"\";width: 100%;border-bottom: 1px solid gray;flex-grow: 1;}#sk-container-id-5 div.sk-label:hover label.sk-toggleable__label {background-color: #d4ebff;}#sk-container-id-5 div.sk-serial::before {content: \"\";position: absolute;border-left: 1px solid gray;box-sizing: border-box;top: 0;bottom: 0;left: 50%;z-index: 0;}#sk-container-id-5 div.sk-serial {display: flex;flex-direction: column;align-items: center;background-color: white;padding-right: 0.2em;padding-left: 0.2em;position: relative;}#sk-container-id-5 div.sk-item {position: relative;z-index: 1;}#sk-container-id-5 div.sk-parallel {display: flex;align-items: stretch;justify-content: center;background-color: white;position: relative;}#sk-container-id-5 div.sk-item::before, #sk-container-id-5 div.sk-parallel-item::before {content: \"\";position: absolute;border-left: 1px solid gray;box-sizing: border-box;top: 0;bottom: 0;left: 50%;z-index: -1;}#sk-container-id-5 div.sk-parallel-item {display: flex;flex-direction: column;z-index: 1;position: relative;background-color: white;}#sk-container-id-5 div.sk-parallel-item:first-child::after {align-self: flex-end;width: 50%;}#sk-container-id-5 div.sk-parallel-item:last-child::after {align-self: flex-start;width: 50%;}#sk-container-id-5 div.sk-parallel-item:only-child::after {width: 0;}#sk-container-id-5 div.sk-dashed-wrapped {border: 1px dashed gray;margin: 0 0.4em 0.5em 0.4em;box-sizing: border-box;padding-bottom: 0.4em;background-color: white;}#sk-container-id-5 div.sk-label label {font-family: monospace;font-weight: bold;display: inline-block;line-height: 1.2em;}#sk-container-id-5 div.sk-label-container {text-align: center;}#sk-container-id-5 div.sk-container {/* jupyter's `normalize.less` sets `[hidden] { display: none; }` but bootstrap.min.css set `[hidden] { display: none !important; }` so we also need the `!important` here to be able to override the default hidden behavior on the sphinx rendered scikit-learn.org. See: https://github.com/scikit-learn/scikit-learn/issues/21755 */display: inline-block !important;position: relative;}#sk-container-id-5 div.sk-text-repr-fallback {display: none;}</style><div id=\"sk-container-id-5\" class=\"sk-top-container\"><div class=\"sk-text-repr-fallback\"><pre>Pipeline(steps=[(&#x27;preprocessor&#x27;,\n",
       "                 ColumnTransformer(transformers=[(&#x27;numerical&#x27;,\n",
       "                                                  Pipeline(steps=[(&#x27;standard_scaler&#x27;,\n",
       "                                                                   StandardScaler()),\n",
       "                                                                  (&#x27;simple_imputer&#x27;,\n",
       "                                                                   SimpleImputer(strategy=&#x27;median&#x27;))]),\n",
       "                                                  [&#x27;h1n1_concern&#x27;,\n",
       "                                                   &#x27;h1n1_knowledge&#x27;,\n",
       "                                                   &#x27;behavioral_antiviral_meds&#x27;,\n",
       "                                                   &#x27;behavioral_avoidance&#x27;,\n",
       "                                                   &#x27;behavioral_face_mask&#x27;,\n",
       "                                                   &#x27;behavioral_wash_hands&#x27;,\n",
       "                                                   &#x27;behavioral_large_gatherings&#x27;,\n",
       "                                                   &#x27;beha...\n",
       "                                                   &#x27;chronic_med_condition&#x27;,\n",
       "                                                   &#x27;child_under_6_months&#x27;,\n",
       "                                                   &#x27;health_worker&#x27;,\n",
       "                                                   &#x27;health_insurance&#x27;,\n",
       "                                                   &#x27;opinion_h1n1_vacc_effective&#x27;,\n",
       "                                                   &#x27;opinion_h1n1_risk&#x27;,\n",
       "                                                   &#x27;opinion_h1n1_sick_from_vacc&#x27;,\n",
       "                                                   &#x27;opinion_seas_vacc_effective&#x27;,\n",
       "                                                   &#x27;opinion_seas_risk&#x27;,\n",
       "                                                   &#x27;opinion_seas_sick_from_vacc&#x27;,\n",
       "                                                   &#x27;household_adults&#x27;,\n",
       "                                                   &#x27;household_children&#x27;])])),\n",
       "                (&#x27;estimators&#x27;,\n",
       "                 MultiOutputClassifier(estimator=LogisticRegression(C=1)))])</pre><b>In a Jupyter environment, please rerun this cell to show the HTML representation or trust the notebook. <br />On GitHub, the HTML representation is unable to render, please try loading this page with nbviewer.org.</b></div><div class=\"sk-container\" hidden><div class=\"sk-item sk-dashed-wrapped\"><div class=\"sk-label-container\"><div class=\"sk-label sk-toggleable\"><input class=\"sk-toggleable__control sk-hidden--visually\" id=\"sk-estimator-id-19\" type=\"checkbox\" ><label for=\"sk-estimator-id-19\" class=\"sk-toggleable__label sk-toggleable__label-arrow\">Pipeline</label><div class=\"sk-toggleable__content\"><pre>Pipeline(steps=[(&#x27;preprocessor&#x27;,\n",
       "                 ColumnTransformer(transformers=[(&#x27;numerical&#x27;,\n",
       "                                                  Pipeline(steps=[(&#x27;standard_scaler&#x27;,\n",
       "                                                                   StandardScaler()),\n",
       "                                                                  (&#x27;simple_imputer&#x27;,\n",
       "                                                                   SimpleImputer(strategy=&#x27;median&#x27;))]),\n",
       "                                                  [&#x27;h1n1_concern&#x27;,\n",
       "                                                   &#x27;h1n1_knowledge&#x27;,\n",
       "                                                   &#x27;behavioral_antiviral_meds&#x27;,\n",
       "                                                   &#x27;behavioral_avoidance&#x27;,\n",
       "                                                   &#x27;behavioral_face_mask&#x27;,\n",
       "                                                   &#x27;behavioral_wash_hands&#x27;,\n",
       "                                                   &#x27;behavioral_large_gatherings&#x27;,\n",
       "                                                   &#x27;beha...\n",
       "                                                   &#x27;chronic_med_condition&#x27;,\n",
       "                                                   &#x27;child_under_6_months&#x27;,\n",
       "                                                   &#x27;health_worker&#x27;,\n",
       "                                                   &#x27;health_insurance&#x27;,\n",
       "                                                   &#x27;opinion_h1n1_vacc_effective&#x27;,\n",
       "                                                   &#x27;opinion_h1n1_risk&#x27;,\n",
       "                                                   &#x27;opinion_h1n1_sick_from_vacc&#x27;,\n",
       "                                                   &#x27;opinion_seas_vacc_effective&#x27;,\n",
       "                                                   &#x27;opinion_seas_risk&#x27;,\n",
       "                                                   &#x27;opinion_seas_sick_from_vacc&#x27;,\n",
       "                                                   &#x27;household_adults&#x27;,\n",
       "                                                   &#x27;household_children&#x27;])])),\n",
       "                (&#x27;estimators&#x27;,\n",
       "                 MultiOutputClassifier(estimator=LogisticRegression(C=1)))])</pre></div></div></div><div class=\"sk-serial\"><div class=\"sk-item sk-dashed-wrapped\"><div class=\"sk-label-container\"><div class=\"sk-label sk-toggleable\"><input class=\"sk-toggleable__control sk-hidden--visually\" id=\"sk-estimator-id-20\" type=\"checkbox\" ><label for=\"sk-estimator-id-20\" class=\"sk-toggleable__label sk-toggleable__label-arrow\">preprocessor: ColumnTransformer</label><div class=\"sk-toggleable__content\"><pre>ColumnTransformer(transformers=[(&#x27;numerical&#x27;,\n",
       "                                 Pipeline(steps=[(&#x27;standard_scaler&#x27;,\n",
       "                                                  StandardScaler()),\n",
       "                                                 (&#x27;simple_imputer&#x27;,\n",
       "                                                  SimpleImputer(strategy=&#x27;median&#x27;))]),\n",
       "                                 [&#x27;h1n1_concern&#x27;, &#x27;h1n1_knowledge&#x27;,\n",
       "                                  &#x27;behavioral_antiviral_meds&#x27;,\n",
       "                                  &#x27;behavioral_avoidance&#x27;,\n",
       "                                  &#x27;behavioral_face_mask&#x27;,\n",
       "                                  &#x27;behavioral_wash_hands&#x27;,\n",
       "                                  &#x27;behavioral_large_gatherings&#x27;,\n",
       "                                  &#x27;behavioral_outside_home&#x27;,\n",
       "                                  &#x27;behavioral_touch_face&#x27;, &#x27;doctor_recc_h1n1&#x27;,\n",
       "                                  &#x27;doctor_recc_seasonal&#x27;,\n",
       "                                  &#x27;chronic_med_condition&#x27;,\n",
       "                                  &#x27;child_under_6_months&#x27;, &#x27;health_worker&#x27;,\n",
       "                                  &#x27;health_insurance&#x27;,\n",
       "                                  &#x27;opinion_h1n1_vacc_effective&#x27;,\n",
       "                                  &#x27;opinion_h1n1_risk&#x27;,\n",
       "                                  &#x27;opinion_h1n1_sick_from_vacc&#x27;,\n",
       "                                  &#x27;opinion_seas_vacc_effective&#x27;,\n",
       "                                  &#x27;opinion_seas_risk&#x27;,\n",
       "                                  &#x27;opinion_seas_sick_from_vacc&#x27;,\n",
       "                                  &#x27;household_adults&#x27;, &#x27;household_children&#x27;])])</pre></div></div></div><div class=\"sk-parallel\"><div class=\"sk-parallel-item\"><div class=\"sk-item\"><div class=\"sk-label-container\"><div class=\"sk-label sk-toggleable\"><input class=\"sk-toggleable__control sk-hidden--visually\" id=\"sk-estimator-id-21\" type=\"checkbox\" ><label for=\"sk-estimator-id-21\" class=\"sk-toggleable__label sk-toggleable__label-arrow\">numerical</label><div class=\"sk-toggleable__content\"><pre>[&#x27;h1n1_concern&#x27;, &#x27;h1n1_knowledge&#x27;, &#x27;behavioral_antiviral_meds&#x27;, &#x27;behavioral_avoidance&#x27;, &#x27;behavioral_face_mask&#x27;, &#x27;behavioral_wash_hands&#x27;, &#x27;behavioral_large_gatherings&#x27;, &#x27;behavioral_outside_home&#x27;, &#x27;behavioral_touch_face&#x27;, &#x27;doctor_recc_h1n1&#x27;, &#x27;doctor_recc_seasonal&#x27;, &#x27;chronic_med_condition&#x27;, &#x27;child_under_6_months&#x27;, &#x27;health_worker&#x27;, &#x27;health_insurance&#x27;, &#x27;opinion_h1n1_vacc_effective&#x27;, &#x27;opinion_h1n1_risk&#x27;, &#x27;opinion_h1n1_sick_from_vacc&#x27;, &#x27;opinion_seas_vacc_effective&#x27;, &#x27;opinion_seas_risk&#x27;, &#x27;opinion_seas_sick_from_vacc&#x27;, &#x27;household_adults&#x27;, &#x27;household_children&#x27;]</pre></div></div></div><div class=\"sk-serial\"><div class=\"sk-item\"><div class=\"sk-serial\"><div class=\"sk-item\"><div class=\"sk-estimator sk-toggleable\"><input class=\"sk-toggleable__control sk-hidden--visually\" id=\"sk-estimator-id-22\" type=\"checkbox\" ><label for=\"sk-estimator-id-22\" class=\"sk-toggleable__label sk-toggleable__label-arrow\">StandardScaler</label><div class=\"sk-toggleable__content\"><pre>StandardScaler()</pre></div></div></div><div class=\"sk-item\"><div class=\"sk-estimator sk-toggleable\"><input class=\"sk-toggleable__control sk-hidden--visually\" id=\"sk-estimator-id-23\" type=\"checkbox\" ><label for=\"sk-estimator-id-23\" class=\"sk-toggleable__label sk-toggleable__label-arrow\">SimpleImputer</label><div class=\"sk-toggleable__content\"><pre>SimpleImputer(strategy=&#x27;median&#x27;)</pre></div></div></div></div></div></div></div></div></div></div><div class=\"sk-item sk-dashed-wrapped\"><div class=\"sk-label-container\"><div class=\"sk-label sk-toggleable\"><input class=\"sk-toggleable__control sk-hidden--visually\" id=\"sk-estimator-id-24\" type=\"checkbox\" ><label for=\"sk-estimator-id-24\" class=\"sk-toggleable__label sk-toggleable__label-arrow\">estimators: MultiOutputClassifier</label><div class=\"sk-toggleable__content\"><pre>MultiOutputClassifier(estimator=LogisticRegression(C=1))</pre></div></div></div><div class=\"sk-parallel\"><div class=\"sk-parallel-item\"><div class=\"sk-item\"><div class=\"sk-label-container\"><div class=\"sk-label sk-toggleable\"><input class=\"sk-toggleable__control sk-hidden--visually\" id=\"sk-estimator-id-25\" type=\"checkbox\" ><label for=\"sk-estimator-id-25\" class=\"sk-toggleable__label sk-toggleable__label-arrow\">estimator: LogisticRegression</label><div class=\"sk-toggleable__content\"><pre>LogisticRegression(C=1)</pre></div></div></div><div class=\"sk-serial\"><div class=\"sk-item\"><div class=\"sk-estimator sk-toggleable\"><input class=\"sk-toggleable__control sk-hidden--visually\" id=\"sk-estimator-id-26\" type=\"checkbox\" ><label for=\"sk-estimator-id-26\" class=\"sk-toggleable__label sk-toggleable__label-arrow\">LogisticRegression</label><div class=\"sk-toggleable__content\"><pre>LogisticRegression(C=1)</pre></div></div></div></div></div></div></div></div></div></div></div></div>"
      ],
      "text/plain": [
       "Pipeline(steps=[('preprocessor',\n",
       "                 ColumnTransformer(transformers=[('numerical',\n",
       "                                                  Pipeline(steps=[('standard_scaler',\n",
       "                                                                   StandardScaler()),\n",
       "                                                                  ('simple_imputer',\n",
       "                                                                   SimpleImputer(strategy='median'))]),\n",
       "                                                  ['h1n1_concern',\n",
       "                                                   'h1n1_knowledge',\n",
       "                                                   'behavioral_antiviral_meds',\n",
       "                                                   'behavioral_avoidance',\n",
       "                                                   'behavioral_face_mask',\n",
       "                                                   'behavioral_wash_hands',\n",
       "                                                   'behavioral_large_gatherings',\n",
       "                                                   'beha...\n",
       "                                                   'chronic_med_condition',\n",
       "                                                   'child_under_6_months',\n",
       "                                                   'health_worker',\n",
       "                                                   'health_insurance',\n",
       "                                                   'opinion_h1n1_vacc_effective',\n",
       "                                                   'opinion_h1n1_risk',\n",
       "                                                   'opinion_h1n1_sick_from_vacc',\n",
       "                                                   'opinion_seas_vacc_effective',\n",
       "                                                   'opinion_seas_risk',\n",
       "                                                   'opinion_seas_sick_from_vacc',\n",
       "                                                   'household_adults',\n",
       "                                                   'household_children'])])),\n",
       "                ('estimators',\n",
       "                 MultiOutputClassifier(estimator=LogisticRegression(C=1)))])"
      ]
     },
     "execution_count": 43,
     "metadata": {},
     "output_type": "execute_result"
    }
   ],
   "source": [
    "\n",
    "model_1.fit(features_df, labels_df)"
   ]
  },
  {
   "cell_type": "code",
   "execution_count": 44,
   "metadata": {},
   "outputs": [
    {
     "data": {
      "text/html": [
       "<div>\n",
       "<style scoped>\n",
       "    .dataframe tbody tr th:only-of-type {\n",
       "        vertical-align: middle;\n",
       "    }\n",
       "\n",
       "    .dataframe tbody tr th {\n",
       "        vertical-align: top;\n",
       "    }\n",
       "\n",
       "    .dataframe thead th {\n",
       "        text-align: right;\n",
       "    }\n",
       "</style>\n",
       "<table border=\"1\" class=\"dataframe\">\n",
       "  <thead>\n",
       "    <tr style=\"text-align: right;\">\n",
       "      <th></th>\n",
       "      <th>h1n1_concern</th>\n",
       "      <th>h1n1_knowledge</th>\n",
       "      <th>behavioral_antiviral_meds</th>\n",
       "      <th>behavioral_avoidance</th>\n",
       "      <th>behavioral_face_mask</th>\n",
       "      <th>behavioral_wash_hands</th>\n",
       "      <th>behavioral_large_gatherings</th>\n",
       "      <th>behavioral_outside_home</th>\n",
       "      <th>behavioral_touch_face</th>\n",
       "      <th>doctor_recc_h1n1</th>\n",
       "      <th>...</th>\n",
       "      <th>income_poverty</th>\n",
       "      <th>marital_status</th>\n",
       "      <th>rent_or_own</th>\n",
       "      <th>employment_status</th>\n",
       "      <th>hhs_geo_region</th>\n",
       "      <th>census_msa</th>\n",
       "      <th>household_adults</th>\n",
       "      <th>household_children</th>\n",
       "      <th>employment_industry</th>\n",
       "      <th>employment_occupation</th>\n",
       "    </tr>\n",
       "    <tr>\n",
       "      <th>respondent_id</th>\n",
       "      <th></th>\n",
       "      <th></th>\n",
       "      <th></th>\n",
       "      <th></th>\n",
       "      <th></th>\n",
       "      <th></th>\n",
       "      <th></th>\n",
       "      <th></th>\n",
       "      <th></th>\n",
       "      <th></th>\n",
       "      <th></th>\n",
       "      <th></th>\n",
       "      <th></th>\n",
       "      <th></th>\n",
       "      <th></th>\n",
       "      <th></th>\n",
       "      <th></th>\n",
       "      <th></th>\n",
       "      <th></th>\n",
       "      <th></th>\n",
       "      <th></th>\n",
       "    </tr>\n",
       "  </thead>\n",
       "  <tbody>\n",
       "    <tr>\n",
       "      <th>26707</th>\n",
       "      <td>2.0</td>\n",
       "      <td>2.0</td>\n",
       "      <td>0.0</td>\n",
       "      <td>1.0</td>\n",
       "      <td>0.0</td>\n",
       "      <td>1.0</td>\n",
       "      <td>1.0</td>\n",
       "      <td>0.0</td>\n",
       "      <td>1.0</td>\n",
       "      <td>0.0</td>\n",
       "      <td>...</td>\n",
       "      <td>&gt; $75,000</td>\n",
       "      <td>Not Married</td>\n",
       "      <td>Rent</td>\n",
       "      <td>Employed</td>\n",
       "      <td>mlyzmhmf</td>\n",
       "      <td>MSA, Not Principle  City</td>\n",
       "      <td>1.0</td>\n",
       "      <td>0.0</td>\n",
       "      <td>atmlpfrs</td>\n",
       "      <td>hfxkjkmi</td>\n",
       "    </tr>\n",
       "    <tr>\n",
       "      <th>26708</th>\n",
       "      <td>1.0</td>\n",
       "      <td>1.0</td>\n",
       "      <td>0.0</td>\n",
       "      <td>0.0</td>\n",
       "      <td>0.0</td>\n",
       "      <td>0.0</td>\n",
       "      <td>0.0</td>\n",
       "      <td>0.0</td>\n",
       "      <td>0.0</td>\n",
       "      <td>0.0</td>\n",
       "      <td>...</td>\n",
       "      <td>Below Poverty</td>\n",
       "      <td>Not Married</td>\n",
       "      <td>Rent</td>\n",
       "      <td>Employed</td>\n",
       "      <td>bhuqouqj</td>\n",
       "      <td>Non-MSA</td>\n",
       "      <td>3.0</td>\n",
       "      <td>0.0</td>\n",
       "      <td>atmlpfrs</td>\n",
       "      <td>xqwwgdyp</td>\n",
       "    </tr>\n",
       "    <tr>\n",
       "      <th>26709</th>\n",
       "      <td>2.0</td>\n",
       "      <td>2.0</td>\n",
       "      <td>0.0</td>\n",
       "      <td>0.0</td>\n",
       "      <td>1.0</td>\n",
       "      <td>1.0</td>\n",
       "      <td>1.0</td>\n",
       "      <td>1.0</td>\n",
       "      <td>1.0</td>\n",
       "      <td>0.0</td>\n",
       "      <td>...</td>\n",
       "      <td>&gt; $75,000</td>\n",
       "      <td>Married</td>\n",
       "      <td>Own</td>\n",
       "      <td>Employed</td>\n",
       "      <td>lrircsnp</td>\n",
       "      <td>Non-MSA</td>\n",
       "      <td>1.0</td>\n",
       "      <td>0.0</td>\n",
       "      <td>nduyfdeo</td>\n",
       "      <td>pvmttkik</td>\n",
       "    </tr>\n",
       "    <tr>\n",
       "      <th>26710</th>\n",
       "      <td>1.0</td>\n",
       "      <td>1.0</td>\n",
       "      <td>0.0</td>\n",
       "      <td>0.0</td>\n",
       "      <td>0.0</td>\n",
       "      <td>0.0</td>\n",
       "      <td>0.0</td>\n",
       "      <td>0.0</td>\n",
       "      <td>0.0</td>\n",
       "      <td>1.0</td>\n",
       "      <td>...</td>\n",
       "      <td>&lt;= $75,000, Above Poverty</td>\n",
       "      <td>Married</td>\n",
       "      <td>Own</td>\n",
       "      <td>Not in Labor Force</td>\n",
       "      <td>lrircsnp</td>\n",
       "      <td>MSA, Not Principle  City</td>\n",
       "      <td>1.0</td>\n",
       "      <td>0.0</td>\n",
       "      <td>NaN</td>\n",
       "      <td>NaN</td>\n",
       "    </tr>\n",
       "    <tr>\n",
       "      <th>26711</th>\n",
       "      <td>3.0</td>\n",
       "      <td>1.0</td>\n",
       "      <td>1.0</td>\n",
       "      <td>1.0</td>\n",
       "      <td>0.0</td>\n",
       "      <td>1.0</td>\n",
       "      <td>1.0</td>\n",
       "      <td>1.0</td>\n",
       "      <td>1.0</td>\n",
       "      <td>0.0</td>\n",
       "      <td>...</td>\n",
       "      <td>&lt;= $75,000, Above Poverty</td>\n",
       "      <td>Not Married</td>\n",
       "      <td>Own</td>\n",
       "      <td>Employed</td>\n",
       "      <td>lzgpxyit</td>\n",
       "      <td>Non-MSA</td>\n",
       "      <td>0.0</td>\n",
       "      <td>1.0</td>\n",
       "      <td>fcxhlnwr</td>\n",
       "      <td>mxkfnird</td>\n",
       "    </tr>\n",
       "  </tbody>\n",
       "</table>\n",
       "<p>5 rows × 35 columns</p>\n",
       "</div>"
      ],
      "text/plain": [
       "               h1n1_concern  h1n1_knowledge  behavioral_antiviral_meds  \\\n",
       "respondent_id                                                            \n",
       "26707                   2.0             2.0                        0.0   \n",
       "26708                   1.0             1.0                        0.0   \n",
       "26709                   2.0             2.0                        0.0   \n",
       "26710                   1.0             1.0                        0.0   \n",
       "26711                   3.0             1.0                        1.0   \n",
       "\n",
       "               behavioral_avoidance  behavioral_face_mask  \\\n",
       "respondent_id                                               \n",
       "26707                           1.0                   0.0   \n",
       "26708                           0.0                   0.0   \n",
       "26709                           0.0                   1.0   \n",
       "26710                           0.0                   0.0   \n",
       "26711                           1.0                   0.0   \n",
       "\n",
       "               behavioral_wash_hands  behavioral_large_gatherings  \\\n",
       "respondent_id                                                       \n",
       "26707                            1.0                          1.0   \n",
       "26708                            0.0                          0.0   \n",
       "26709                            1.0                          1.0   \n",
       "26710                            0.0                          0.0   \n",
       "26711                            1.0                          1.0   \n",
       "\n",
       "               behavioral_outside_home  behavioral_touch_face  \\\n",
       "respondent_id                                                   \n",
       "26707                              0.0                    1.0   \n",
       "26708                              0.0                    0.0   \n",
       "26709                              1.0                    1.0   \n",
       "26710                              0.0                    0.0   \n",
       "26711                              1.0                    1.0   \n",
       "\n",
       "               doctor_recc_h1n1  ...             income_poverty  \\\n",
       "respondent_id                    ...                              \n",
       "26707                       0.0  ...                  > $75,000   \n",
       "26708                       0.0  ...              Below Poverty   \n",
       "26709                       0.0  ...                  > $75,000   \n",
       "26710                       1.0  ...  <= $75,000, Above Poverty   \n",
       "26711                       0.0  ...  <= $75,000, Above Poverty   \n",
       "\n",
       "               marital_status  rent_or_own   employment_status  \\\n",
       "respondent_id                                                    \n",
       "26707             Not Married         Rent            Employed   \n",
       "26708             Not Married         Rent            Employed   \n",
       "26709                 Married          Own            Employed   \n",
       "26710                 Married          Own  Not in Labor Force   \n",
       "26711             Not Married          Own            Employed   \n",
       "\n",
       "               hhs_geo_region                census_msa  household_adults  \\\n",
       "respondent_id                                                               \n",
       "26707                mlyzmhmf  MSA, Not Principle  City               1.0   \n",
       "26708                bhuqouqj                   Non-MSA               3.0   \n",
       "26709                lrircsnp                   Non-MSA               1.0   \n",
       "26710                lrircsnp  MSA, Not Principle  City               1.0   \n",
       "26711                lzgpxyit                   Non-MSA               0.0   \n",
       "\n",
       "               household_children  employment_industry  employment_occupation  \n",
       "respondent_id                                                                  \n",
       "26707                         0.0             atmlpfrs               hfxkjkmi  \n",
       "26708                         0.0             atmlpfrs               xqwwgdyp  \n",
       "26709                         0.0             nduyfdeo               pvmttkik  \n",
       "26710                         0.0                  NaN                    NaN  \n",
       "26711                         1.0             fcxhlnwr               mxkfnird  \n",
       "\n",
       "[5 rows x 35 columns]"
      ]
     },
     "execution_count": 44,
     "metadata": {},
     "output_type": "execute_result"
    }
   ],
   "source": [
    "# load the test set\n",
    "test_features_df = pd.read_csv(\"Data/test_set_features.csv\", index_col=\"respondent_id\")\n",
    "test_features_df.head()"
   ]
  },
  {
   "cell_type": "code",
   "execution_count": 45,
   "metadata": {},
   "outputs": [
    {
     "data": {
      "text/plain": [
       "[array([[0.87280333, 0.12719667],\n",
       "        [0.94475602, 0.05524398],\n",
       "        [0.62906951, 0.37093049],\n",
       "        ...,\n",
       "        [0.80411015, 0.19588985],\n",
       "        [0.9492446 , 0.0507554 ],\n",
       "        [0.38421362, 0.61578638]]),\n",
       " array([[0.57359831, 0.42640169],\n",
       "        [0.92876678, 0.07123322],\n",
       "        [0.3626162 , 0.6373838 ],\n",
       "        ...,\n",
       "        [0.59872448, 0.40127552],\n",
       "        [0.68003071, 0.31996929],\n",
       "        [0.35787941, 0.64212059]])]"
      ]
     },
     "execution_count": 45,
     "metadata": {},
     "output_type": "execute_result"
    }
   ],
   "source": [
    "test_probabilities = model_1.predict_proba(test_features_df)\n",
    "test_probabilities"
   ]
  },
  {
   "cell_type": "markdown",
   "metadata": {},
   "source": [
    "### **Comments on Logistic Regression**\n",
    "\n",
    "- From the scores (83.14%) it is evident that based on the information that was shared about people's backgrounds, opinions and health behaviours, people took H1N1 and Seasonal Flue Vaccines.\n",
    "- It therefore implies that a persons background, Opinion and Health Behaviour affect the uptake of a vaccine.\n",
    "- The model performance is good but it is not perfect since it has an 83% performance out of the total 100%\n",
    "\n",
    "\n",
    "To test whether the a different model would perform better, a Decision Tree Classification Model (ID3) will be developed."
   ]
  },
  {
   "cell_type": "markdown",
   "metadata": {},
   "source": [
    "### **Model 2: Decision Tree Classifier Vanilla Model**\n",
    "\n",
    "Since the performance of the models are almost similar on H1N1 and Seasonal Flu Vaccine target variables, the Decision Tree Model will be developed using only one target variables.\n",
    "\n",
    "A simple Decision Tree Model (Vanila Model) is built here"
   ]
  },
  {
   "cell_type": "markdown",
   "metadata": {},
   "source": [
    "##### Importing Necessary Libraries"
   ]
  },
  {
   "cell_type": "code",
   "execution_count": 46,
   "metadata": {},
   "outputs": [],
   "source": [
    "from sklearn.tree import DecisionTreeClassifier \n",
    "from sklearn.metrics import roc_curve, roc_auc_score, auc\n",
    "from sklearn.preprocessing import OneHotEncoder\n",
    "from sklearn import tree"
   ]
  },
  {
   "cell_type": "markdown",
   "metadata": {},
   "source": [
    "#### Selecting Features and Target Variable"
   ]
  },
  {
   "cell_type": "markdown",
   "metadata": {},
   "source": [
    "This model will use the columns that were previously selected based on domain knowledge and also one target variable instead of a multilabel problem which was done in the Logistic Regression.\n",
    "\n",
    "The decision to use one target variable was arrived at after the first model proved to be performing almost similarly."
   ]
  },
  {
   "cell_type": "code",
   "execution_count": 47,
   "metadata": {},
   "outputs": [
    {
     "data": {
      "text/html": [
       "<div>\n",
       "<style scoped>\n",
       "    .dataframe tbody tr th:only-of-type {\n",
       "        vertical-align: middle;\n",
       "    }\n",
       "\n",
       "    .dataframe tbody tr th {\n",
       "        vertical-align: top;\n",
       "    }\n",
       "\n",
       "    .dataframe thead th {\n",
       "        text-align: right;\n",
       "    }\n",
       "</style>\n",
       "<table border=\"1\" class=\"dataframe\">\n",
       "  <thead>\n",
       "    <tr style=\"text-align: right;\">\n",
       "      <th></th>\n",
       "      <th>h1n1_concern</th>\n",
       "      <th>h1n1_knowledge</th>\n",
       "      <th>opinion_h1n1_vacc_effective</th>\n",
       "      <th>opinion_h1n1_risk</th>\n",
       "      <th>opinion_h1n1_sick_from_vacc</th>\n",
       "      <th>opinion_seas_vacc_effective</th>\n",
       "      <th>opinion_seas_risk</th>\n",
       "      <th>opinion_seas_sick_from_vacc</th>\n",
       "      <th>doctor_recc_h1n1</th>\n",
       "      <th>doctor_recc_seasonal</th>\n",
       "      <th>sex</th>\n",
       "      <th>age_group</th>\n",
       "      <th>race</th>\n",
       "    </tr>\n",
       "    <tr>\n",
       "      <th>respondent_id</th>\n",
       "      <th></th>\n",
       "      <th></th>\n",
       "      <th></th>\n",
       "      <th></th>\n",
       "      <th></th>\n",
       "      <th></th>\n",
       "      <th></th>\n",
       "      <th></th>\n",
       "      <th></th>\n",
       "      <th></th>\n",
       "      <th></th>\n",
       "      <th></th>\n",
       "      <th></th>\n",
       "    </tr>\n",
       "  </thead>\n",
       "  <tbody>\n",
       "    <tr>\n",
       "      <th>0</th>\n",
       "      <td>1.0</td>\n",
       "      <td>0.0</td>\n",
       "      <td>3.0</td>\n",
       "      <td>1.0</td>\n",
       "      <td>2.0</td>\n",
       "      <td>2.0</td>\n",
       "      <td>1.0</td>\n",
       "      <td>2.0</td>\n",
       "      <td>0.0</td>\n",
       "      <td>0.0</td>\n",
       "      <td>Female</td>\n",
       "      <td>55 - 64 Years</td>\n",
       "      <td>White</td>\n",
       "    </tr>\n",
       "    <tr>\n",
       "      <th>1</th>\n",
       "      <td>3.0</td>\n",
       "      <td>2.0</td>\n",
       "      <td>5.0</td>\n",
       "      <td>4.0</td>\n",
       "      <td>4.0</td>\n",
       "      <td>4.0</td>\n",
       "      <td>2.0</td>\n",
       "      <td>4.0</td>\n",
       "      <td>0.0</td>\n",
       "      <td>0.0</td>\n",
       "      <td>Male</td>\n",
       "      <td>35 - 44 Years</td>\n",
       "      <td>White</td>\n",
       "    </tr>\n",
       "    <tr>\n",
       "      <th>2</th>\n",
       "      <td>1.0</td>\n",
       "      <td>1.0</td>\n",
       "      <td>3.0</td>\n",
       "      <td>1.0</td>\n",
       "      <td>1.0</td>\n",
       "      <td>4.0</td>\n",
       "      <td>1.0</td>\n",
       "      <td>2.0</td>\n",
       "      <td>0.0</td>\n",
       "      <td>0.0</td>\n",
       "      <td>Male</td>\n",
       "      <td>18 - 34 Years</td>\n",
       "      <td>White</td>\n",
       "    </tr>\n",
       "    <tr>\n",
       "      <th>3</th>\n",
       "      <td>1.0</td>\n",
       "      <td>1.0</td>\n",
       "      <td>3.0</td>\n",
       "      <td>3.0</td>\n",
       "      <td>5.0</td>\n",
       "      <td>5.0</td>\n",
       "      <td>4.0</td>\n",
       "      <td>1.0</td>\n",
       "      <td>0.0</td>\n",
       "      <td>1.0</td>\n",
       "      <td>Female</td>\n",
       "      <td>65+ Years</td>\n",
       "      <td>White</td>\n",
       "    </tr>\n",
       "    <tr>\n",
       "      <th>4</th>\n",
       "      <td>2.0</td>\n",
       "      <td>1.0</td>\n",
       "      <td>3.0</td>\n",
       "      <td>3.0</td>\n",
       "      <td>2.0</td>\n",
       "      <td>3.0</td>\n",
       "      <td>1.0</td>\n",
       "      <td>4.0</td>\n",
       "      <td>0.0</td>\n",
       "      <td>0.0</td>\n",
       "      <td>Female</td>\n",
       "      <td>45 - 54 Years</td>\n",
       "      <td>White</td>\n",
       "    </tr>\n",
       "  </tbody>\n",
       "</table>\n",
       "</div>"
      ],
      "text/plain": [
       "               h1n1_concern  h1n1_knowledge  opinion_h1n1_vacc_effective  \\\n",
       "respondent_id                                                              \n",
       "0                       1.0             0.0                          3.0   \n",
       "1                       3.0             2.0                          5.0   \n",
       "2                       1.0             1.0                          3.0   \n",
       "3                       1.0             1.0                          3.0   \n",
       "4                       2.0             1.0                          3.0   \n",
       "\n",
       "               opinion_h1n1_risk  opinion_h1n1_sick_from_vacc  \\\n",
       "respondent_id                                                   \n",
       "0                            1.0                          2.0   \n",
       "1                            4.0                          4.0   \n",
       "2                            1.0                          1.0   \n",
       "3                            3.0                          5.0   \n",
       "4                            3.0                          2.0   \n",
       "\n",
       "               opinion_seas_vacc_effective  opinion_seas_risk  \\\n",
       "respondent_id                                                   \n",
       "0                                      2.0                1.0   \n",
       "1                                      4.0                2.0   \n",
       "2                                      4.0                1.0   \n",
       "3                                      5.0                4.0   \n",
       "4                                      3.0                1.0   \n",
       "\n",
       "               opinion_seas_sick_from_vacc  doctor_recc_h1n1  \\\n",
       "respondent_id                                                  \n",
       "0                                      2.0               0.0   \n",
       "1                                      4.0               0.0   \n",
       "2                                      2.0               0.0   \n",
       "3                                      1.0               0.0   \n",
       "4                                      4.0               0.0   \n",
       "\n",
       "               doctor_recc_seasonal     sex      age_group   race  \n",
       "respondent_id                                                      \n",
       "0                               0.0  Female  55 - 64 Years  White  \n",
       "1                               0.0    Male  35 - 44 Years  White  \n",
       "2                               0.0    Male  18 - 34 Years  White  \n",
       "3                               1.0  Female      65+ Years  White  \n",
       "4                               0.0  Female  45 - 54 Years  White  "
      ]
     },
     "execution_count": 47,
     "metadata": {},
     "output_type": "execute_result"
    }
   ],
   "source": [
    "# Selecting Features\n",
    "selected_cols_df = combined_df[selected_columns]\n",
    "selected_cols_df.head()"
   ]
  },
  {
   "cell_type": "markdown",
   "metadata": {},
   "source": [
    "#### Checking whether there are missing values in the selected columns"
   ]
  },
  {
   "cell_type": "code",
   "execution_count": 48,
   "metadata": {},
   "outputs": [
    {
     "data": {
      "text/plain": [
       "h1n1_concern                   0\n",
       "h1n1_knowledge                 0\n",
       "opinion_h1n1_vacc_effective    0\n",
       "opinion_h1n1_risk              0\n",
       "opinion_h1n1_sick_from_vacc    0\n",
       "opinion_seas_vacc_effective    0\n",
       "opinion_seas_risk              0\n",
       "opinion_seas_sick_from_vacc    0\n",
       "doctor_recc_h1n1               0\n",
       "doctor_recc_seasonal           0\n",
       "sex                            0\n",
       "age_group                      0\n",
       "race                           0\n",
       "dtype: int64"
      ]
     },
     "execution_count": 48,
     "metadata": {},
     "output_type": "execute_result"
    }
   ],
   "source": [
    "selected_cols_df.isna().sum()"
   ]
  },
  {
   "cell_type": "markdown",
   "metadata": {},
   "source": [
    "**Comments**\n",
    "- None of the selected colums have missing values.\n",
    "- It is okay to proceed to feature selection since the data is clean"
   ]
  },
  {
   "cell_type": "code",
   "execution_count": 49,
   "metadata": {},
   "outputs": [],
   "source": [
    "# selected the features and the target variables\n",
    "X = selected_cols_df\n",
    "y = combined_df['seasonal_vaccine']\n",
    "\n",
    "#spliting data into train and test\n",
    "X_train, X_test, y_train, y_test = train_test_split(X, y, test_size = 0.3, random_state = 42)"
   ]
  },
  {
   "cell_type": "code",
   "execution_count": 50,
   "metadata": {},
   "outputs": [
    {
     "data": {
      "text/plain": [
       "h1n1_concern                   float64\n",
       "h1n1_knowledge                 float64\n",
       "opinion_h1n1_vacc_effective    float64\n",
       "opinion_h1n1_risk              float64\n",
       "opinion_h1n1_sick_from_vacc    float64\n",
       "opinion_seas_vacc_effective    float64\n",
       "opinion_seas_risk              float64\n",
       "opinion_seas_sick_from_vacc    float64\n",
       "doctor_recc_h1n1               float64\n",
       "doctor_recc_seasonal           float64\n",
       "sex                             object\n",
       "age_group                       object\n",
       "race                            object\n",
       "dtype: object"
      ]
     },
     "execution_count": 50,
     "metadata": {},
     "output_type": "execute_result"
    }
   ],
   "source": [
    "# check the data types of the data\n",
    "\n",
    "X.dtypes"
   ]
  },
  {
   "cell_type": "markdown",
   "metadata": {},
   "source": [
    "- The `sex `, `age_group ` and `race` columns are categorical columns (object).\n",
    "- The rest of the columns are numerical columns (float64)."
   ]
  },
  {
   "cell_type": "markdown",
   "metadata": {},
   "source": [
    "### Encode categorical data as numbers\n",
    "\n",
    "Since the data currently contains both categorical and numerical data, all the data need to be encoded as numbers. For this, the sklearn's `OneHotEncoder` from `preprocessing` will be used."
   ]
  },
  {
   "cell_type": "code",
   "execution_count": 51,
   "metadata": {},
   "outputs": [
    {
     "data": {
      "text/html": [
       "<div>\n",
       "<style scoped>\n",
       "    .dataframe tbody tr th:only-of-type {\n",
       "        vertical-align: middle;\n",
       "    }\n",
       "\n",
       "    .dataframe tbody tr th {\n",
       "        vertical-align: top;\n",
       "    }\n",
       "\n",
       "    .dataframe thead th {\n",
       "        text-align: right;\n",
       "    }\n",
       "</style>\n",
       "<table border=\"1\" class=\"dataframe\">\n",
       "  <thead>\n",
       "    <tr style=\"text-align: right;\">\n",
       "      <th></th>\n",
       "      <th>h1n1_concern_0.0</th>\n",
       "      <th>h1n1_concern_1.0</th>\n",
       "      <th>h1n1_concern_2.0</th>\n",
       "      <th>h1n1_concern_3.0</th>\n",
       "      <th>h1n1_knowledge_0.0</th>\n",
       "      <th>h1n1_knowledge_1.0</th>\n",
       "      <th>h1n1_knowledge_2.0</th>\n",
       "      <th>opinion_h1n1_vacc_effective_1.0</th>\n",
       "      <th>opinion_h1n1_vacc_effective_2.0</th>\n",
       "      <th>opinion_h1n1_vacc_effective_3.0</th>\n",
       "      <th>...</th>\n",
       "      <th>sex_Male</th>\n",
       "      <th>age_group_18 - 34 Years</th>\n",
       "      <th>age_group_35 - 44 Years</th>\n",
       "      <th>age_group_45 - 54 Years</th>\n",
       "      <th>age_group_55 - 64 Years</th>\n",
       "      <th>age_group_65+ Years</th>\n",
       "      <th>race_Black</th>\n",
       "      <th>race_Hispanic</th>\n",
       "      <th>race_Other or Multiple</th>\n",
       "      <th>race_White</th>\n",
       "    </tr>\n",
       "  </thead>\n",
       "  <tbody>\n",
       "    <tr>\n",
       "      <th>0</th>\n",
       "      <td>0.0</td>\n",
       "      <td>0.0</td>\n",
       "      <td>1.0</td>\n",
       "      <td>0.0</td>\n",
       "      <td>0.0</td>\n",
       "      <td>0.0</td>\n",
       "      <td>1.0</td>\n",
       "      <td>0.0</td>\n",
       "      <td>0.0</td>\n",
       "      <td>0.0</td>\n",
       "      <td>...</td>\n",
       "      <td>1.0</td>\n",
       "      <td>0.0</td>\n",
       "      <td>0.0</td>\n",
       "      <td>0.0</td>\n",
       "      <td>0.0</td>\n",
       "      <td>1.0</td>\n",
       "      <td>0.0</td>\n",
       "      <td>0.0</td>\n",
       "      <td>0.0</td>\n",
       "      <td>1.0</td>\n",
       "    </tr>\n",
       "    <tr>\n",
       "      <th>1</th>\n",
       "      <td>0.0</td>\n",
       "      <td>0.0</td>\n",
       "      <td>1.0</td>\n",
       "      <td>0.0</td>\n",
       "      <td>0.0</td>\n",
       "      <td>1.0</td>\n",
       "      <td>0.0</td>\n",
       "      <td>0.0</td>\n",
       "      <td>0.0</td>\n",
       "      <td>0.0</td>\n",
       "      <td>...</td>\n",
       "      <td>1.0</td>\n",
       "      <td>1.0</td>\n",
       "      <td>0.0</td>\n",
       "      <td>0.0</td>\n",
       "      <td>0.0</td>\n",
       "      <td>0.0</td>\n",
       "      <td>0.0</td>\n",
       "      <td>1.0</td>\n",
       "      <td>0.0</td>\n",
       "      <td>0.0</td>\n",
       "    </tr>\n",
       "    <tr>\n",
       "      <th>2</th>\n",
       "      <td>0.0</td>\n",
       "      <td>0.0</td>\n",
       "      <td>0.0</td>\n",
       "      <td>1.0</td>\n",
       "      <td>0.0</td>\n",
       "      <td>1.0</td>\n",
       "      <td>0.0</td>\n",
       "      <td>0.0</td>\n",
       "      <td>0.0</td>\n",
       "      <td>0.0</td>\n",
       "      <td>...</td>\n",
       "      <td>0.0</td>\n",
       "      <td>0.0</td>\n",
       "      <td>0.0</td>\n",
       "      <td>1.0</td>\n",
       "      <td>0.0</td>\n",
       "      <td>0.0</td>\n",
       "      <td>0.0</td>\n",
       "      <td>0.0</td>\n",
       "      <td>0.0</td>\n",
       "      <td>1.0</td>\n",
       "    </tr>\n",
       "    <tr>\n",
       "      <th>3</th>\n",
       "      <td>0.0</td>\n",
       "      <td>1.0</td>\n",
       "      <td>0.0</td>\n",
       "      <td>0.0</td>\n",
       "      <td>0.0</td>\n",
       "      <td>0.0</td>\n",
       "      <td>1.0</td>\n",
       "      <td>0.0</td>\n",
       "      <td>0.0</td>\n",
       "      <td>0.0</td>\n",
       "      <td>...</td>\n",
       "      <td>1.0</td>\n",
       "      <td>1.0</td>\n",
       "      <td>0.0</td>\n",
       "      <td>0.0</td>\n",
       "      <td>0.0</td>\n",
       "      <td>0.0</td>\n",
       "      <td>0.0</td>\n",
       "      <td>0.0</td>\n",
       "      <td>0.0</td>\n",
       "      <td>1.0</td>\n",
       "    </tr>\n",
       "    <tr>\n",
       "      <th>4</th>\n",
       "      <td>1.0</td>\n",
       "      <td>0.0</td>\n",
       "      <td>0.0</td>\n",
       "      <td>0.0</td>\n",
       "      <td>0.0</td>\n",
       "      <td>0.0</td>\n",
       "      <td>1.0</td>\n",
       "      <td>0.0</td>\n",
       "      <td>0.0</td>\n",
       "      <td>0.0</td>\n",
       "      <td>...</td>\n",
       "      <td>1.0</td>\n",
       "      <td>0.0</td>\n",
       "      <td>0.0</td>\n",
       "      <td>0.0</td>\n",
       "      <td>0.0</td>\n",
       "      <td>1.0</td>\n",
       "      <td>0.0</td>\n",
       "      <td>0.0</td>\n",
       "      <td>0.0</td>\n",
       "      <td>1.0</td>\n",
       "    </tr>\n",
       "  </tbody>\n",
       "</table>\n",
       "<p>5 rows × 52 columns</p>\n",
       "</div>"
      ],
      "text/plain": [
       "   h1n1_concern_0.0  h1n1_concern_1.0  h1n1_concern_2.0  h1n1_concern_3.0  \\\n",
       "0               0.0               0.0               1.0               0.0   \n",
       "1               0.0               0.0               1.0               0.0   \n",
       "2               0.0               0.0               0.0               1.0   \n",
       "3               0.0               1.0               0.0               0.0   \n",
       "4               1.0               0.0               0.0               0.0   \n",
       "\n",
       "   h1n1_knowledge_0.0  h1n1_knowledge_1.0  h1n1_knowledge_2.0  \\\n",
       "0                 0.0                 0.0                 1.0   \n",
       "1                 0.0                 1.0                 0.0   \n",
       "2                 0.0                 1.0                 0.0   \n",
       "3                 0.0                 0.0                 1.0   \n",
       "4                 0.0                 0.0                 1.0   \n",
       "\n",
       "   opinion_h1n1_vacc_effective_1.0  opinion_h1n1_vacc_effective_2.0  \\\n",
       "0                              0.0                              0.0   \n",
       "1                              0.0                              0.0   \n",
       "2                              0.0                              0.0   \n",
       "3                              0.0                              0.0   \n",
       "4                              0.0                              0.0   \n",
       "\n",
       "   opinion_h1n1_vacc_effective_3.0  ...  sex_Male  age_group_18 - 34 Years  \\\n",
       "0                              0.0  ...       1.0                      0.0   \n",
       "1                              0.0  ...       1.0                      1.0   \n",
       "2                              0.0  ...       0.0                      0.0   \n",
       "3                              0.0  ...       1.0                      1.0   \n",
       "4                              0.0  ...       1.0                      0.0   \n",
       "\n",
       "   age_group_35 - 44 Years  age_group_45 - 54 Years  age_group_55 - 64 Years  \\\n",
       "0                      0.0                      0.0                      0.0   \n",
       "1                      0.0                      0.0                      0.0   \n",
       "2                      0.0                      1.0                      0.0   \n",
       "3                      0.0                      0.0                      0.0   \n",
       "4                      0.0                      0.0                      0.0   \n",
       "\n",
       "   age_group_65+ Years  race_Black  race_Hispanic  race_Other or Multiple  \\\n",
       "0                  1.0         0.0            0.0                     0.0   \n",
       "1                  0.0         0.0            1.0                     0.0   \n",
       "2                  0.0         0.0            0.0                     0.0   \n",
       "3                  0.0         0.0            0.0                     0.0   \n",
       "4                  1.0         0.0            0.0                     0.0   \n",
       "\n",
       "   race_White  \n",
       "0         1.0  \n",
       "1         0.0  \n",
       "2         1.0  \n",
       "3         1.0  \n",
       "4         1.0  \n",
       "\n",
       "[5 rows x 52 columns]"
      ]
     },
     "execution_count": 51,
     "metadata": {},
     "output_type": "execute_result"
    }
   ],
   "source": [
    "# One-hot encode the training data and show the resulting DataFrame with proper column names\n",
    "ohe = OneHotEncoder()\n",
    "\n",
    "ohe.fit(X_train)\n",
    "X_train_ohe = ohe.transform(X_train).toarray()\n",
    "\n",
    "# show the result of the ohe\n",
    "ohe_df = pd.DataFrame(X_train_ohe, columns=ohe.get_feature_names_out(X_train.columns))\n",
    "\n",
    "ohe_df.head()"
   ]
  },
  {
   "cell_type": "markdown",
   "metadata": {},
   "source": [
    "### Train the decision tree "
   ]
  },
  {
   "cell_type": "code",
   "execution_count": 52,
   "metadata": {},
   "outputs": [
    {
     "data": {
      "text/html": [
       "<style>#sk-container-id-6 {color: black;}#sk-container-id-6 pre{padding: 0;}#sk-container-id-6 div.sk-toggleable {background-color: white;}#sk-container-id-6 label.sk-toggleable__label {cursor: pointer;display: block;width: 100%;margin-bottom: 0;padding: 0.3em;box-sizing: border-box;text-align: center;}#sk-container-id-6 label.sk-toggleable__label-arrow:before {content: \"▸\";float: left;margin-right: 0.25em;color: #696969;}#sk-container-id-6 label.sk-toggleable__label-arrow:hover:before {color: black;}#sk-container-id-6 div.sk-estimator:hover label.sk-toggleable__label-arrow:before {color: black;}#sk-container-id-6 div.sk-toggleable__content {max-height: 0;max-width: 0;overflow: hidden;text-align: left;background-color: #f0f8ff;}#sk-container-id-6 div.sk-toggleable__content pre {margin: 0.2em;color: black;border-radius: 0.25em;background-color: #f0f8ff;}#sk-container-id-6 input.sk-toggleable__control:checked~div.sk-toggleable__content {max-height: 200px;max-width: 100%;overflow: auto;}#sk-container-id-6 input.sk-toggleable__control:checked~label.sk-toggleable__label-arrow:before {content: \"▾\";}#sk-container-id-6 div.sk-estimator input.sk-toggleable__control:checked~label.sk-toggleable__label {background-color: #d4ebff;}#sk-container-id-6 div.sk-label input.sk-toggleable__control:checked~label.sk-toggleable__label {background-color: #d4ebff;}#sk-container-id-6 input.sk-hidden--visually {border: 0;clip: rect(1px 1px 1px 1px);clip: rect(1px, 1px, 1px, 1px);height: 1px;margin: -1px;overflow: hidden;padding: 0;position: absolute;width: 1px;}#sk-container-id-6 div.sk-estimator {font-family: monospace;background-color: #f0f8ff;border: 1px dotted black;border-radius: 0.25em;box-sizing: border-box;margin-bottom: 0.5em;}#sk-container-id-6 div.sk-estimator:hover {background-color: #d4ebff;}#sk-container-id-6 div.sk-parallel-item::after {content: \"\";width: 100%;border-bottom: 1px solid gray;flex-grow: 1;}#sk-container-id-6 div.sk-label:hover label.sk-toggleable__label {background-color: #d4ebff;}#sk-container-id-6 div.sk-serial::before {content: \"\";position: absolute;border-left: 1px solid gray;box-sizing: border-box;top: 0;bottom: 0;left: 50%;z-index: 0;}#sk-container-id-6 div.sk-serial {display: flex;flex-direction: column;align-items: center;background-color: white;padding-right: 0.2em;padding-left: 0.2em;position: relative;}#sk-container-id-6 div.sk-item {position: relative;z-index: 1;}#sk-container-id-6 div.sk-parallel {display: flex;align-items: stretch;justify-content: center;background-color: white;position: relative;}#sk-container-id-6 div.sk-item::before, #sk-container-id-6 div.sk-parallel-item::before {content: \"\";position: absolute;border-left: 1px solid gray;box-sizing: border-box;top: 0;bottom: 0;left: 50%;z-index: -1;}#sk-container-id-6 div.sk-parallel-item {display: flex;flex-direction: column;z-index: 1;position: relative;background-color: white;}#sk-container-id-6 div.sk-parallel-item:first-child::after {align-self: flex-end;width: 50%;}#sk-container-id-6 div.sk-parallel-item:last-child::after {align-self: flex-start;width: 50%;}#sk-container-id-6 div.sk-parallel-item:only-child::after {width: 0;}#sk-container-id-6 div.sk-dashed-wrapped {border: 1px dashed gray;margin: 0 0.4em 0.5em 0.4em;box-sizing: border-box;padding-bottom: 0.4em;background-color: white;}#sk-container-id-6 div.sk-label label {font-family: monospace;font-weight: bold;display: inline-block;line-height: 1.2em;}#sk-container-id-6 div.sk-label-container {text-align: center;}#sk-container-id-6 div.sk-container {/* jupyter's `normalize.less` sets `[hidden] { display: none; }` but bootstrap.min.css set `[hidden] { display: none !important; }` so we also need the `!important` here to be able to override the default hidden behavior on the sphinx rendered scikit-learn.org. See: https://github.com/scikit-learn/scikit-learn/issues/21755 */display: inline-block !important;position: relative;}#sk-container-id-6 div.sk-text-repr-fallback {display: none;}</style><div id=\"sk-container-id-6\" class=\"sk-top-container\"><div class=\"sk-text-repr-fallback\"><pre>DecisionTreeClassifier(criterion=&#x27;entropy&#x27;, random_state=42)</pre><b>In a Jupyter environment, please rerun this cell to show the HTML representation or trust the notebook. <br />On GitHub, the HTML representation is unable to render, please try loading this page with nbviewer.org.</b></div><div class=\"sk-container\" hidden><div class=\"sk-item\"><div class=\"sk-estimator sk-toggleable\"><input class=\"sk-toggleable__control sk-hidden--visually\" id=\"sk-estimator-id-27\" type=\"checkbox\" checked><label for=\"sk-estimator-id-27\" class=\"sk-toggleable__label sk-toggleable__label-arrow\">DecisionTreeClassifier</label><div class=\"sk-toggleable__content\"><pre>DecisionTreeClassifier(criterion=&#x27;entropy&#x27;, random_state=42)</pre></div></div></div></div></div>"
      ],
      "text/plain": [
       "DecisionTreeClassifier(criterion='entropy', random_state=42)"
      ]
     },
     "execution_count": 52,
     "metadata": {},
     "output_type": "execute_result"
    }
   ],
   "source": [
    "# Create the classifier, fit it on the training data and make predictions on the test set\n",
    "model_2 = DecisionTreeClassifier(criterion='entropy', random_state=42)\n",
    "\n",
    "model_2.fit(X_train_ohe, y_train)"
   ]
  },
  {
   "cell_type": "markdown",
   "metadata": {},
   "source": [
    "### Evaluate the predictive performance Using Probabilities"
   ]
  },
  {
   "cell_type": "markdown",
   "metadata": {},
   "source": [
    "#### Evaluating the model using ROC_AUC Score"
   ]
  },
  {
   "cell_type": "code",
   "execution_count": 53,
   "metadata": {},
   "outputs": [
    {
     "name": "stdout",
     "output_type": "stream",
     "text": [
      "roc_auc for test data: 0.6902\n"
     ]
    }
   ],
   "source": [
    "X_test_ohe = ohe.transform(X_test)\n",
    "\n",
    "# Evaluate the model\n",
    "y_probs = model_2.predict_proba(X_test_ohe)[:, 1]\n",
    "\n",
    "# find the roc_auc score\n",
    "false_positive_rate, true_positive_rate, thresholds = roc_curve(y_test, y_probs)\n",
    "roc_auc = auc(false_positive_rate, true_positive_rate)\n",
    "\n",
    "print(f'roc_auc for test data: {roc_auc:.4f}')"
   ]
  },
  {
   "cell_type": "markdown",
   "metadata": {},
   "source": [
    "##### Creating a function for AUC_ROC Curve"
   ]
  },
  {
   "cell_type": "code",
   "execution_count": 54,
   "metadata": {},
   "outputs": [],
   "source": [
    "\n",
    "def plot_roc_auc(model, X_test, y_test):\n",
    "    # Get predicted probabilities for the positive class (usually the second column in binary classification)\n",
    "    y_preds = model.predict_proba(X_test)[:, 1]\n",
    "    \n",
    "    # Calculate the ROC curve\n",
    "    false_positive_rate, true_positive_rate, thresholds = roc_curve(y_test, y_preds)\n",
    "    \n",
    "    # Calculate the AUC\n",
    "    roc_auc = auc(false_positive_rate, true_positive_rate)\n",
    "    \n",
    "    # Plot the ROC curve\n",
    "    plt.figure(figsize=(8, 6))\n",
    "    plt.plot(false_positive_rate, true_positive_rate, color='blue', lw=2, label=f'ROC curve (area = {roc_auc:.2f})')\n",
    "    plt.plot([0, 1], [0, 1], color='red', linestyle='--')\n",
    "    plt.xlim([0.0, 1.0])\n",
    "    plt.ylim([0.0, 1.05])\n",
    "    plt.xlabel('False Positive Rate')\n",
    "    plt.ylabel('True Positive Rate')\n",
    "    plt.title('Receiver Operating Characteristic (ROC)')\n",
    "    plt.legend(loc='lower right')\n",
    "    plt.grid(True)\n",
    "    \n",
    "    # Show the plot\n",
    "    plt.show()\n",
    "    \n",
    "    # Return the AUC value\n",
    "    return roc_auc\n"
   ]
  },
  {
   "cell_type": "code",
   "execution_count": 55,
   "metadata": {},
   "outputs": [
    {
     "data": {
      "image/png": "[encoded data removed]",
      "text/plain": [
       "<Figure size 576x432 with 1 Axes>"
      ]
     },
     "metadata": {
      "needs_background": "light"
     },
     "output_type": "display_data"
    },
    {
     "name": "stdout",
     "output_type": "stream",
     "text": [
      "AUC for test data: 0.6902\n",
      "roc_auc for training data: 0.9962\n"
     ]
    }
   ],
   "source": [
    "# Plot ROC AUC for model_2\n",
    "auc_value = plot_roc_auc(model_2, X_test_ohe, y_test)\n",
    "print(f'AUC for test data: {auc_value:.4f}')\n",
    "\n",
    "y_train_probs = model_2.predict_proba(X_train_ohe)[:, 1]\n",
    "\n",
    "# Calculate the ROC curve\n",
    "false_positive_rate, true_positive_rate, thresholds = roc_curve(y_train, y_train_probs)\n",
    "\n",
    "# Calculate the AUC\n",
    "roc_auc_train = auc(false_positive_rate, true_positive_rate)\n",
    "\n",
    "print(f'roc_auc for training data: {roc_auc_train:.4f}')\n"
   ]
  },
  {
   "cell_type": "markdown",
   "metadata": {},
   "source": [
    "### Comments\n",
    "\n",
    "- The model performance using the decision tree is lower compaired to the performance of the Logistic Regression Model.\n",
    "- The score roc_auc is 69% whereas the score in the Logistic Regression is 83%.\n",
    "- This might be because the number of features selected in the Logistic Regression Model were higher compaired to the features selected for Decision Tree.\n",
    "- The difference in score might also be caused by overfitting in the desion tree.\n",
    "- To solve the overfitting problem, tree prunning / hyperparameter tuning will be done in the next model"
   ]
  },
  {
   "cell_type": "markdown",
   "metadata": {},
   "source": [
    "### **Model 3: Tree Prunning using Max_Depth**"
   ]
  },
  {
   "cell_type": "markdown",
   "metadata": {},
   "source": [
    "Similar Features that were used to develop the vanilla model are used here. The only difference is that the model is prunned to prevent overfitting"
   ]
  },
  {
   "cell_type": "code",
   "execution_count": 56,
   "metadata": {},
   "outputs": [
    {
     "data": {
      "image/png": "[encoded data removed]",
      "text/plain": [
       "<Figure size 576x432 with 1 Axes>"
      ]
     },
     "metadata": {
      "needs_background": "light"
     },
     "output_type": "display_data"
    },
    {
     "name": "stdout",
     "output_type": "stream",
     "text": [
      "AUC for test data: 0.7828\n",
      "roc_auc: 0.7828\n",
      "roc_auc for training data: 0.7856\n"
     ]
    }
   ],
   "source": [
    "# Create the classifier, fit it on the training data and tune using max_depth=3\n",
    "model_3 = DecisionTreeClassifier(criterion='entropy', max_depth=3, random_state=42)\n",
    "\n",
    "#fit the model\n",
    "model_3.fit(X_train_ohe, y_train)\n",
    "\n",
    "# Evaluate the model\n",
    "X_test_ohe = ohe.transform(X_test)\n",
    "\n",
    "y_probs = model_3.predict_proba(X_test_ohe)[:, 1]\n",
    "\n",
    "# find the roc_auc score\n",
    "false_positive_rate, true_positive_rate, thresholds = roc_curve(y_test, y_probs)\n",
    "roc_auc = auc(false_positive_rate, true_positive_rate)\n",
    "\n",
    "\n",
    "# Plot ROC AUC for model_4\n",
    "auc_value = plot_roc_auc(model_3, X_test_ohe, y_test)\n",
    "\n",
    "#print AUC value and the roc_AUC \n",
    "print(f'AUC for test data: {auc_value:.4f}')\n",
    "print(f'roc_auc: {roc_auc:.4f}')\n",
    "\n",
    "y_train_probs = model_3.predict_proba(X_train_ohe)[:, 1]\n",
    "\n",
    "# Calculate the ROC curve\n",
    "false_positive_rate, true_positive_rate, thresholds = roc_curve(y_train, y_train_probs)\n",
    "\n",
    "# Calculate the AUC\n",
    "roc_auc_train = auc(false_positive_rate, true_positive_rate)\n",
    "\n",
    "print(f'roc_auc for training data: {roc_auc_train:.4f}')"
   ]
  },
  {
   "cell_type": "markdown",
   "metadata": {},
   "source": [
    "### Comments\n",
    "- The model has significantly improved (73% performance score) compaired to the Vanilla decision tree model (69% performance score) that was not prunned.\n",
    "- The Logistic Regression Model that had two target variables still performs better (83% performance score) compaired to the two Decision Tree models.\n",
    "- This might be attributed to the size of the Logistic Regression Model that had a higher number of Features compaired to the features selected for Decision Tree."
   ]
  },
  {
   "cell_type": "markdown",
   "metadata": {},
   "source": [
    "### **Model 4: Prunned Decision Tree (ID3) with more Features Using 1 Target Variable**"
   ]
  },
  {
   "cell_type": "markdown",
   "metadata": {},
   "source": [
    "Here, all the numerical columns that were used to develop the Logistic Regression Model are used.\n",
    "\n",
    "The categorical variables which had shown positive correllation with seasonal_vaccine are also used. These are  `sex`, `age_group` and `race` columns."
   ]
  },
  {
   "cell_type": "code",
   "execution_count": 57,
   "metadata": {},
   "outputs": [
    {
     "name": "stdout",
     "output_type": "stream",
     "text": [
      "               h1n1_concern  h1n1_knowledge  behavioral_antiviral_meds  \\\n",
      "respondent_id                                                            \n",
      "0                       1.0             0.0                        0.0   \n",
      "1                       3.0             2.0                        0.0   \n",
      "2                       1.0             1.0                        0.0   \n",
      "3                       1.0             1.0                        0.0   \n",
      "4                       2.0             1.0                        0.0   \n",
      "...                     ...             ...                        ...   \n",
      "26702                   2.0             0.0                        0.0   \n",
      "26703                   1.0             2.0                        0.0   \n",
      "26704                   2.0             2.0                        0.0   \n",
      "26705                   1.0             1.0                        0.0   \n",
      "26706                   0.0             0.0                        0.0   \n",
      "\n",
      "               behavioral_avoidance  behavioral_face_mask  \\\n",
      "respondent_id                                               \n",
      "0                               0.0                   0.0   \n",
      "1                               1.0                   0.0   \n",
      "2                               1.0                   0.0   \n",
      "3                               1.0                   0.0   \n",
      "4                               1.0                   0.0   \n",
      "...                             ...                   ...   \n",
      "26702                           1.0                   0.0   \n",
      "26703                           1.0                   0.0   \n",
      "26704                           1.0                   1.0   \n",
      "26705                           0.0                   0.0   \n",
      "26706                           1.0                   0.0   \n",
      "\n",
      "               behavioral_wash_hands  behavioral_large_gatherings  \\\n",
      "respondent_id                                                       \n",
      "0                                0.0                          0.0   \n",
      "1                                1.0                          0.0   \n",
      "2                                0.0                          0.0   \n",
      "3                                1.0                          1.0   \n",
      "4                                1.0                          1.0   \n",
      "...                              ...                          ...   \n",
      "26702                            0.0                          0.0   \n",
      "26703                            1.0                          0.0   \n",
      "26704                            1.0                          1.0   \n",
      "26705                            0.0                          0.0   \n",
      "26706                            0.0                          0.0   \n",
      "\n",
      "               behavioral_outside_home  behavioral_touch_face  \\\n",
      "respondent_id                                                   \n",
      "0                                  1.0                    1.0   \n",
      "1                                  1.0                    1.0   \n",
      "2                                  0.0                    0.0   \n",
      "3                                  0.0                    0.0   \n",
      "4                                  0.0                    1.0   \n",
      "...                                ...                    ...   \n",
      "26702                              1.0                    0.0   \n",
      "26703                              0.0                    0.0   \n",
      "26704                              0.0                    1.0   \n",
      "26705                              0.0                    1.0   \n",
      "26706                              0.0                    0.0   \n",
      "\n",
      "               doctor_recc_h1n1  ...  health_worker  health_insurance  \\\n",
      "respondent_id                    ...                                    \n",
      "0                           0.0  ...            0.0               1.0   \n",
      "1                           0.0  ...            0.0               1.0   \n",
      "2                           0.0  ...            0.0               1.0   \n",
      "3                           0.0  ...            0.0               1.0   \n",
      "4                           0.0  ...            0.0               1.0   \n",
      "...                         ...  ...            ...               ...   \n",
      "26702                       0.0  ...            0.0               1.0   \n",
      "26703                       1.0  ...            1.0               1.0   \n",
      "26704                       0.0  ...            0.0               1.0   \n",
      "26705                       0.0  ...            0.0               0.0   \n",
      "26706                       0.0  ...            0.0               1.0   \n",
      "\n",
      "               opinion_h1n1_vacc_effective  opinion_h1n1_risk  \\\n",
      "respondent_id                                                   \n",
      "0                                      3.0                1.0   \n",
      "1                                      5.0                4.0   \n",
      "2                                      3.0                1.0   \n",
      "3                                      3.0                3.0   \n",
      "4                                      3.0                3.0   \n",
      "...                                    ...                ...   \n",
      "26702                                  3.0                1.0   \n",
      "26703                                  4.0                2.0   \n",
      "26704                                  4.0                4.0   \n",
      "26705                                  3.0                1.0   \n",
      "26706                                  5.0                1.0   \n",
      "\n",
      "               opinion_h1n1_sick_from_vacc  opinion_seas_vacc_effective  \\\n",
      "respondent_id                                                             \n",
      "0                                      2.0                          2.0   \n",
      "1                                      4.0                          4.0   \n",
      "2                                      1.0                          4.0   \n",
      "3                                      5.0                          5.0   \n",
      "4                                      2.0                          3.0   \n",
      "...                                    ...                          ...   \n",
      "26702                                  1.0                          5.0   \n",
      "26703                                  2.0                          5.0   \n",
      "26704                                  2.0                          5.0   \n",
      "26705                                  2.0                          2.0   \n",
      "26706                                  1.0                          5.0   \n",
      "\n",
      "               opinion_seas_risk  opinion_seas_sick_from_vacc  \\\n",
      "respondent_id                                                   \n",
      "0                            1.0                          2.0   \n",
      "1                            2.0                          4.0   \n",
      "2                            1.0                          2.0   \n",
      "3                            4.0                          1.0   \n",
      "4                            1.0                          4.0   \n",
      "...                          ...                          ...   \n",
      "26702                        2.0                          2.0   \n",
      "26703                        1.0                          1.0   \n",
      "26704                        4.0                          2.0   \n",
      "26705                        1.0                          2.0   \n",
      "26706                        1.0                          1.0   \n",
      "\n",
      "               household_adults  household_children  \n",
      "respondent_id                                        \n",
      "0                           0.0                 0.0  \n",
      "1                           0.0                 0.0  \n",
      "2                           2.0                 0.0  \n",
      "3                           0.0                 0.0  \n",
      "4                           1.0                 0.0  \n",
      "...                         ...                 ...  \n",
      "26702                       0.0                 0.0  \n",
      "26703                       1.0                 0.0  \n",
      "26704                       0.0                 0.0  \n",
      "26705                       1.0                 0.0  \n",
      "26706                       1.0                 0.0  \n",
      "\n",
      "[26707 rows x 23 columns]\n",
      "                  sex      age_group      race\n",
      "respondent_id                                 \n",
      "0              Female  55 - 64 Years     White\n",
      "1                Male  35 - 44 Years     White\n",
      "2                Male  18 - 34 Years     White\n",
      "3              Female      65+ Years     White\n",
      "4              Female  45 - 54 Years     White\n",
      "...               ...            ...       ...\n",
      "26702          Female      65+ Years     White\n",
      "26703            Male  18 - 34 Years     White\n",
      "26704          Female  55 - 64 Years     White\n",
      "26705          Female  18 - 34 Years  Hispanic\n",
      "26706            Male      65+ Years     White\n",
      "\n",
      "[26707 rows x 3 columns]\n"
     ]
    }
   ],
   "source": [
    "# select numerical features\n",
    "numeric_cols_df = combined_df[numerical]\n",
    "\n",
    "# select categorical features from the selected columns\n",
    "# the colums were previously selected during EDA and used in Model 2 & 3\n",
    "categorical_cols = selected_cols_df.columns[selected_cols_df.dtypes == \"object\"]\n",
    "\n",
    "# Data Frame for selected columns\n",
    "selected_categorical_cols_df = combined_df[categorical_cols]\n",
    "\n",
    "print(numeric_cols_df)\n",
    "print(selected_categorical_cols_df)"
   ]
  },
  {
   "cell_type": "markdown",
   "metadata": {},
   "source": [
    "- There are two different dataframes that need to be joined before using them to develop the fourth Model"
   ]
  },
  {
   "cell_type": "code",
   "execution_count": 58,
   "metadata": {},
   "outputs": [
    {
     "data": {
      "text/html": [
       "<div>\n",
       "<style scoped>\n",
       "    .dataframe tbody tr th:only-of-type {\n",
       "        vertical-align: middle;\n",
       "    }\n",
       "\n",
       "    .dataframe tbody tr th {\n",
       "        vertical-align: top;\n",
       "    }\n",
       "\n",
       "    .dataframe thead th {\n",
       "        text-align: right;\n",
       "    }\n",
       "</style>\n",
       "<table border=\"1\" class=\"dataframe\">\n",
       "  <thead>\n",
       "    <tr style=\"text-align: right;\">\n",
       "      <th></th>\n",
       "      <th>h1n1_concern</th>\n",
       "      <th>h1n1_knowledge</th>\n",
       "      <th>behavioral_antiviral_meds</th>\n",
       "      <th>behavioral_avoidance</th>\n",
       "      <th>behavioral_face_mask</th>\n",
       "      <th>behavioral_wash_hands</th>\n",
       "      <th>behavioral_large_gatherings</th>\n",
       "      <th>behavioral_outside_home</th>\n",
       "      <th>behavioral_touch_face</th>\n",
       "      <th>doctor_recc_h1n1</th>\n",
       "      <th>...</th>\n",
       "      <th>opinion_h1n1_risk</th>\n",
       "      <th>opinion_h1n1_sick_from_vacc</th>\n",
       "      <th>opinion_seas_vacc_effective</th>\n",
       "      <th>opinion_seas_risk</th>\n",
       "      <th>opinion_seas_sick_from_vacc</th>\n",
       "      <th>household_adults</th>\n",
       "      <th>household_children</th>\n",
       "      <th>sex</th>\n",
       "      <th>age_group</th>\n",
       "      <th>race</th>\n",
       "    </tr>\n",
       "    <tr>\n",
       "      <th>respondent_id</th>\n",
       "      <th></th>\n",
       "      <th></th>\n",
       "      <th></th>\n",
       "      <th></th>\n",
       "      <th></th>\n",
       "      <th></th>\n",
       "      <th></th>\n",
       "      <th></th>\n",
       "      <th></th>\n",
       "      <th></th>\n",
       "      <th></th>\n",
       "      <th></th>\n",
       "      <th></th>\n",
       "      <th></th>\n",
       "      <th></th>\n",
       "      <th></th>\n",
       "      <th></th>\n",
       "      <th></th>\n",
       "      <th></th>\n",
       "      <th></th>\n",
       "      <th></th>\n",
       "    </tr>\n",
       "  </thead>\n",
       "  <tbody>\n",
       "    <tr>\n",
       "      <th>0</th>\n",
       "      <td>1.0</td>\n",
       "      <td>0.0</td>\n",
       "      <td>0.0</td>\n",
       "      <td>0.0</td>\n",
       "      <td>0.0</td>\n",
       "      <td>0.0</td>\n",
       "      <td>0.0</td>\n",
       "      <td>1.0</td>\n",
       "      <td>1.0</td>\n",
       "      <td>0.0</td>\n",
       "      <td>...</td>\n",
       "      <td>1.0</td>\n",
       "      <td>2.0</td>\n",
       "      <td>2.0</td>\n",
       "      <td>1.0</td>\n",
       "      <td>2.0</td>\n",
       "      <td>0.0</td>\n",
       "      <td>0.0</td>\n",
       "      <td>Female</td>\n",
       "      <td>55 - 64 Years</td>\n",
       "      <td>White</td>\n",
       "    </tr>\n",
       "    <tr>\n",
       "      <th>1</th>\n",
       "      <td>3.0</td>\n",
       "      <td>2.0</td>\n",
       "      <td>0.0</td>\n",
       "      <td>1.0</td>\n",
       "      <td>0.0</td>\n",
       "      <td>1.0</td>\n",
       "      <td>0.0</td>\n",
       "      <td>1.0</td>\n",
       "      <td>1.0</td>\n",
       "      <td>0.0</td>\n",
       "      <td>...</td>\n",
       "      <td>4.0</td>\n",
       "      <td>4.0</td>\n",
       "      <td>4.0</td>\n",
       "      <td>2.0</td>\n",
       "      <td>4.0</td>\n",
       "      <td>0.0</td>\n",
       "      <td>0.0</td>\n",
       "      <td>Male</td>\n",
       "      <td>35 - 44 Years</td>\n",
       "      <td>White</td>\n",
       "    </tr>\n",
       "    <tr>\n",
       "      <th>2</th>\n",
       "      <td>1.0</td>\n",
       "      <td>1.0</td>\n",
       "      <td>0.0</td>\n",
       "      <td>1.0</td>\n",
       "      <td>0.0</td>\n",
       "      <td>0.0</td>\n",
       "      <td>0.0</td>\n",
       "      <td>0.0</td>\n",
       "      <td>0.0</td>\n",
       "      <td>0.0</td>\n",
       "      <td>...</td>\n",
       "      <td>1.0</td>\n",
       "      <td>1.0</td>\n",
       "      <td>4.0</td>\n",
       "      <td>1.0</td>\n",
       "      <td>2.0</td>\n",
       "      <td>2.0</td>\n",
       "      <td>0.0</td>\n",
       "      <td>Male</td>\n",
       "      <td>18 - 34 Years</td>\n",
       "      <td>White</td>\n",
       "    </tr>\n",
       "    <tr>\n",
       "      <th>3</th>\n",
       "      <td>1.0</td>\n",
       "      <td>1.0</td>\n",
       "      <td>0.0</td>\n",
       "      <td>1.0</td>\n",
       "      <td>0.0</td>\n",
       "      <td>1.0</td>\n",
       "      <td>1.0</td>\n",
       "      <td>0.0</td>\n",
       "      <td>0.0</td>\n",
       "      <td>0.0</td>\n",
       "      <td>...</td>\n",
       "      <td>3.0</td>\n",
       "      <td>5.0</td>\n",
       "      <td>5.0</td>\n",
       "      <td>4.0</td>\n",
       "      <td>1.0</td>\n",
       "      <td>0.0</td>\n",
       "      <td>0.0</td>\n",
       "      <td>Female</td>\n",
       "      <td>65+ Years</td>\n",
       "      <td>White</td>\n",
       "    </tr>\n",
       "    <tr>\n",
       "      <th>4</th>\n",
       "      <td>2.0</td>\n",
       "      <td>1.0</td>\n",
       "      <td>0.0</td>\n",
       "      <td>1.0</td>\n",
       "      <td>0.0</td>\n",
       "      <td>1.0</td>\n",
       "      <td>1.0</td>\n",
       "      <td>0.0</td>\n",
       "      <td>1.0</td>\n",
       "      <td>0.0</td>\n",
       "      <td>...</td>\n",
       "      <td>3.0</td>\n",
       "      <td>2.0</td>\n",
       "      <td>3.0</td>\n",
       "      <td>1.0</td>\n",
       "      <td>4.0</td>\n",
       "      <td>1.0</td>\n",
       "      <td>0.0</td>\n",
       "      <td>Female</td>\n",
       "      <td>45 - 54 Years</td>\n",
       "      <td>White</td>\n",
       "    </tr>\n",
       "  </tbody>\n",
       "</table>\n",
       "<p>5 rows × 26 columns</p>\n",
       "</div>"
      ],
      "text/plain": [
       "               h1n1_concern  h1n1_knowledge  behavioral_antiviral_meds  \\\n",
       "respondent_id                                                            \n",
       "0                       1.0             0.0                        0.0   \n",
       "1                       3.0             2.0                        0.0   \n",
       "2                       1.0             1.0                        0.0   \n",
       "3                       1.0             1.0                        0.0   \n",
       "4                       2.0             1.0                        0.0   \n",
       "\n",
       "               behavioral_avoidance  behavioral_face_mask  \\\n",
       "respondent_id                                               \n",
       "0                               0.0                   0.0   \n",
       "1                               1.0                   0.0   \n",
       "2                               1.0                   0.0   \n",
       "3                               1.0                   0.0   \n",
       "4                               1.0                   0.0   \n",
       "\n",
       "               behavioral_wash_hands  behavioral_large_gatherings  \\\n",
       "respondent_id                                                       \n",
       "0                                0.0                          0.0   \n",
       "1                                1.0                          0.0   \n",
       "2                                0.0                          0.0   \n",
       "3                                1.0                          1.0   \n",
       "4                                1.0                          1.0   \n",
       "\n",
       "               behavioral_outside_home  behavioral_touch_face  \\\n",
       "respondent_id                                                   \n",
       "0                                  1.0                    1.0   \n",
       "1                                  1.0                    1.0   \n",
       "2                                  0.0                    0.0   \n",
       "3                                  0.0                    0.0   \n",
       "4                                  0.0                    1.0   \n",
       "\n",
       "               doctor_recc_h1n1  ...  opinion_h1n1_risk  \\\n",
       "respondent_id                    ...                      \n",
       "0                           0.0  ...                1.0   \n",
       "1                           0.0  ...                4.0   \n",
       "2                           0.0  ...                1.0   \n",
       "3                           0.0  ...                3.0   \n",
       "4                           0.0  ...                3.0   \n",
       "\n",
       "               opinion_h1n1_sick_from_vacc  opinion_seas_vacc_effective  \\\n",
       "respondent_id                                                             \n",
       "0                                      2.0                          2.0   \n",
       "1                                      4.0                          4.0   \n",
       "2                                      1.0                          4.0   \n",
       "3                                      5.0                          5.0   \n",
       "4                                      2.0                          3.0   \n",
       "\n",
       "               opinion_seas_risk  opinion_seas_sick_from_vacc  \\\n",
       "respondent_id                                                   \n",
       "0                            1.0                          2.0   \n",
       "1                            2.0                          4.0   \n",
       "2                            1.0                          2.0   \n",
       "3                            4.0                          1.0   \n",
       "4                            1.0                          4.0   \n",
       "\n",
       "               household_adults  household_children     sex      age_group  \\\n",
       "respondent_id                                                                \n",
       "0                           0.0                 0.0  Female  55 - 64 Years   \n",
       "1                           0.0                 0.0    Male  35 - 44 Years   \n",
       "2                           2.0                 0.0    Male  18 - 34 Years   \n",
       "3                           0.0                 0.0  Female      65+ Years   \n",
       "4                           1.0                 0.0  Female  45 - 54 Years   \n",
       "\n",
       "                race  \n",
       "respondent_id         \n",
       "0              White  \n",
       "1              White  \n",
       "2              White  \n",
       "3              White  \n",
       "4              White  \n",
       "\n",
       "[5 rows x 26 columns]"
      ]
     },
     "execution_count": 58,
     "metadata": {},
     "output_type": "execute_result"
    }
   ],
   "source": [
    "# combining the dataframe\n",
    "large_df = numeric_cols_df.join(selected_categorical_cols_df)\n",
    "large_df.head()"
   ]
  },
  {
   "cell_type": "markdown",
   "metadata": {},
   "source": [
    "- The new data frame consists of 26 different features and it has both numeric and categorical data (23 numeric and 3 categorical).\n",
    "- The data need to be encoded using OneHotEncoder so as to convert all the features to numeric type."
   ]
  },
  {
   "cell_type": "code",
   "execution_count": 59,
   "metadata": {},
   "outputs": [],
   "source": [
    "# selected the features and the target variables\n",
    "X = large_df\n",
    "y = combined_df['seasonal_vaccine']\n",
    "\n",
    "#spliting data into train and test\n",
    "X_train, X_test, y_train, y_test = train_test_split(X, y, test_size = 0.3, random_state = 42)"
   ]
  },
  {
   "cell_type": "markdown",
   "metadata": {},
   "source": [
    "#### Encoding the Data using OneHotEncoder\n",
    "\n",
    "This will convert the entire dataset to numerical"
   ]
  },
  {
   "cell_type": "code",
   "execution_count": 60,
   "metadata": {},
   "outputs": [
    {
     "data": {
      "text/html": [
       "<div>\n",
       "<style scoped>\n",
       "    .dataframe tbody tr th:only-of-type {\n",
       "        vertical-align: middle;\n",
       "    }\n",
       "\n",
       "    .dataframe tbody tr th {\n",
       "        vertical-align: top;\n",
       "    }\n",
       "\n",
       "    .dataframe thead th {\n",
       "        text-align: right;\n",
       "    }\n",
       "</style>\n",
       "<table border=\"1\" class=\"dataframe\">\n",
       "  <thead>\n",
       "    <tr style=\"text-align: right;\">\n",
       "      <th></th>\n",
       "      <th>h1n1_concern_0.0</th>\n",
       "      <th>h1n1_concern_1.0</th>\n",
       "      <th>h1n1_concern_2.0</th>\n",
       "      <th>h1n1_concern_3.0</th>\n",
       "      <th>h1n1_knowledge_0.0</th>\n",
       "      <th>h1n1_knowledge_1.0</th>\n",
       "      <th>h1n1_knowledge_2.0</th>\n",
       "      <th>behavioral_antiviral_meds_0.0</th>\n",
       "      <th>behavioral_antiviral_meds_1.0</th>\n",
       "      <th>behavioral_avoidance_0.0</th>\n",
       "      <th>...</th>\n",
       "      <th>sex_Male</th>\n",
       "      <th>age_group_18 - 34 Years</th>\n",
       "      <th>age_group_35 - 44 Years</th>\n",
       "      <th>age_group_45 - 54 Years</th>\n",
       "      <th>age_group_55 - 64 Years</th>\n",
       "      <th>age_group_65+ Years</th>\n",
       "      <th>race_Black</th>\n",
       "      <th>race_Hispanic</th>\n",
       "      <th>race_Other or Multiple</th>\n",
       "      <th>race_White</th>\n",
       "    </tr>\n",
       "  </thead>\n",
       "  <tbody>\n",
       "    <tr>\n",
       "      <th>0</th>\n",
       "      <td>0.0</td>\n",
       "      <td>0.0</td>\n",
       "      <td>1.0</td>\n",
       "      <td>0.0</td>\n",
       "      <td>0.0</td>\n",
       "      <td>0.0</td>\n",
       "      <td>1.0</td>\n",
       "      <td>1.0</td>\n",
       "      <td>0.0</td>\n",
       "      <td>1.0</td>\n",
       "      <td>...</td>\n",
       "      <td>1.0</td>\n",
       "      <td>0.0</td>\n",
       "      <td>0.0</td>\n",
       "      <td>0.0</td>\n",
       "      <td>0.0</td>\n",
       "      <td>1.0</td>\n",
       "      <td>0.0</td>\n",
       "      <td>0.0</td>\n",
       "      <td>0.0</td>\n",
       "      <td>1.0</td>\n",
       "    </tr>\n",
       "    <tr>\n",
       "      <th>1</th>\n",
       "      <td>0.0</td>\n",
       "      <td>0.0</td>\n",
       "      <td>1.0</td>\n",
       "      <td>0.0</td>\n",
       "      <td>0.0</td>\n",
       "      <td>1.0</td>\n",
       "      <td>0.0</td>\n",
       "      <td>1.0</td>\n",
       "      <td>0.0</td>\n",
       "      <td>0.0</td>\n",
       "      <td>...</td>\n",
       "      <td>1.0</td>\n",
       "      <td>1.0</td>\n",
       "      <td>0.0</td>\n",
       "      <td>0.0</td>\n",
       "      <td>0.0</td>\n",
       "      <td>0.0</td>\n",
       "      <td>0.0</td>\n",
       "      <td>1.0</td>\n",
       "      <td>0.0</td>\n",
       "      <td>0.0</td>\n",
       "    </tr>\n",
       "    <tr>\n",
       "      <th>2</th>\n",
       "      <td>0.0</td>\n",
       "      <td>0.0</td>\n",
       "      <td>0.0</td>\n",
       "      <td>1.0</td>\n",
       "      <td>0.0</td>\n",
       "      <td>1.0</td>\n",
       "      <td>0.0</td>\n",
       "      <td>1.0</td>\n",
       "      <td>0.0</td>\n",
       "      <td>0.0</td>\n",
       "      <td>...</td>\n",
       "      <td>0.0</td>\n",
       "      <td>0.0</td>\n",
       "      <td>0.0</td>\n",
       "      <td>1.0</td>\n",
       "      <td>0.0</td>\n",
       "      <td>0.0</td>\n",
       "      <td>0.0</td>\n",
       "      <td>0.0</td>\n",
       "      <td>0.0</td>\n",
       "      <td>1.0</td>\n",
       "    </tr>\n",
       "    <tr>\n",
       "      <th>3</th>\n",
       "      <td>0.0</td>\n",
       "      <td>1.0</td>\n",
       "      <td>0.0</td>\n",
       "      <td>0.0</td>\n",
       "      <td>0.0</td>\n",
       "      <td>0.0</td>\n",
       "      <td>1.0</td>\n",
       "      <td>1.0</td>\n",
       "      <td>0.0</td>\n",
       "      <td>1.0</td>\n",
       "      <td>...</td>\n",
       "      <td>1.0</td>\n",
       "      <td>1.0</td>\n",
       "      <td>0.0</td>\n",
       "      <td>0.0</td>\n",
       "      <td>0.0</td>\n",
       "      <td>0.0</td>\n",
       "      <td>0.0</td>\n",
       "      <td>0.0</td>\n",
       "      <td>0.0</td>\n",
       "      <td>1.0</td>\n",
       "    </tr>\n",
       "    <tr>\n",
       "      <th>4</th>\n",
       "      <td>1.0</td>\n",
       "      <td>0.0</td>\n",
       "      <td>0.0</td>\n",
       "      <td>0.0</td>\n",
       "      <td>0.0</td>\n",
       "      <td>0.0</td>\n",
       "      <td>1.0</td>\n",
       "      <td>1.0</td>\n",
       "      <td>0.0</td>\n",
       "      <td>0.0</td>\n",
       "      <td>...</td>\n",
       "      <td>1.0</td>\n",
       "      <td>0.0</td>\n",
       "      <td>0.0</td>\n",
       "      <td>0.0</td>\n",
       "      <td>0.0</td>\n",
       "      <td>1.0</td>\n",
       "      <td>0.0</td>\n",
       "      <td>0.0</td>\n",
       "      <td>0.0</td>\n",
       "      <td>1.0</td>\n",
       "    </tr>\n",
       "  </tbody>\n",
       "</table>\n",
       "<p>5 rows × 82 columns</p>\n",
       "</div>"
      ],
      "text/plain": [
       "   h1n1_concern_0.0  h1n1_concern_1.0  h1n1_concern_2.0  h1n1_concern_3.0  \\\n",
       "0               0.0               0.0               1.0               0.0   \n",
       "1               0.0               0.0               1.0               0.0   \n",
       "2               0.0               0.0               0.0               1.0   \n",
       "3               0.0               1.0               0.0               0.0   \n",
       "4               1.0               0.0               0.0               0.0   \n",
       "\n",
       "   h1n1_knowledge_0.0  h1n1_knowledge_1.0  h1n1_knowledge_2.0  \\\n",
       "0                 0.0                 0.0                 1.0   \n",
       "1                 0.0                 1.0                 0.0   \n",
       "2                 0.0                 1.0                 0.0   \n",
       "3                 0.0                 0.0                 1.0   \n",
       "4                 0.0                 0.0                 1.0   \n",
       "\n",
       "   behavioral_antiviral_meds_0.0  behavioral_antiviral_meds_1.0  \\\n",
       "0                            1.0                            0.0   \n",
       "1                            1.0                            0.0   \n",
       "2                            1.0                            0.0   \n",
       "3                            1.0                            0.0   \n",
       "4                            1.0                            0.0   \n",
       "\n",
       "   behavioral_avoidance_0.0  ...  sex_Male  age_group_18 - 34 Years  \\\n",
       "0                       1.0  ...       1.0                      0.0   \n",
       "1                       0.0  ...       1.0                      1.0   \n",
       "2                       0.0  ...       0.0                      0.0   \n",
       "3                       1.0  ...       1.0                      1.0   \n",
       "4                       0.0  ...       1.0                      0.0   \n",
       "\n",
       "   age_group_35 - 44 Years  age_group_45 - 54 Years  age_group_55 - 64 Years  \\\n",
       "0                      0.0                      0.0                      0.0   \n",
       "1                      0.0                      0.0                      0.0   \n",
       "2                      0.0                      1.0                      0.0   \n",
       "3                      0.0                      0.0                      0.0   \n",
       "4                      0.0                      0.0                      0.0   \n",
       "\n",
       "   age_group_65+ Years  race_Black  race_Hispanic  race_Other or Multiple  \\\n",
       "0                  1.0         0.0            0.0                     0.0   \n",
       "1                  0.0         0.0            1.0                     0.0   \n",
       "2                  0.0         0.0            0.0                     0.0   \n",
       "3                  0.0         0.0            0.0                     0.0   \n",
       "4                  1.0         0.0            0.0                     0.0   \n",
       "\n",
       "   race_White  \n",
       "0         1.0  \n",
       "1         0.0  \n",
       "2         1.0  \n",
       "3         1.0  \n",
       "4         1.0  \n",
       "\n",
       "[5 rows x 82 columns]"
      ]
     },
     "execution_count": 60,
     "metadata": {},
     "output_type": "execute_result"
    }
   ],
   "source": [
    "# One-hot encode the training data and show the resulting DataFrame with proper column names\n",
    "ohe = OneHotEncoder()\n",
    "\n",
    "ohe.fit(X_train)\n",
    "X_train_ohe = ohe.transform(X_train).toarray()\n",
    "\n",
    "#encode the test data\n",
    "X_test_ohe = ohe.transform(X_test).toarray()\n",
    "\n",
    "#show the result of the ohe on train dataset\n",
    "ohe_df = pd.DataFrame(X_train_ohe, columns=ohe.get_feature_names_out(X_train.columns))\n",
    "\n",
    "ohe_df.head()"
   ]
  },
  {
   "cell_type": "markdown",
   "metadata": {},
   "source": [
    "### Hyperparameter Tuning: Identify maximum tree depth \n",
    "\n",
    "To create the best decision tree model, the optimal depth for the model had to be identified.\n",
    "\n",
    "The graph showing the performance of a model as a function of the training process, AUC (Area Under the Curve),  for both the training set (in blue) and the test set (in red) as the training progresses is created here.\n",
    "\n",
    "The graph will show overfitting, undefitting and optimal values."
   ]
  },
  {
   "cell_type": "code",
   "execution_count": 61,
   "metadata": {},
   "outputs": [
    {
     "data": {
      "image/png": "[encoded data removed]",
      "text/plain": [
       "<Figure size 864x432 with 1 Axes>"
      ]
     },
     "metadata": {
      "needs_background": "light"
     },
     "output_type": "display_data"
    }
   ],
   "source": [
    "# Identify the optimal tree depth for given data\n",
    "max_depths = list(range(1, 33))\n",
    "train_results = []\n",
    "test_results = []\n",
    "\n",
    "for max_depth in max_depths:\n",
    "    dt = DecisionTreeClassifier(criterion='entropy', max_depth=max_depth, random_state=42)\n",
    "    dt.fit(X_train_ohe, y_train)\n",
    "    train_pred = dt.predict(X_train_ohe)\n",
    "    false_positive_rate, true_positive_rate, thresholds = roc_curve(y_train, train_pred)\n",
    "    roc_auc = auc(false_positive_rate, true_positive_rate)\n",
    "\n",
    "    # Add auc score to previous train results\n",
    "    train_results.append(roc_auc)\n",
    "    y_pred = dt.predict(X_test_ohe)\n",
    "    false_positive_rate, true_positive_rate, thresholds = roc_curve(y_test, y_pred)\n",
    "    roc_auc = auc(false_positive_rate, true_positive_rate)\n",
    "    \n",
    "    # Add auc score to previous test results\n",
    "    test_results.append(roc_auc)\n",
    "\n",
    "plt.figure(figsize=(12,6))\n",
    "plt.plot(max_depths, train_results, 'b', label='Train AUC')\n",
    "plt.plot(max_depths, test_results, 'r', label='Test AUC')\n",
    "plt.ylabel('AUC score')\n",
    "plt.xlabel('Tree depth')\n",
    "plt.legend()\n",
    "plt.show()"
   ]
  },
  {
   "cell_type": "markdown",
   "metadata": {},
   "source": [
    "#### Comments on the Maximum Depth Graph\n",
    "\n",
    "- The AUC score on the training data (**Blue Curve**) increases continuously as the model is trained since the model is learning the patterns in the training data. The model improves at predicting the outcomes for the training set as it continues to learn the data.\n",
    "\n",
    "- The AUC score on the test data (**Red Curve**) initially increases along with the training AUC, indicating that the model is generalizing well to unseen data at the start until it starts to decline the depth of about 7 even as the Train AUC continues to rise.\n",
    "\n",
    "- The decline in the performance of the Test Data whereas the training data performance continues to increase indicate that the model has become overfitted.\n",
    "\n",
    "- 7 is therefore the optimal depth that will be used to tune the model\n",
    "\n",
    "\n",
    "\n",
    "\n",
    "\n"
   ]
  },
  {
   "cell_type": "markdown",
   "metadata": {},
   "source": [
    "#### Develop and Test the Model"
   ]
  },
  {
   "cell_type": "code",
   "execution_count": 62,
   "metadata": {},
   "outputs": [
    {
     "data": {
      "image/png": "[encoded data removed]",
      "text/plain": [
       "<Figure size 576x432 with 1 Axes>"
      ]
     },
     "metadata": {
      "needs_background": "light"
     },
     "output_type": "display_data"
    },
    {
     "name": "stdout",
     "output_type": "stream",
     "text": [
      "roc_auc for test data: 0.8312\n",
      "AUC for test data: 0.8312\n",
      "roc_auc for training data: 0.8491\n"
     ]
    }
   ],
   "source": [
    "# Create the ID3 classifier and prune the model using max_depth=8\n",
    "model_4 = DecisionTreeClassifier(criterion='entropy', max_depth=7, random_state=42)\n",
    "\n",
    "#fit the model\n",
    "model_4.fit(X_train_ohe, y_train)\n",
    "\n",
    "# Evaluate the model\n",
    "y_probs = model_4.predict_proba(X_test_ohe)[:, 1]\n",
    "\n",
    "# find the roc_auc score\n",
    "false_positive_rate, true_positive_rate, thresholds = roc_curve(y_test, y_probs)\n",
    "roc_auc = auc(false_positive_rate, true_positive_rate)\n",
    "\n",
    "# Plot ROC AUC for model_4\n",
    "auc_value = plot_roc_auc(model_4, X_test_ohe, y_test)\n",
    "\n",
    "# print ROC_AUC and AUC values\n",
    "print(f'roc_auc for test data: {roc_auc:.4f}')\n",
    "print(f'AUC for test data: {auc_value:.4f}')\n",
    "\n",
    "y_train_probs = model_4.predict_proba(X_train_ohe)[:, 1]\n",
    "\n",
    "# Calculate the ROC curve\n",
    "false_positive_rate, true_positive_rate, thresholds = roc_curve(y_train, y_train_probs)\n",
    "\n",
    "# Calculate the AUC\n",
    "roc_auc_train = auc(false_positive_rate, true_positive_rate)\n",
    "\n",
    "print(f'roc_auc for training data: {roc_auc_train:.4f}')"
   ]
  },
  {
   "cell_type": "markdown",
   "metadata": {},
   "source": [
    "#### Comments on Model 4 Performance\n",
    "\n",
    "- The performance of the model has significantly improved (83% auc_roc score) compaired to the second and third models which were both decision tree models but had a performance of 69% and 78% respectively.\n",
    "- This improvement in performance is attributed to the use of more features and the use of correct depth limit achieved through hyperparameter tuning.\n",
    "- The model however, has thesame performance when compaired to the Logistic Regression model that had a performance score of 83% despite model four having more features than the Logistic Regression Model.\n",
    "- To further improve the performance of the Decision Tree Classifier, other tree prunning methods like (minimum samples with leaf split, minimum leaf sample size, maximum leaf nodes, and maximum features) can be used instead of using miaximum depth alone."
   ]
  },
  {
   "cell_type": "markdown",
   "metadata": {},
   "source": [
    "## **`FINDINGS AND RECOMMENDATIONS`**\n",
    "\n",
    "### **`FINDINGS`**\n",
    "1. Logistic Regression Model has an average roc_auc score of 83.07% indicating that the model performs well in predicting H1N1 and Seasonal Flu Vaccines uptake\n",
    "2. The Vanilla Decision Tree Model has an roc_auc score of 69% which is a poor performance compaired to the logistic regression model. This indicate that use of less variables without hypeperameter tuning results to poor model performance in Decision Trees.\n",
    "3. The tuned decision tree using similar features as the Vanilla model had a n roc_auc score of 78% indicating that proper prunning of decision tree can lead to good performance of a model\n",
    "4. The tuned decision tree that was developed using an optimal depth with more three more features (`sex`, `race` and `age_group`) compaired to the logistic regression that had only 23 features performed better than all the models  (roc_auc of 83.12%). This indicate that with proper tuning and increasing the number features the model ca perform better in predicting vaccines\n",
    "\n",
    "\n",
    "\n",
    "### **`Recommendations`**\n",
    "1. When performing hypeparameter tuning for the decision tree classifier, only the Maximum Depth was used. To improve the performance of the Decision Tree Classifier, other tree prunning methods like (minimum samples with leaf split, minimum leaf sample size, maximum leaf nodes, and maximum features) can be used instead of using miaximum depth alone.\n",
    "2. The decision tree classifier used only one target variable (seasonal_vaccine). Both outcomes can be included in the decision tree model to determine whether the model performance will improve."
   ]
  }
 ],
 "metadata": {
  "kernelspec": {
   "display_name": "learn-env",
   "language": "python",
   "name": "python3"
  },
  "language_info": {
   "codemirror_mode": {
    "name": "ipython",
    "version": 3
   },
   "file_extension": ".py",
   "mimetype": "text/x-python",
   "name": "python",
   "nbconvert_exporter": "python",
   "pygments_lexer": "ipython3",
   "version": "3.8.5"
  }
 },
 "nbformat": 4,
 "nbformat_minor": 2
}
